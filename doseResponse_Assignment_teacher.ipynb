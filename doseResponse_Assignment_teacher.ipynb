{
 "cells": [
  {
   "cell_type": "markdown",
   "metadata": {
    "id": "mPYU3pRE6j5s"
   },
   "source": [
    "# Dose–Response Relationships  \n",
    "\n",
    "## Tasks \n",
    "Within this notebook you will:  \n",
    "\n",
    "1) Examine and interpret a dose-response dataset of PC9 lung adenocarcinoma cells harboring EGFR-ex19del and several derived sublines using Thunor.  \n",
    "2) Compare 72 h viability vs DIP rate-based dose-response curves of all cell lines treated with afatinib\n",
    "2) Download the data and perform analyses on subsets of the data using Python  \n",
    "3) Compare   \n",
    "4)   \n"
   ]
  },
  {
   "cell_type": "markdown",
   "metadata": {
    "id": "--7S3yToJ858"
   },
   "source": [
    "You can learn more about Thunor web and how to use it in [this tutorial](https://youtu.be/q4LQCjuBnmg).  \n"
   ]
  },
  {
   "cell_type": "markdown",
   "metadata": {
    "id": "rk7tOb4O6j5t"
   },
   "source": [
    "## Dose–response relationships  \n",
    "\n",
    "Task 1) \n",
    "Got to [thunor.app.vanderbilt.edu](thunor.app.vanderbilt.edu) and open the HTS001 dataset\n",
    "Compare the responses of all cell lines to afatinib using activity area, observed as the metric for \n"
   ]
  },
  {
   "cell_type": "code",
   "execution_count": 1,
   "metadata": {
    "colab": {
     "base_uri": "https://localhost:8080/"
    },
    "id": "khJP1y9J-PFx",
    "outputId": "47a5fab9-7026-4ab5-e0cb-b6930e1b5cd6"
   },
   "outputs": [],
   "source": [
    "try:\n",
    "  import google.colab\n",
    "  IN_COLAB = True\n",
    "except:\n",
    "  IN_COLAB = False\n",
    "\n",
    "if IN_COLAB:\n",
    "    !pip install thunor"
   ]
  },
  {
   "cell_type": "code",
   "execution_count": 2,
   "metadata": {
    "id": "S7arIb5p6j5v"
   },
   "outputs": [],
   "source": [
    "import os\n",
    "import pandas as pd\n",
    "import numpy as np\n",
    "import scipy.optimize as opt\n",
    "import matplotlib.pyplot as plt\n",
    "import seaborn as sns\n",
    "import thunor\n",
    "from thunor.io import read_hdf\n",
    "from thunor.dip import dip_rates\n",
    "from thunor.curve_fit import fit_params\n",
    "%matplotlib inline"
   ]
  },
  {
   "cell_type": "markdown",
   "metadata": {
    "id": "OEqLRV9i6j5v"
   },
   "source": [
    "#### Define model functions"
   ]
  },
  {
   "cell_type": "code",
   "execution_count": 3,
   "metadata": {
    "id": "xLwsKFPX6j5v"
   },
   "outputs": [],
   "source": [
    "def ll4(x,h,E0,Emax,EC50):\n",
    "    '''\n",
    "    Reformulation of the LL4 function\n",
    "     - h: Hill coefficient\n",
    "     - E0: no-drug effect\n",
    "     - Emax: max effect\n",
    "     - EC50: Concentration at midpoint between E0 and Emax\n",
    "     '''\n",
    "    return(Emax + (E0-Emax) / (1+np.exp(h*(np.log(x/EC50)))) )\n",
    "\n",
    "def viability(x,b,d,e):\n",
    "    '''\n",
    "    3-parameter log-logistic function with no effect set to a value of 1\n",
    "     - b: Hill coefficient\n",
    "     - d: Emax\n",
    "     - e: EC50\n",
    "     '''\n",
    "    return(d + (1-d) / ( 1+np.exp( b*np.log(x/e)) ) )"
   ]
  },
  {
   "cell_type": "markdown",
   "metadata": {
    "id": "rsr7s8lF6j5w"
   },
   "source": [
    "#### Load all PC9 data using Thunor"
   ]
  },
  {
   "cell_type": "code",
   "execution_count": 4,
   "metadata": {
    "colab": {
     "base_uri": "https://localhost:8080/"
    },
    "id": "XNV4lefh6j5w",
    "outputId": "7203a09e-bd59-4a31-eeb7-f1466868b5ad"
   },
   "outputs": [],
   "source": [
    "if IN_COLAB and not os.path.exists(\"./data/HTS001.h5\"):\n",
    "    if not os.path.exists(\"./data\"):\n",
    "        !mkdir data\n",
    "    !wget -O ./data/HTS001.h5 https://github.com/VU-CSP/quantbio-assignments/raw/main/data/HTS001.h5\n",
    "    \n",
    "if not IN_COLAB and not os.path.exists(\"./data/HTS001.h5\"):\n",
    "    print(\"HTS001.h5 not found. Attempting to download\")\n",
    "    "
   ]
  },
  {
   "cell_type": "markdown",
   "metadata": {
    "id": "4vfqV7ej_u4G"
   },
   "source": [
    "#### Description of HTS001.h5 dataset  \n",
    "\n",
    "* PC9 lung adenocarcinoma cell line and six PC9 variants, each treated with 14 different drugs\n",
    "* All cell lines were genetically modified to express a nuclear-localized fluorescent protein (H2BmRFP) and assessed by live-cell fluorescence microscopy in multiwell plates\n",
    "* No cell death indicator was used in these experiments (i.e., some of the cell counts may be of dead cells that retained fluorescent nuclear signal)"
   ]
  },
  {
   "cell_type": "code",
   "execution_count": 5,
   "metadata": {
    "colab": {
     "base_uri": "https://localhost:8080/"
    },
    "id": "AGPMg7hx_veF",
    "outputId": "3b90f959-4773-4fc4-95fd-8c0a0faa7904"
   },
   "outputs": [
    {
     "ename": "OSError",
     "evalue": "``/Users/darren/git-repos/quantbio-assignments/data/HTS001.h5`` does not exist",
     "output_type": "error",
     "traceback": [
      "\u001b[0;31m---------------------------------------------------------------------------\u001b[0m",
      "\u001b[0;31mOSError\u001b[0m                                   Traceback (most recent call last)",
      "Cell \u001b[0;32mIn[5], line 1\u001b[0m\n\u001b[0;32m----> 1\u001b[0m hts001 \u001b[38;5;241m=\u001b[39m \u001b[43mread_hdf\u001b[49m\u001b[43m(\u001b[49m\u001b[38;5;124;43m\"\u001b[39;49m\u001b[38;5;124;43m./data/HTS001.h5\u001b[39;49m\u001b[38;5;124;43m\"\u001b[39;49m\u001b[43m)\u001b[49m\n\u001b[1;32m      2\u001b[0m hts001\n",
      "File \u001b[0;32m/opt/anaconda3/envs/thunor/lib/python3.11/site-packages/thunor/io.py:953\u001b[0m, in \u001b[0;36mread_hdf\u001b[0;34m(filename_or_buffer)\u001b[0m\n\u001b[1;32m    939\u001b[0m \u001b[38;5;28;01mdef\u001b[39;00m \u001b[38;5;21mread_hdf\u001b[39m(filename_or_buffer):\n\u001b[1;32m    940\u001b[0m     \u001b[38;5;124;03m\"\"\"\u001b[39;00m\n\u001b[1;32m    941\u001b[0m \u001b[38;5;124;03m    Read a HtsPandas dataset from Thunor HDF5 format file\u001b[39;00m\n\u001b[1;32m    942\u001b[0m \n\u001b[0;32m   (...)\u001b[0m\n\u001b[1;32m    951\u001b[0m \u001b[38;5;124;03m        Thunor HTS dataset\u001b[39;00m\n\u001b[1;32m    952\u001b[0m \u001b[38;5;124;03m    \"\"\"\u001b[39;00m\n\u001b[0;32m--> 953\u001b[0m     hts_pandas \u001b[38;5;241m=\u001b[39m \u001b[43m_read_hdf_unstacked\u001b[49m\u001b[43m(\u001b[49m\u001b[43mfilename_or_buffer\u001b[49m\u001b[43m)\u001b[49m\n\u001b[1;32m    954\u001b[0m     _stack_doses(hts_pandas\u001b[38;5;241m.\u001b[39mdoses, inplace\u001b[38;5;241m=\u001b[39m\u001b[38;5;28;01mTrue\u001b[39;00m)\n\u001b[1;32m    956\u001b[0m     \u001b[38;5;28;01mif\u001b[39;00m \u001b[38;5;124m'\u001b[39m\u001b[38;5;124mdataset\u001b[39m\u001b[38;5;124m'\u001b[39m \u001b[38;5;129;01min\u001b[39;00m hts_pandas\u001b[38;5;241m.\u001b[39mdoses\u001b[38;5;241m.\u001b[39mcolumns:\n",
      "File \u001b[0;32m/opt/anaconda3/envs/thunor/lib/python3.11/site-packages/thunor/io.py:976\u001b[0m, in \u001b[0;36m_read_hdf_unstacked\u001b[0;34m(filename_or_buffer)\u001b[0m\n\u001b[1;32m    969\u001b[0m         filename_or_buffer \u001b[38;5;241m=\u001b[39m filename_or_buffer\u001b[38;5;241m.\u001b[39mread()\n\u001b[1;32m    970\u001b[0m     hdf_kwargs\u001b[38;5;241m.\u001b[39mupdate({\n\u001b[1;32m    971\u001b[0m         \u001b[38;5;124m'\u001b[39m\u001b[38;5;124mpath\u001b[39m\u001b[38;5;124m'\u001b[39m: \u001b[38;5;124m'\u001b[39m\u001b[38;5;124mdata.h5\u001b[39m\u001b[38;5;124m'\u001b[39m,\n\u001b[1;32m    972\u001b[0m         \u001b[38;5;124m'\u001b[39m\u001b[38;5;124mdriver\u001b[39m\u001b[38;5;124m'\u001b[39m: \u001b[38;5;124m'\u001b[39m\u001b[38;5;124mH5FD_CORE\u001b[39m\u001b[38;5;124m'\u001b[39m,\n\u001b[1;32m    973\u001b[0m         \u001b[38;5;124m'\u001b[39m\u001b[38;5;124mdriver_core_backing_store\u001b[39m\u001b[38;5;124m'\u001b[39m: \u001b[38;5;241m0\u001b[39m,\n\u001b[1;32m    974\u001b[0m         \u001b[38;5;124m'\u001b[39m\u001b[38;5;124mdriver_core_image\u001b[39m\u001b[38;5;124m'\u001b[39m: filename_or_buffer\n\u001b[1;32m    975\u001b[0m     })\n\u001b[0;32m--> 976\u001b[0m \u001b[38;5;28;01mwith\u001b[39;00m \u001b[43mpd\u001b[49m\u001b[38;5;241;43m.\u001b[39;49m\u001b[43mHDFStore\u001b[49m\u001b[43m(\u001b[49m\u001b[38;5;241;43m*\u001b[39;49m\u001b[38;5;241;43m*\u001b[39;49m\u001b[43mhdf_kwargs\u001b[49m\u001b[43m)\u001b[49m \u001b[38;5;28;01mas\u001b[39;00m hdf:\n\u001b[1;32m    977\u001b[0m     df_assays \u001b[38;5;241m=\u001b[39m hdf[\u001b[38;5;124m'\u001b[39m\u001b[38;5;124massays\u001b[39m\u001b[38;5;124m'\u001b[39m]\n\u001b[1;32m    978\u001b[0m     \u001b[38;5;28;01mtry\u001b[39;00m:\n",
      "File \u001b[0;32m/opt/anaconda3/envs/thunor/lib/python3.11/site-packages/pandas/io/pytables.py:578\u001b[0m, in \u001b[0;36mHDFStore.__init__\u001b[0;34m(self, path, mode, complevel, complib, fletcher32, **kwargs)\u001b[0m\n\u001b[1;32m    576\u001b[0m \u001b[38;5;28mself\u001b[39m\u001b[38;5;241m.\u001b[39m_fletcher32 \u001b[38;5;241m=\u001b[39m fletcher32\n\u001b[1;32m    577\u001b[0m \u001b[38;5;28mself\u001b[39m\u001b[38;5;241m.\u001b[39m_filters \u001b[38;5;241m=\u001b[39m \u001b[38;5;28;01mNone\u001b[39;00m\n\u001b[0;32m--> 578\u001b[0m \u001b[38;5;28;43mself\u001b[39;49m\u001b[38;5;241;43m.\u001b[39;49m\u001b[43mopen\u001b[49m\u001b[43m(\u001b[49m\u001b[43mmode\u001b[49m\u001b[38;5;241;43m=\u001b[39;49m\u001b[43mmode\u001b[49m\u001b[43m,\u001b[49m\u001b[43m \u001b[49m\u001b[38;5;241;43m*\u001b[39;49m\u001b[38;5;241;43m*\u001b[39;49m\u001b[43mkwargs\u001b[49m\u001b[43m)\u001b[49m\n",
      "File \u001b[0;32m/opt/anaconda3/envs/thunor/lib/python3.11/site-packages/pandas/io/pytables.py:737\u001b[0m, in \u001b[0;36mHDFStore.open\u001b[0;34m(self, mode, **kwargs)\u001b[0m\n\u001b[1;32m    731\u001b[0m     msg \u001b[38;5;241m=\u001b[39m (\n\u001b[1;32m    732\u001b[0m         \u001b[38;5;124m\"\u001b[39m\u001b[38;5;124mCannot open HDF5 file, which is already opened, \u001b[39m\u001b[38;5;124m\"\u001b[39m\n\u001b[1;32m    733\u001b[0m         \u001b[38;5;124m\"\u001b[39m\u001b[38;5;124meven in read-only mode.\u001b[39m\u001b[38;5;124m\"\u001b[39m\n\u001b[1;32m    734\u001b[0m     )\n\u001b[1;32m    735\u001b[0m     \u001b[38;5;28;01mraise\u001b[39;00m \u001b[38;5;167;01mValueError\u001b[39;00m(msg)\n\u001b[0;32m--> 737\u001b[0m \u001b[38;5;28mself\u001b[39m\u001b[38;5;241m.\u001b[39m_handle \u001b[38;5;241m=\u001b[39m \u001b[43mtables\u001b[49m\u001b[38;5;241;43m.\u001b[39;49m\u001b[43mopen_file\u001b[49m\u001b[43m(\u001b[49m\u001b[38;5;28;43mself\u001b[39;49m\u001b[38;5;241;43m.\u001b[39;49m\u001b[43m_path\u001b[49m\u001b[43m,\u001b[49m\u001b[43m \u001b[49m\u001b[38;5;28;43mself\u001b[39;49m\u001b[38;5;241;43m.\u001b[39;49m\u001b[43m_mode\u001b[49m\u001b[43m,\u001b[49m\u001b[43m \u001b[49m\u001b[38;5;241;43m*\u001b[39;49m\u001b[38;5;241;43m*\u001b[39;49m\u001b[43mkwargs\u001b[49m\u001b[43m)\u001b[49m\n",
      "File \u001b[0;32m/opt/anaconda3/envs/thunor/lib/python3.11/site-packages/tables/file.py:300\u001b[0m, in \u001b[0;36mopen_file\u001b[0;34m(filename, mode, title, root_uep, filters, **kwargs)\u001b[0m\n\u001b[1;32m    295\u001b[0m             \u001b[38;5;28;01mraise\u001b[39;00m \u001b[38;5;167;01mValueError\u001b[39;00m(\n\u001b[1;32m    296\u001b[0m                 \u001b[38;5;124m\"\u001b[39m\u001b[38;5;124mThe file \u001b[39m\u001b[38;5;124m'\u001b[39m\u001b[38;5;132;01m%s\u001b[39;00m\u001b[38;5;124m'\u001b[39m\u001b[38;5;124m is already opened.  Please \u001b[39m\u001b[38;5;124m\"\u001b[39m\n\u001b[1;32m    297\u001b[0m                 \u001b[38;5;124m\"\u001b[39m\u001b[38;5;124mclose it before reopening in write mode.\u001b[39m\u001b[38;5;124m\"\u001b[39m \u001b[38;5;241m%\u001b[39m filename)\n\u001b[1;32m    299\u001b[0m \u001b[38;5;66;03m# Finally, create the File instance, and return it\u001b[39;00m\n\u001b[0;32m--> 300\u001b[0m \u001b[38;5;28;01mreturn\u001b[39;00m \u001b[43mFile\u001b[49m\u001b[43m(\u001b[49m\u001b[43mfilename\u001b[49m\u001b[43m,\u001b[49m\u001b[43m \u001b[49m\u001b[43mmode\u001b[49m\u001b[43m,\u001b[49m\u001b[43m \u001b[49m\u001b[43mtitle\u001b[49m\u001b[43m,\u001b[49m\u001b[43m \u001b[49m\u001b[43mroot_uep\u001b[49m\u001b[43m,\u001b[49m\u001b[43m \u001b[49m\u001b[43mfilters\u001b[49m\u001b[43m,\u001b[49m\u001b[43m \u001b[49m\u001b[38;5;241;43m*\u001b[39;49m\u001b[38;5;241;43m*\u001b[39;49m\u001b[43mkwargs\u001b[49m\u001b[43m)\u001b[49m\n",
      "File \u001b[0;32m/opt/anaconda3/envs/thunor/lib/python3.11/site-packages/tables/file.py:750\u001b[0m, in \u001b[0;36mFile.__init__\u001b[0;34m(self, filename, mode, title, root_uep, filters, **kwargs)\u001b[0m\n\u001b[1;32m    747\u001b[0m \u001b[38;5;28mself\u001b[39m\u001b[38;5;241m.\u001b[39mparams \u001b[38;5;241m=\u001b[39m params\n\u001b[1;32m    749\u001b[0m \u001b[38;5;66;03m# Now, it is time to initialize the File extension\u001b[39;00m\n\u001b[0;32m--> 750\u001b[0m \u001b[38;5;28;43mself\u001b[39;49m\u001b[38;5;241;43m.\u001b[39;49m\u001b[43m_g_new\u001b[49m\u001b[43m(\u001b[49m\u001b[43mfilename\u001b[49m\u001b[43m,\u001b[49m\u001b[43m \u001b[49m\u001b[43mmode\u001b[49m\u001b[43m,\u001b[49m\u001b[43m \u001b[49m\u001b[38;5;241;43m*\u001b[39;49m\u001b[38;5;241;43m*\u001b[39;49m\u001b[43mparams\u001b[49m\u001b[43m)\u001b[49m\n\u001b[1;32m    752\u001b[0m \u001b[38;5;66;03m# Check filters and set PyTables format version for new files.\u001b[39;00m\n\u001b[1;32m    753\u001b[0m new \u001b[38;5;241m=\u001b[39m \u001b[38;5;28mself\u001b[39m\u001b[38;5;241m.\u001b[39m_v_new\n",
      "File \u001b[0;32m/opt/anaconda3/envs/thunor/lib/python3.11/site-packages/tables/hdf5extension.pyx:368\u001b[0m, in \u001b[0;36mtables.hdf5extension.File._g_new\u001b[0;34m()\u001b[0m\n",
      "File \u001b[0;32m/opt/anaconda3/envs/thunor/lib/python3.11/site-packages/tables/utils.py:143\u001b[0m, in \u001b[0;36mcheck_file_access\u001b[0;34m(filename, mode)\u001b[0m\n\u001b[1;32m    140\u001b[0m \u001b[38;5;28;01mif\u001b[39;00m mode \u001b[38;5;241m==\u001b[39m \u001b[38;5;124m'\u001b[39m\u001b[38;5;124mr\u001b[39m\u001b[38;5;124m'\u001b[39m:\n\u001b[1;32m    141\u001b[0m     \u001b[38;5;66;03m# The file should be readable.\u001b[39;00m\n\u001b[1;32m    142\u001b[0m     \u001b[38;5;28;01mif\u001b[39;00m \u001b[38;5;129;01mnot\u001b[39;00m os\u001b[38;5;241m.\u001b[39maccess(path, os\u001b[38;5;241m.\u001b[39mF_OK):\n\u001b[0;32m--> 143\u001b[0m         \u001b[38;5;28;01mraise\u001b[39;00m \u001b[38;5;167;01mOSError\u001b[39;00m(\u001b[38;5;124mf\u001b[39m\u001b[38;5;124m\"\u001b[39m\u001b[38;5;124m``\u001b[39m\u001b[38;5;132;01m{\u001b[39;00mpath\u001b[38;5;132;01m}\u001b[39;00m\u001b[38;5;124m`` does not exist\u001b[39m\u001b[38;5;124m\"\u001b[39m)\n\u001b[1;32m    144\u001b[0m     \u001b[38;5;28;01mif\u001b[39;00m \u001b[38;5;129;01mnot\u001b[39;00m path\u001b[38;5;241m.\u001b[39mis_file():\n\u001b[1;32m    145\u001b[0m         \u001b[38;5;28;01mraise\u001b[39;00m \u001b[38;5;167;01mOSError\u001b[39;00m(\u001b[38;5;124mf\u001b[39m\u001b[38;5;124m\"\u001b[39m\u001b[38;5;124m``\u001b[39m\u001b[38;5;132;01m{\u001b[39;00mpath\u001b[38;5;132;01m}\u001b[39;00m\u001b[38;5;124m`` is not a regular file\u001b[39m\u001b[38;5;124m\"\u001b[39m)\n",
      "\u001b[0;31mOSError\u001b[0m: ``/Users/darren/git-repos/quantbio-assignments/data/HTS001.h5`` does not exist"
     ]
    }
   ],
   "source": [
    "hts001 = read_hdf(\"./data/HTS001.h5\")\n",
    "hts001"
   ]
  },
  {
   "cell_type": "markdown",
   "metadata": {
    "id": "lD-ZAmZG6j5x"
   },
   "source": [
    "### Calculate DIP rates and fit parameters for all conditions using Thunor"
   ]
  },
  {
   "cell_type": "code",
   "execution_count": 22,
   "metadata": {
    "colab": {
     "base_uri": "https://localhost:8080/"
    },
    "id": "Pg6FhXEpu3R9",
    "outputId": "74a0eebe-54aa-4902-9854-7623ee84cefa"
   },
   "outputs": [
    {
     "name": "stderr",
     "output_type": "stream",
     "text": [
      "/usr/local/lib/python3.9/dist-packages/thunor/curve_fit.py:157: RuntimeWarning:\n",
      "\n",
      "invalid value encountered in log\n",
      "\n",
      "/usr/local/lib/python3.9/dist-packages/thunor/curve_fit.py:224: RuntimeWarning:\n",
      "\n",
      "invalid value encountered in double_scalars\n",
      "\n"
     ]
    }
   ],
   "source": [
    "ctrl_diprates, expt_diprates = dip_rates(hts001)\n",
    "fit_p = fit_params(ctrl_diprates, expt_diprates)"
   ]
  },
  {
   "cell_type": "markdown",
   "metadata": {
    "id": "uplmof9Tv0ck"
   },
   "source": []
  },
  {
   "cell_type": "code",
   "execution_count": 24,
   "metadata": {
    "colab": {
     "base_uri": "https://localhost:8080/",
     "height": 639
    },
    "id": "JUbfwkyCv2bV",
    "outputId": "dc71e00e-c9bd-43ac-eddc-2d85b3471daf"
   },
   "outputs": [
    {
     "data": {
      "text/html": [
       "\n",
       "  <div id=\"df-dea49c84-53c8-4edc-a8b9-e78effebc2a3\">\n",
       "    <div class=\"colab-df-container\">\n",
       "      <div>\n",
       "<style scoped>\n",
       "    .dataframe tbody tr th:only-of-type {\n",
       "        vertical-align: middle;\n",
       "    }\n",
       "\n",
       "    .dataframe tbody tr th {\n",
       "        vertical-align: top;\n",
       "    }\n",
       "\n",
       "    .dataframe thead th {\n",
       "        text-align: right;\n",
       "    }\n",
       "</style>\n",
       "<table border=\"1\" class=\"dataframe\">\n",
       "  <thead>\n",
       "    <tr style=\"text-align: right;\">\n",
       "      <th></th>\n",
       "      <th></th>\n",
       "      <th></th>\n",
       "      <th>dip_ctrl</th>\n",
       "      <th>dip_expt</th>\n",
       "      <th>fit_obj</th>\n",
       "      <th>min_dose_measured</th>\n",
       "      <th>max_dose_measured</th>\n",
       "      <th>emax_obs</th>\n",
       "      <th>aa_obs</th>\n",
       "      <th>label</th>\n",
       "      <th>ic50</th>\n",
       "      <th>ec50</th>\n",
       "      <th>emax</th>\n",
       "      <th>einf</th>\n",
       "      <th>emax_rel</th>\n",
       "      <th>emax_obs_rel</th>\n",
       "      <th>aa</th>\n",
       "      <th>auc</th>\n",
       "      <th>hill</th>\n",
       "    </tr>\n",
       "    <tr>\n",
       "      <th>dataset_id</th>\n",
       "      <th>cell_line</th>\n",
       "      <th>drug</th>\n",
       "      <th></th>\n",
       "      <th></th>\n",
       "      <th></th>\n",
       "      <th></th>\n",
       "      <th></th>\n",
       "      <th></th>\n",
       "      <th></th>\n",
       "      <th></th>\n",
       "      <th></th>\n",
       "      <th></th>\n",
       "      <th></th>\n",
       "      <th></th>\n",
       "      <th></th>\n",
       "      <th></th>\n",
       "      <th></th>\n",
       "      <th></th>\n",
       "      <th></th>\n",
       "    </tr>\n",
       "  </thead>\n",
       "  <tbody>\n",
       "    <tr>\n",
       "      <th rowspan=\"5\" valign=\"top\">13</th>\n",
       "      <th>BR1</th>\n",
       "      <th>afatinib</th>\n",
       "      <td>dose          well_id\n",
       "1.868750e-12  54148     ...</td>\n",
       "      <td>dose          well_id\n",
       "1.868750e-11  53868     ...</td>\n",
       "      <td>&lt;thunor.curve_fit.HillCurveLL4 object at 0x7f3...</td>\n",
       "      <td>1.868750e-12</td>\n",
       "      <td>0.000004</td>\n",
       "      <td>-0.016577</td>\n",
       "      <td>1.512939</td>\n",
       "      <td>BR1\\nafatinib</td>\n",
       "      <td>3.006719e-07</td>\n",
       "      <td>3.968750e-06</td>\n",
       "      <td>-0.007034</td>\n",
       "      <td>-22.244175</td>\n",
       "      <td>-0.221182</td>\n",
       "      <td>-0.521250</td>\n",
       "      <td>1.522150</td>\n",
       "      <td>10006.926303</td>\n",
       "      <td>0.346485</td>\n",
       "    </tr>\n",
       "    <tr>\n",
       "      <th>DS3</th>\n",
       "      <th>afatinib</th>\n",
       "      <td>dose          well_id\n",
       "1.868750e-12  54456     ...</td>\n",
       "      <td>dose          well_id\n",
       "1.868750e-11  54176     ...</td>\n",
       "      <td>&lt;thunor.curve_fit.HillCurveLL4 object at 0x7f3...</td>\n",
       "      <td>1.868750e-12</td>\n",
       "      <td>0.000004</td>\n",
       "      <td>-0.011857</td>\n",
       "      <td>5.548105</td>\n",
       "      <td>DS3\\nafatinib</td>\n",
       "      <td>3.034130e-11</td>\n",
       "      <td>3.630411e-11</td>\n",
       "      <td>-0.004809</td>\n",
       "      <td>-0.004809</td>\n",
       "      <td>-0.139991</td>\n",
       "      <td>-0.345116</td>\n",
       "      <td>5.738045</td>\n",
       "      <td>1.474794</td>\n",
       "      <td>1.375790</td>\n",
       "    </tr>\n",
       "    <tr>\n",
       "      <th>DS7</th>\n",
       "      <th>afatinib</th>\n",
       "      <td>dose          well_id\n",
       "1.868750e-12  54764     ...</td>\n",
       "      <td>dose          well_id\n",
       "1.868750e-11  54484     ...</td>\n",
       "      <td>&lt;thunor.curve_fit.HillCurveLL4 object at 0x7f3...</td>\n",
       "      <td>1.868750e-12</td>\n",
       "      <td>0.000004</td>\n",
       "      <td>-0.015582</td>\n",
       "      <td>4.355910</td>\n",
       "      <td>DS7\\nafatinib</td>\n",
       "      <td>5.993042e-11</td>\n",
       "      <td>5.188016e-11</td>\n",
       "      <td>0.004615</td>\n",
       "      <td>0.004615</td>\n",
       "      <td>0.118395</td>\n",
       "      <td>-0.399753</td>\n",
       "      <td>4.305049</td>\n",
       "      <td>1.272956</td>\n",
       "      <td>1.873320</td>\n",
       "    </tr>\n",
       "    <tr>\n",
       "      <th>DS8</th>\n",
       "      <th>afatinib</th>\n",
       "      <td>dose          well_id\n",
       "1.868750e-12  55072     ...</td>\n",
       "      <td>dose          well_id\n",
       "1.868750e-11  54792     ...</td>\n",
       "      <td>&lt;thunor.curve_fit.HillCurveLL4 object at 0x7f3...</td>\n",
       "      <td>1.868750e-12</td>\n",
       "      <td>0.000004</td>\n",
       "      <td>-0.011272</td>\n",
       "      <td>3.708655</td>\n",
       "      <td>DS8\\nafatinib</td>\n",
       "      <td>9.443298e-11</td>\n",
       "      <td>7.862445e-11</td>\n",
       "      <td>0.006191</td>\n",
       "      <td>0.006191</td>\n",
       "      <td>0.154127</td>\n",
       "      <td>-0.280602</td>\n",
       "      <td>3.978123</td>\n",
       "      <td>1.373802</td>\n",
       "      <td>2.011579</td>\n",
       "    </tr>\n",
       "    <tr>\n",
       "      <th>DS9</th>\n",
       "      <th>afatinib</th>\n",
       "      <td>dose          well_id\n",
       "1.868750e-12  55380     ...</td>\n",
       "      <td>dose          well_id\n",
       "1.868750e-11  55100     ...</td>\n",
       "      <td>&lt;thunor.curve_fit.HillCurveLL4 object at 0x7f3...</td>\n",
       "      <td>1.868750e-12</td>\n",
       "      <td>0.000004</td>\n",
       "      <td>-0.011257</td>\n",
       "      <td>4.820104</td>\n",
       "      <td>DS9\\nafatinib</td>\n",
       "      <td>4.533335e-11</td>\n",
       "      <td>4.868199e-11</td>\n",
       "      <td>-0.002011</td>\n",
       "      <td>-0.002011</td>\n",
       "      <td>-0.055564</td>\n",
       "      <td>-0.311075</td>\n",
       "      <td>5.181684</td>\n",
       "      <td>1.496975</td>\n",
       "      <td>1.478611</td>\n",
       "    </tr>\n",
       "  </tbody>\n",
       "</table>\n",
       "</div>\n",
       "      <button class=\"colab-df-convert\" onclick=\"convertToInteractive('df-dea49c84-53c8-4edc-a8b9-e78effebc2a3')\"\n",
       "              title=\"Convert this dataframe to an interactive table.\"\n",
       "              style=\"display:none;\">\n",
       "        \n",
       "  <svg xmlns=\"http://www.w3.org/2000/svg\" height=\"24px\"viewBox=\"0 0 24 24\"\n",
       "       width=\"24px\">\n",
       "    <path d=\"M0 0h24v24H0V0z\" fill=\"none\"/>\n",
       "    <path d=\"M18.56 5.44l.94 2.06.94-2.06 2.06-.94-2.06-.94-.94-2.06-.94 2.06-2.06.94zm-11 1L8.5 8.5l.94-2.06 2.06-.94-2.06-.94L8.5 2.5l-.94 2.06-2.06.94zm10 10l.94 2.06.94-2.06 2.06-.94-2.06-.94-.94-2.06-.94 2.06-2.06.94z\"/><path d=\"M17.41 7.96l-1.37-1.37c-.4-.4-.92-.59-1.43-.59-.52 0-1.04.2-1.43.59L10.3 9.45l-7.72 7.72c-.78.78-.78 2.05 0 2.83L4 21.41c.39.39.9.59 1.41.59.51 0 1.02-.2 1.41-.59l7.78-7.78 2.81-2.81c.8-.78.8-2.07 0-2.86zM5.41 20L4 18.59l7.72-7.72 1.47 1.35L5.41 20z\"/>\n",
       "  </svg>\n",
       "      </button>\n",
       "      \n",
       "  <style>\n",
       "    .colab-df-container {\n",
       "      display:flex;\n",
       "      flex-wrap:wrap;\n",
       "      gap: 12px;\n",
       "    }\n",
       "\n",
       "    .colab-df-convert {\n",
       "      background-color: #E8F0FE;\n",
       "      border: none;\n",
       "      border-radius: 50%;\n",
       "      cursor: pointer;\n",
       "      display: none;\n",
       "      fill: #1967D2;\n",
       "      height: 32px;\n",
       "      padding: 0 0 0 0;\n",
       "      width: 32px;\n",
       "    }\n",
       "\n",
       "    .colab-df-convert:hover {\n",
       "      background-color: #E2EBFA;\n",
       "      box-shadow: 0px 1px 2px rgba(60, 64, 67, 0.3), 0px 1px 3px 1px rgba(60, 64, 67, 0.15);\n",
       "      fill: #174EA6;\n",
       "    }\n",
       "\n",
       "    [theme=dark] .colab-df-convert {\n",
       "      background-color: #3B4455;\n",
       "      fill: #D2E3FC;\n",
       "    }\n",
       "\n",
       "    [theme=dark] .colab-df-convert:hover {\n",
       "      background-color: #434B5C;\n",
       "      box-shadow: 0px 1px 3px 1px rgba(0, 0, 0, 0.15);\n",
       "      filter: drop-shadow(0px 1px 2px rgba(0, 0, 0, 0.3));\n",
       "      fill: #FFFFFF;\n",
       "    }\n",
       "  </style>\n",
       "\n",
       "      <script>\n",
       "        const buttonEl =\n",
       "          document.querySelector('#df-dea49c84-53c8-4edc-a8b9-e78effebc2a3 button.colab-df-convert');\n",
       "        buttonEl.style.display =\n",
       "          google.colab.kernel.accessAllowed ? 'block' : 'none';\n",
       "\n",
       "        async function convertToInteractive(key) {\n",
       "          const element = document.querySelector('#df-dea49c84-53c8-4edc-a8b9-e78effebc2a3');\n",
       "          const dataTable =\n",
       "            await google.colab.kernel.invokeFunction('convertToInteractive',\n",
       "                                                     [key], {});\n",
       "          if (!dataTable) return;\n",
       "\n",
       "          const docLinkHtml = 'Like what you see? Visit the ' +\n",
       "            '<a target=\"_blank\" href=https://colab.research.google.com/notebooks/data_table.ipynb>data table notebook</a>'\n",
       "            + ' to learn more about interactive tables.';\n",
       "          element.innerHTML = '';\n",
       "          dataTable['output_type'] = 'display_data';\n",
       "          await google.colab.output.renderOutput(dataTable, element);\n",
       "          const docLink = document.createElement('div');\n",
       "          docLink.innerHTML = docLinkHtml;\n",
       "          element.appendChild(docLink);\n",
       "        }\n",
       "      </script>\n",
       "    </div>\n",
       "  </div>\n",
       "  "
      ],
      "text/plain": [
       "                                                                        dip_ctrl  \\\n",
       "dataset_id cell_line drug                                                          \n",
       "13         BR1       afatinib  dose          well_id\n",
       "1.868750e-12  54148     ...   \n",
       "           DS3       afatinib  dose          well_id\n",
       "1.868750e-12  54456     ...   \n",
       "           DS7       afatinib  dose          well_id\n",
       "1.868750e-12  54764     ...   \n",
       "           DS8       afatinib  dose          well_id\n",
       "1.868750e-12  55072     ...   \n",
       "           DS9       afatinib  dose          well_id\n",
       "1.868750e-12  55380     ...   \n",
       "\n",
       "                                                                        dip_expt  \\\n",
       "dataset_id cell_line drug                                                          \n",
       "13         BR1       afatinib  dose          well_id\n",
       "1.868750e-11  53868     ...   \n",
       "           DS3       afatinib  dose          well_id\n",
       "1.868750e-11  54176     ...   \n",
       "           DS7       afatinib  dose          well_id\n",
       "1.868750e-11  54484     ...   \n",
       "           DS8       afatinib  dose          well_id\n",
       "1.868750e-11  54792     ...   \n",
       "           DS9       afatinib  dose          well_id\n",
       "1.868750e-11  55100     ...   \n",
       "\n",
       "                                                                         fit_obj  \\\n",
       "dataset_id cell_line drug                                                          \n",
       "13         BR1       afatinib  <thunor.curve_fit.HillCurveLL4 object at 0x7f3...   \n",
       "           DS3       afatinib  <thunor.curve_fit.HillCurveLL4 object at 0x7f3...   \n",
       "           DS7       afatinib  <thunor.curve_fit.HillCurveLL4 object at 0x7f3...   \n",
       "           DS8       afatinib  <thunor.curve_fit.HillCurveLL4 object at 0x7f3...   \n",
       "           DS9       afatinib  <thunor.curve_fit.HillCurveLL4 object at 0x7f3...   \n",
       "\n",
       "                               min_dose_measured  max_dose_measured  emax_obs  \\\n",
       "dataset_id cell_line drug                                                       \n",
       "13         BR1       afatinib       1.868750e-12           0.000004 -0.016577   \n",
       "           DS3       afatinib       1.868750e-12           0.000004 -0.011857   \n",
       "           DS7       afatinib       1.868750e-12           0.000004 -0.015582   \n",
       "           DS8       afatinib       1.868750e-12           0.000004 -0.011272   \n",
       "           DS9       afatinib       1.868750e-12           0.000004 -0.011257   \n",
       "\n",
       "                                 aa_obs          label          ic50  \\\n",
       "dataset_id cell_line drug                                              \n",
       "13         BR1       afatinib  1.512939  BR1\\nafatinib  3.006719e-07   \n",
       "           DS3       afatinib  5.548105  DS3\\nafatinib  3.034130e-11   \n",
       "           DS7       afatinib  4.355910  DS7\\nafatinib  5.993042e-11   \n",
       "           DS8       afatinib  3.708655  DS8\\nafatinib  9.443298e-11   \n",
       "           DS9       afatinib  4.820104  DS9\\nafatinib  4.533335e-11   \n",
       "\n",
       "                                       ec50      emax       einf  emax_rel  \\\n",
       "dataset_id cell_line drug                                                    \n",
       "13         BR1       afatinib  3.968750e-06 -0.007034 -22.244175 -0.221182   \n",
       "           DS3       afatinib  3.630411e-11 -0.004809  -0.004809 -0.139991   \n",
       "           DS7       afatinib  5.188016e-11  0.004615   0.004615  0.118395   \n",
       "           DS8       afatinib  7.862445e-11  0.006191   0.006191  0.154127   \n",
       "           DS9       afatinib  4.868199e-11 -0.002011  -0.002011 -0.055564   \n",
       "\n",
       "                               emax_obs_rel        aa           auc      hill  \n",
       "dataset_id cell_line drug                                                      \n",
       "13         BR1       afatinib     -0.521250  1.522150  10006.926303  0.346485  \n",
       "           DS3       afatinib     -0.345116  5.738045      1.474794  1.375790  \n",
       "           DS7       afatinib     -0.399753  4.305049      1.272956  1.873320  \n",
       "           DS8       afatinib     -0.280602  3.978123      1.373802  2.011579  \n",
       "           DS9       afatinib     -0.311075  5.181684      1.496975  1.478611  "
      ]
     },
     "execution_count": 24,
     "metadata": {},
     "output_type": "execute_result"
    }
   ],
   "source": [
    "fit_p.head()"
   ]
  },
  {
   "cell_type": "markdown",
   "metadata": {
    "id": "ENPzriF86j5x"
   },
   "source": [
    "Get only data using afatinib"
   ]
  },
  {
   "cell_type": "code",
   "execution_count": 6,
   "metadata": {
    "colab": {
     "base_uri": "https://localhost:8080/"
    },
    "id": "0jHtBw4c6j5x",
    "outputId": "42cdcd25-f587-4f2e-9a3a-b5926b8bd9cc"
   },
   "outputs": [
    {
     "data": {
      "text/plain": [
       "HTS Dataset (1 drugs/combos, 7 cell lines)"
      ]
     },
     "execution_count": 6,
     "metadata": {},
     "output_type": "execute_result"
    }
   ],
   "source": [
    "# afat = hts001.filter(drugs=['afatinib'])\n",
    "# afat"
   ]
  },
  {
   "cell_type": "code",
   "execution_count": null,
   "metadata": {
    "colab": {
     "base_uri": "https://localhost:8080/"
    },
    "id": "92FYfjGFP9ev",
    "outputId": "a8ffe3bf-4d14-4f87-ae0b-aafe8b346d08"
   },
   "outputs": [
    {
     "name": "stdout",
     "output_type": "stream",
     "text": [
      "--2023-03-15 21:52:29--  https://thunor.app.vanderbilt.edu/dataset/13/download/dip_rates\n",
      "Resolving thunor.app.vanderbilt.edu (thunor.app.vanderbilt.edu)... 54.90.175.126, 34.202.141.124, 184.72.201.10, ...\n",
      "Connecting to thunor.app.vanderbilt.edu (thunor.app.vanderbilt.edu)|54.90.175.126|:443... connected.\n",
      "HTTP request sent, awaiting response... 200 OK\n",
      "Length: 173629 (170K) [text/tab-separated-values]\n",
      "Saving to: ‘./data/hts001_diprates.tsv’\n",
      "\n",
      "\r",
      "          ./data/ht   0%[                    ]       0  --.-KB/s               \r",
      "./data/hts001_dipra 100%[===================>] 169.56K  --.-KB/s    in 0.01s   \n",
      "\n",
      "2023-03-15 21:52:29 (14.0 MB/s) - ‘./data/hts001_diprates.tsv’ saved [173629/173629]\n",
      "\n"
     ]
    }
   ],
   "source": [
    "# if not os.path.exists(\"./data/hts001_diprates.tsv\"):\n",
    "#     !wget -O \"./data/hts001_diprates.tsv\" https://thunor.app.vanderbilt.edu/dataset/13/download/dip_rates"
   ]
  },
  {
   "cell_type": "markdown",
   "metadata": {
    "id": "l-dKxaIy6j5x"
   },
   "source": [
    "## Save the data as a pandas DataFrame and read in to visualize"
   ]
  },
  {
   "cell_type": "code",
   "execution_count": 18,
   "metadata": {
    "colab": {
     "base_uri": "https://localhost:8080/",
     "height": 518
    },
    "id": "2Jh8ZomUQtDb",
    "outputId": "023a3ee0-a168-4128-f689-3f28bc4b3dcd"
   },
   "outputs": [
    {
     "name": "stderr",
     "output_type": "stream",
     "text": [
      "/usr/local/lib/python3.9/dist-packages/thunor/curve_fit.py:157: RuntimeWarning:\n",
      "\n",
      "invalid value encountered in log\n",
      "\n"
     ]
    },
    {
     "data": {
      "text/html": [
       "\n",
       "  <div id=\"df-929b1ff7-114f-42c7-9a30-cf1b91e49ad0\">\n",
       "    <div class=\"colab-df-container\">\n",
       "      <div>\n",
       "<style scoped>\n",
       "    .dataframe tbody tr th:only-of-type {\n",
       "        vertical-align: middle;\n",
       "    }\n",
       "\n",
       "    .dataframe tbody tr th {\n",
       "        vertical-align: top;\n",
       "    }\n",
       "\n",
       "    .dataframe thead th {\n",
       "        text-align: right;\n",
       "    }\n",
       "</style>\n",
       "<table border=\"1\" class=\"dataframe\">\n",
       "  <thead>\n",
       "    <tr style=\"text-align: right;\">\n",
       "      <th></th>\n",
       "      <th></th>\n",
       "      <th></th>\n",
       "      <th></th>\n",
       "      <th></th>\n",
       "      <th>well_num</th>\n",
       "      <th>plate</th>\n",
       "      <th>dip_rate</th>\n",
       "      <th>dip_fit_std_err</th>\n",
       "      <th>dip_first_timepoint</th>\n",
       "      <th>dip_y_intercept</th>\n",
       "    </tr>\n",
       "    <tr>\n",
       "      <th>dataset</th>\n",
       "      <th>drug</th>\n",
       "      <th>cell_line</th>\n",
       "      <th>dose</th>\n",
       "      <th>well_id</th>\n",
       "      <th></th>\n",
       "      <th></th>\n",
       "      <th></th>\n",
       "      <th></th>\n",
       "      <th></th>\n",
       "      <th></th>\n",
       "    </tr>\n",
       "  </thead>\n",
       "  <tbody>\n",
       "    <tr>\n",
       "      <th rowspan=\"11\" valign=\"top\">13</th>\n",
       "      <th rowspan=\"11\" valign=\"top\">(afatinib,)</th>\n",
       "      <th rowspan=\"5\" valign=\"top\">BR1</th>\n",
       "      <th rowspan=\"2\" valign=\"top\">(1.86875e-11,)</th>\n",
       "      <th>53868</th>\n",
       "      <td>93</td>\n",
       "      <td>HTS001_BR1-2</td>\n",
       "      <td>0.029535</td>\n",
       "      <td>0.000915</td>\n",
       "      <td>31.1</td>\n",
       "      <td>6.269507</td>\n",
       "    </tr>\n",
       "    <tr>\n",
       "      <th>53869</th>\n",
       "      <td>261</td>\n",
       "      <td>HTS001_BR1-2</td>\n",
       "      <td>0.028068</td>\n",
       "      <td>0.000787</td>\n",
       "      <td>48.5</td>\n",
       "      <td>5.714175</td>\n",
       "    </tr>\n",
       "    <tr>\n",
       "      <th rowspan=\"2\" valign=\"top\">(7.47625e-11,)</th>\n",
       "      <th>53870</th>\n",
       "      <td>92</td>\n",
       "      <td>HTS001_BR1-2</td>\n",
       "      <td>0.028230</td>\n",
       "      <td>0.000882</td>\n",
       "      <td>48.5</td>\n",
       "      <td>6.518346</td>\n",
       "    </tr>\n",
       "    <tr>\n",
       "      <th>53871</th>\n",
       "      <td>260</td>\n",
       "      <td>HTS001_BR1-2</td>\n",
       "      <td>0.029678</td>\n",
       "      <td>0.000935</td>\n",
       "      <td>48.5</td>\n",
       "      <td>5.931319</td>\n",
       "    </tr>\n",
       "    <tr>\n",
       "      <th>(3.0525e-10,)</th>\n",
       "      <th>53872</th>\n",
       "      <td>91</td>\n",
       "      <td>HTS001_BR1-2</td>\n",
       "      <td>0.029814</td>\n",
       "      <td>0.001067</td>\n",
       "      <td>51.8</td>\n",
       "      <td>6.501894</td>\n",
       "    </tr>\n",
       "    <tr>\n",
       "      <th>...</th>\n",
       "      <th>...</th>\n",
       "      <th>...</th>\n",
       "      <td>...</td>\n",
       "      <td>...</td>\n",
       "      <td>...</td>\n",
       "      <td>...</td>\n",
       "      <td>...</td>\n",
       "      <td>...</td>\n",
       "    </tr>\n",
       "    <tr>\n",
       "      <th rowspan=\"5\" valign=\"top\">PC9</th>\n",
       "      <th>(2.48e-07,)</th>\n",
       "      <th>55731</th>\n",
       "      <td>254</td>\n",
       "      <td>HTS001_PC9-2</td>\n",
       "      <td>0.012725</td>\n",
       "      <td>0.001306</td>\n",
       "      <td>19.0</td>\n",
       "      <td>5.576696</td>\n",
       "    </tr>\n",
       "    <tr>\n",
       "      <th rowspan=\"2\" valign=\"top\">(9.92125e-07,)</th>\n",
       "      <th>55732</th>\n",
       "      <td>85</td>\n",
       "      <td>HTS001_PC9-2</td>\n",
       "      <td>0.008165</td>\n",
       "      <td>0.000423</td>\n",
       "      <td>53.0</td>\n",
       "      <td>5.972257</td>\n",
       "    </tr>\n",
       "    <tr>\n",
       "      <th>55733</th>\n",
       "      <td>253</td>\n",
       "      <td>HTS001_PC9-2</td>\n",
       "      <td>0.010411</td>\n",
       "      <td>0.000857</td>\n",
       "      <td>25.7</td>\n",
       "      <td>5.362867</td>\n",
       "    </tr>\n",
       "    <tr>\n",
       "      <th rowspan=\"2\" valign=\"top\">(3.96875e-06,)</th>\n",
       "      <th>55734</th>\n",
       "      <td>84</td>\n",
       "      <td>HTS001_PC9-2</td>\n",
       "      <td>-0.016326</td>\n",
       "      <td>0.001950</td>\n",
       "      <td>46.4</td>\n",
       "      <td>6.153263</td>\n",
       "    </tr>\n",
       "    <tr>\n",
       "      <th>55735</th>\n",
       "      <td>252</td>\n",
       "      <td>HTS001_PC9-2</td>\n",
       "      <td>-0.013625</td>\n",
       "      <td>0.001250</td>\n",
       "      <td>19.0</td>\n",
       "      <td>5.694860</td>\n",
       "    </tr>\n",
       "  </tbody>\n",
       "</table>\n",
       "<p>140 rows × 6 columns</p>\n",
       "</div>\n",
       "      <button class=\"colab-df-convert\" onclick=\"convertToInteractive('df-929b1ff7-114f-42c7-9a30-cf1b91e49ad0')\"\n",
       "              title=\"Convert this dataframe to an interactive table.\"\n",
       "              style=\"display:none;\">\n",
       "        \n",
       "  <svg xmlns=\"http://www.w3.org/2000/svg\" height=\"24px\"viewBox=\"0 0 24 24\"\n",
       "       width=\"24px\">\n",
       "    <path d=\"M0 0h24v24H0V0z\" fill=\"none\"/>\n",
       "    <path d=\"M18.56 5.44l.94 2.06.94-2.06 2.06-.94-2.06-.94-.94-2.06-.94 2.06-2.06.94zm-11 1L8.5 8.5l.94-2.06 2.06-.94-2.06-.94L8.5 2.5l-.94 2.06-2.06.94zm10 10l.94 2.06.94-2.06 2.06-.94-2.06-.94-.94-2.06-.94 2.06-2.06.94z\"/><path d=\"M17.41 7.96l-1.37-1.37c-.4-.4-.92-.59-1.43-.59-.52 0-1.04.2-1.43.59L10.3 9.45l-7.72 7.72c-.78.78-.78 2.05 0 2.83L4 21.41c.39.39.9.59 1.41.59.51 0 1.02-.2 1.41-.59l7.78-7.78 2.81-2.81c.8-.78.8-2.07 0-2.86zM5.41 20L4 18.59l7.72-7.72 1.47 1.35L5.41 20z\"/>\n",
       "  </svg>\n",
       "      </button>\n",
       "      \n",
       "  <style>\n",
       "    .colab-df-container {\n",
       "      display:flex;\n",
       "      flex-wrap:wrap;\n",
       "      gap: 12px;\n",
       "    }\n",
       "\n",
       "    .colab-df-convert {\n",
       "      background-color: #E8F0FE;\n",
       "      border: none;\n",
       "      border-radius: 50%;\n",
       "      cursor: pointer;\n",
       "      display: none;\n",
       "      fill: #1967D2;\n",
       "      height: 32px;\n",
       "      padding: 0 0 0 0;\n",
       "      width: 32px;\n",
       "    }\n",
       "\n",
       "    .colab-df-convert:hover {\n",
       "      background-color: #E2EBFA;\n",
       "      box-shadow: 0px 1px 2px rgba(60, 64, 67, 0.3), 0px 1px 3px 1px rgba(60, 64, 67, 0.15);\n",
       "      fill: #174EA6;\n",
       "    }\n",
       "\n",
       "    [theme=dark] .colab-df-convert {\n",
       "      background-color: #3B4455;\n",
       "      fill: #D2E3FC;\n",
       "    }\n",
       "\n",
       "    [theme=dark] .colab-df-convert:hover {\n",
       "      background-color: #434B5C;\n",
       "      box-shadow: 0px 1px 3px 1px rgba(0, 0, 0, 0.15);\n",
       "      filter: drop-shadow(0px 1px 2px rgba(0, 0, 0, 0.3));\n",
       "      fill: #FFFFFF;\n",
       "    }\n",
       "  </style>\n",
       "\n",
       "      <script>\n",
       "        const buttonEl =\n",
       "          document.querySelector('#df-929b1ff7-114f-42c7-9a30-cf1b91e49ad0 button.colab-df-convert');\n",
       "        buttonEl.style.display =\n",
       "          google.colab.kernel.accessAllowed ? 'block' : 'none';\n",
       "\n",
       "        async function convertToInteractive(key) {\n",
       "          const element = document.querySelector('#df-929b1ff7-114f-42c7-9a30-cf1b91e49ad0');\n",
       "          const dataTable =\n",
       "            await google.colab.kernel.invokeFunction('convertToInteractive',\n",
       "                                                     [key], {});\n",
       "          if (!dataTable) return;\n",
       "\n",
       "          const docLinkHtml = 'Like what you see? Visit the ' +\n",
       "            '<a target=\"_blank\" href=https://colab.research.google.com/notebooks/data_table.ipynb>data table notebook</a>'\n",
       "            + ' to learn more about interactive tables.';\n",
       "          element.innerHTML = '';\n",
       "          dataTable['output_type'] = 'display_data';\n",
       "          await google.colab.output.renderOutput(dataTable, element);\n",
       "          const docLink = document.createElement('div');\n",
       "          docLink.innerHTML = docLinkHtml;\n",
       "          element.appendChild(docLink);\n",
       "        }\n",
       "      </script>\n",
       "    </div>\n",
       "  </div>\n",
       "  "
      ],
      "text/plain": [
       "                                                      well_num         plate  \\\n",
       "dataset drug        cell_line dose           well_id                           \n",
       "13      (afatinib,) BR1       (1.86875e-11,) 53868          93  HTS001_BR1-2   \n",
       "                                             53869         261  HTS001_BR1-2   \n",
       "                              (7.47625e-11,) 53870          92  HTS001_BR1-2   \n",
       "                                             53871         260  HTS001_BR1-2   \n",
       "                              (3.0525e-10,)  53872          91  HTS001_BR1-2   \n",
       "...                                                        ...           ...   \n",
       "                    PC9       (2.48e-07,)    55731         254  HTS001_PC9-2   \n",
       "                              (9.92125e-07,) 55732          85  HTS001_PC9-2   \n",
       "                                             55733         253  HTS001_PC9-2   \n",
       "                              (3.96875e-06,) 55734          84  HTS001_PC9-2   \n",
       "                                             55735         252  HTS001_PC9-2   \n",
       "\n",
       "                                                      dip_rate  \\\n",
       "dataset drug        cell_line dose           well_id             \n",
       "13      (afatinib,) BR1       (1.86875e-11,) 53868    0.029535   \n",
       "                                             53869    0.028068   \n",
       "                              (7.47625e-11,) 53870    0.028230   \n",
       "                                             53871    0.029678   \n",
       "                              (3.0525e-10,)  53872    0.029814   \n",
       "...                                                        ...   \n",
       "                    PC9       (2.48e-07,)    55731    0.012725   \n",
       "                              (9.92125e-07,) 55732    0.008165   \n",
       "                                             55733    0.010411   \n",
       "                              (3.96875e-06,) 55734   -0.016326   \n",
       "                                             55735   -0.013625   \n",
       "\n",
       "                                                      dip_fit_std_err  \\\n",
       "dataset drug        cell_line dose           well_id                    \n",
       "13      (afatinib,) BR1       (1.86875e-11,) 53868           0.000915   \n",
       "                                             53869           0.000787   \n",
       "                              (7.47625e-11,) 53870           0.000882   \n",
       "                                             53871           0.000935   \n",
       "                              (3.0525e-10,)  53872           0.001067   \n",
       "...                                                               ...   \n",
       "                    PC9       (2.48e-07,)    55731           0.001306   \n",
       "                              (9.92125e-07,) 55732           0.000423   \n",
       "                                             55733           0.000857   \n",
       "                              (3.96875e-06,) 55734           0.001950   \n",
       "                                             55735           0.001250   \n",
       "\n",
       "                                                      dip_first_timepoint  \\\n",
       "dataset drug        cell_line dose           well_id                        \n",
       "13      (afatinib,) BR1       (1.86875e-11,) 53868                   31.1   \n",
       "                                             53869                   48.5   \n",
       "                              (7.47625e-11,) 53870                   48.5   \n",
       "                                             53871                   48.5   \n",
       "                              (3.0525e-10,)  53872                   51.8   \n",
       "...                                                                   ...   \n",
       "                    PC9       (2.48e-07,)    55731                   19.0   \n",
       "                              (9.92125e-07,) 55732                   53.0   \n",
       "                                             55733                   25.7   \n",
       "                              (3.96875e-06,) 55734                   46.4   \n",
       "                                             55735                   19.0   \n",
       "\n",
       "                                                      dip_y_intercept  \n",
       "dataset drug        cell_line dose           well_id                   \n",
       "13      (afatinib,) BR1       (1.86875e-11,) 53868           6.269507  \n",
       "                                             53869           5.714175  \n",
       "                              (7.47625e-11,) 53870           6.518346  \n",
       "                                             53871           5.931319  \n",
       "                              (3.0525e-10,)  53872           6.501894  \n",
       "...                                                               ...  \n",
       "                    PC9       (2.48e-07,)    55731           5.576696  \n",
       "                              (9.92125e-07,) 55732           5.972257  \n",
       "                                             55733           5.362867  \n",
       "                              (3.96875e-06,) 55734           6.153263  \n",
       "                                             55735           5.694860  \n",
       "\n",
       "[140 rows x 6 columns]"
      ]
     },
     "execution_count": 18,
     "metadata": {},
     "output_type": "execute_result"
    }
   ],
   "source": [
    "\n"
   ]
  },
  {
   "cell_type": "code",
   "execution_count": 27,
   "metadata": {
    "colab": {
     "base_uri": "https://localhost:8080/",
     "height": 542
    },
    "id": "rci_WQEttrZd",
    "outputId": "2b74463a-3705-4c00-8a32-a04fcf000fac"
   },
   "outputs": [
    {
     "data": {
      "text/html": [
       "<html>\n",
       "<head><meta charset=\"utf-8\" /></head>\n",
       "<body>\n",
       "    <div>            <script src=\"https://cdnjs.cloudflare.com/ajax/libs/mathjax/2.7.5/MathJax.js?config=TeX-AMS-MML_SVG\"></script><script type=\"text/javascript\">if (window.MathJax) {MathJax.Hub.Config({SVG: {font: \"STIX-Web\"}});}</script>                <script type=\"text/javascript\">window.PlotlyConfig = {MathJaxConfig: 'local'};</script>\n",
       "        <script src=\"https://cdn.plot.ly/plotly-2.8.3.min.js\"></script>                <div id=\"68f14b55-38d6-416d-b9c8-e2852e7816ea\" class=\"plotly-graph-div\" style=\"height:525px; width:100%;\"></div>            <script type=\"text/javascript\">                                    window.PLOTLYENV=window.PLOTLYENV || {};                                    if (document.getElementById(\"68f14b55-38d6-416d-b9c8-e2852e7816ea\")) {                    Plotly.newPlot(                        \"68f14b55-38d6-416d-b9c8-e2852e7816ea\",                        [{\"hoverinfo\":\"all\",\"legendgroup\":\"BR1\",\"line\":{\"color\":\"rgb(244, 93, 235)\",\"dash\":\"solid\",\"shape\":\"spline\",\"width\":3},\"mode\":\"lines\",\"name\":\"BR1\",\"showlegend\":true,\"visible\":true,\"x\":[1e-12,1.5e-12,2e-12,2.5e-12,3e-12,3.5e-12,4e-12,4.5e-12,5e-12,5.4999999999999996e-12,6e-12,6.5e-12,7e-12,7.5e-12,8e-12,8.5e-12,9e-12,9.5e-12,1e-11,1.5e-11,2e-11,2.4999999999999998e-11,3e-11,3.4999999999999995e-11,4e-11,4.5e-11,4.9999999999999995e-11,5.5e-11,6e-11,6.5e-11,6.999999999999999e-11,7.5e-11,8e-11,8.499999999999999e-11,9e-11,9.5e-11,9.999999999999999e-11,1.5e-10,2e-10,2.5e-10,3e-10,3.5000000000000003e-10,4e-10,4.5e-10,5e-10,5.500000000000001e-10,6e-10,6.5e-10,7.000000000000001e-10,7.5e-10,8e-10,8.500000000000001e-10,9e-10,9.5e-10,1e-09,1.5000000000000002e-09,2e-09,2.5e-09,3.0000000000000004e-09,3.5000000000000003e-09,4e-09,4.500000000000001e-09,5e-09,5.5000000000000004e-09,6.000000000000001e-09,6.5e-09,7.000000000000001e-09,7.500000000000001e-09,8e-09,8.5e-09,9.000000000000001e-09,9.5e-09,1e-08,1.5000000000000002e-08,2e-08,2.5e-08,3.0000000000000004e-08,3.5e-08,4e-08,4.5e-08,5e-08,5.5e-08,6.000000000000001e-08,6.5e-08,7e-08,7.5e-08,8e-08,8.500000000000001e-08,9e-08,9.5e-08,1e-07,1.5e-07,2e-07,2.5e-07,3e-07,3.5e-07,4e-07,4.5e-07,5e-07,5.5e-07,6e-07,6.499999999999999e-07,7e-07,7.5e-07,8e-07,8.499999999999999e-07,9e-07,9.5e-07,1e-06,1.5e-06,2e-06,2.4999999999999998e-06,3e-06,3.5e-06,4e-06,4.5e-06,4.9999999999999996e-06,5.5e-06,6e-06,6.5e-06,7e-06,7.499999999999999e-06,8e-06,8.5e-06,9e-06,9.499999999999999e-06,9.999999999999999e-06,1.5000000000000002e-05,2e-05,2.5e-05,3.0000000000000004e-05,3.5000000000000004e-05,4e-05,4.5e-05,5e-05,5.5e-05,6.000000000000001e-05,6.500000000000001e-05,7.000000000000001e-05,7.500000000000001e-05,8e-05,8.5e-05,9e-05,9.5e-05,0.0001],\"y\":[0.9936730167664791,0.9927186961751886,0.9919555170456533,0.9913088820188705,0.9907421435020751,0.9902342361301635,0.9897717979423533,0.9893457559635408,0.9889496330533802,0.9885786238869514,0.9882290530179034,0.9878980386166631,0.9875832741468002,0.9872828812240186,0.9869953072944782,0.9867192525593964,0.9864536165747495,0.986197458439733,0.9859499665901694,0.9838307787309759,0.9821360493921247,0.9807001235176358,0.9794416194993119,0.9783137584975066,0.9772868682714488,0.9763408009312116,0.9754611730313627,0.9746373136447346,0.973861060910167,0.9731260153095036,0.9724270548487084,0.9717600083085927,0.9711214280234799,0.9705084276080242,0.9699185633725165,0.9693497459165883,0.9688001730495444,0.9640943884088529,0.9603311645620352,0.9571426430154588,0.9543481057704639,0.9518436747770238,0.9495634593531577,0.947462718816837,0.945509513131924,0.9436801463501752,0.9419564941950966,0.9403243458746147,0.9387723274827522,0.9372911764128276,0.935873236788666,0.9345120991160911,0.933202336953741,0.9319393105963627,0.9307190181168608,0.9202702107586447,0.9119144053579475,0.9048347460303603,0.8986299375915223,0.8930693135198453,0.8880065607057759,0.8833423308452666,0.8790057001353944,0.8749440511573994,0.8711171386214573,0.8674934072757878,0.8640476012667477,0.8607591529414549,0.8576110624313742,0.8545890974857002,0.8516812087394783,0.8488770937847221,0.8461678664095871,0.8229704610208728,0.8044203387520383,0.7887037192598427,0.774929559872021,0.7625856893316723,0.7513472370018235,0.7409936134937425,0.7313673431649477,0.7223515976374983,0.7138570193150144,0.7058135456660466,0.698165101065797,0.6908660193221294,0.6838785559318694,0.6771711114148502,0.6707169330019269,0.6644931467167225,0.6584800229732082,0.6069957604479441,0.5658286605421381,0.5309518542310343,0.5003871383729575,0.4729974647553945,0.44806161540054745,0.4250898860235566,0.40373268864698275,0.38373067357781565,0.3648854764933276,0.34704156783766393,0.33007446848500877,0.31388280766077514,0.2983828001401889,0.28350430206967303,0.2691879287511938,0.25538290590770885,0.2420454393509317,0.12786171382856537,0.03657450891694225,-0.04075385736371118,-0.10851379517703208,-0.1692287488662032,-0.22449925097566847,-0.275412019244186,-0.3227428104479486,-0.36706712036186673,-0.40882510653750614,-0.4483618701619889,-0.48595360865067505,-0.5218252409011939,-0.5561626634090544,-0.5891215029739669,-0.6208335126510747,-0.6514113399546204,-0.6809521446289182,-0.9337985636310577,-1.135871070597318,-1.3069942140801913,-1.4569051448000891,-1.591199859185508,-1.7134273948797727,-1.8259972644237905,-1.9306293842913647,-2.028599592825458,-2.120883632829532,-2.2082464823701002,-2.291300349260041,-2.370543754141522,-2.4463887066788175,-2.5191801126975406,-2.589209955231695,-2.656727866174606,-2.721949147018904],\"type\":\"scatter\"},{\"hoverinfo\":\"all\",\"legendgroup\":\"DS3\",\"line\":{\"color\":\"rgb(128, 150, 244)\",\"dash\":\"solid\",\"shape\":\"spline\",\"width\":3},\"mode\":\"lines\",\"name\":\"DS3\",\"showlegend\":true,\"visible\":true,\"x\":[1e-12,1.5e-12,2e-12,2.5e-12,3e-12,3.5e-12,4e-12,4.5e-12,5e-12,5.4999999999999996e-12,6e-12,6.5e-12,7e-12,7.5e-12,8e-12,8.5e-12,9e-12,9.5e-12,1e-11,1.5e-11,2e-11,2.4999999999999998e-11,3e-11,3.4999999999999995e-11,4e-11,4.5e-11,4.9999999999999995e-11,5.5e-11,6e-11,6.5e-11,6.999999999999999e-11,7.5e-11,8e-11,8.499999999999999e-11,9e-11,9.5e-11,9.999999999999999e-11,1.5e-10,2e-10,2.5e-10,3e-10,3.5000000000000003e-10,4e-10,4.5e-10,5e-10,5.500000000000001e-10,6e-10,6.5e-10,7.000000000000001e-10,7.5e-10,8e-10,8.500000000000001e-10,9e-10,9.5e-10,1e-09,1.5000000000000002e-09,2e-09,2.5e-09,3.0000000000000004e-09,3.5000000000000003e-09,4e-09,4.500000000000001e-09,5e-09,5.5000000000000004e-09,6.000000000000001e-09,6.5e-09,7.000000000000001e-09,7.500000000000001e-09,8e-09,8.5e-09,9.000000000000001e-09,9.5e-09,1e-08,1.5000000000000002e-08,2e-08,2.5e-08,3.0000000000000004e-08,3.5e-08,4e-08,4.5e-08,5e-08,5.5e-08,6.000000000000001e-08,6.5e-08,7e-08,7.5e-08,8e-08,8.500000000000001e-08,9e-08,9.5e-08,1e-07,1.5e-07,2e-07,2.5e-07,3e-07,3.5e-07,4e-07,4.5e-07,5e-07,5.5e-07,6e-07,6.499999999999999e-07,7e-07,7.5e-07,8e-07,8.499999999999999e-07,9e-07,9.5e-07,1e-06,1.5e-06,2e-06,2.4999999999999998e-06,3e-06,3.5e-06,4e-06,4.5e-06,4.9999999999999996e-06,5.5e-06,6e-06,6.5e-06,7e-06,7.499999999999999e-06,8e-06,8.5e-06,9e-06,9.499999999999999e-06,9.999999999999999e-06,1.5000000000000002e-05,2e-05,2.5e-05,3.0000000000000004e-05,3.5000000000000004e-05,4e-05,4.5e-05,5e-05,5.5e-05,6.000000000000001e-05,6.500000000000001e-05,7.000000000000001e-05,7.500000000000001e-05,8e-05,8.5e-05,9e-05,9.5e-05,0.0001],\"y\":[0.9919157672245003,0.9859521702796268,0.9792552649156439,0.9719840648373894,0.9642472353935809,0.956125877545495,0.9476838920489805,0.9389734800675178,0.9300383794216391,0.9209159166467429,0.9116383851237604,0.902234014016803,0.8927276756241793,0.8831414182964052,0.8734948788466501,0.8638056091483073,0.8540893399944116,0.8443601980107212,0.8346308867036392,0.7393581326830254,0.6514913624645735,0.5731498466553211,0.5043644833362049,0.44434563950506584,0.3920476618298217,0.3464160871753132,0.3064872472306042,0.2714197387595285,0.24049562262741842,0.2131093517842793,0.1887528295621284,0.16700035363011595,0.1474949699275716,0.12993671241353622,0.11407273403181684,0.09968914357004072,0.08660430454737614,0.0017704009960601286,-0.040521615423011054,-0.06508847701390665,-0.08084340936781895,-0.09166730169740601,-0.09948901215441329,-0.10536391445507899,-0.1099131147312101,-0.1135236483208928,-0.11644805308448963,-0.11885746704862614,-0.12087160045307056,-0.12257647485909982,-0.12403535140336508,-0.125295698464654,-0.12639376839584873,-0.12735768314594081,-0.12820956299634192,-0.13321673728222505,-0.13542198319185558,-0.1366261807552053,-0.13737090887611364,-0.13787063872839944,-0.1382259032177429,-0.13848958000690975,-0.13869192198674712,-0.13885138727447768,-0.13897982497091643,-0.13908516180652794,-0.13917288477912446,-0.13924690288861352,-0.13931007019116914,-0.13936451519763712,-0.1394118549987145,-0.13945333835063548,-0.1394899436351104,-0.1397040366207137,-0.1397977532227249,-0.13984878112676327,-0.13988028720653656,-0.1399014063705614,-0.13991640945807438,-0.1399275389293222,-0.1399360761860837,-0.1399428023326868,-0.13994821844311117,-0.13995265953629887,-0.13995635741321222,-0.13995947715058263,-0.13996213923782438,-0.13996443351065213,-0.13996642820461302,-0.13996817600268163,-0.13996971817424572,-0.13997873595817018,-0.13998268236231862,-0.13998483088491145,-0.13998615735188175,-0.13998704647026342,-0.1399876780821946,-0.13998814660925313,-0.1399885060036579,-0.13998878915180696,-0.13998901714951278,-0.1399892041011426,-0.13998935976538077,-0.1399894910917527,-0.13998960315264736,-0.1399896997299461,-0.13998978369618498,-0.13998985726915983,-0.1399899221861763,-0.13999030178235533,-0.13999046790117445,-0.13999055834001312,-0.13999061417548928,-0.1399906516014161,-0.1399906781880127,-0.13999069790981933,-0.139990713037872,-0.13999072495647105,-0.13999073455360977,-0.13999074242298765,-0.13999074897537964,-0.13999075450331377,-0.1399907592203033,-0.13999076328553967,-0.1399907668199371,-0.13999076991684967,-0.13999077264940601,-0.13999078862776765,-0.1399907956202125,-0.13999079942705664,-0.13999080177734036,-0.13999080335271047,-0.1399908044718204,-0.13999080530197064,-0.1399908059387559,-0.1399908064404456,-0.13999080684441803,-0.1399908071756638,-0.1399908074514737,-0.13999080768416106,-0.13999080788271331,-0.13999080805383135,-0.13999080820260476,-0.13999080833296312,-0.13999080844798462],\"type\":\"scatter\"},{\"hoverinfo\":\"all\",\"legendgroup\":\"DS7\",\"line\":{\"color\":\"rgb(55, 170, 186)\",\"dash\":\"solid\",\"shape\":\"spline\",\"width\":3},\"mode\":\"lines\",\"name\":\"DS7\",\"showlegend\":true,\"visible\":true,\"x\":[1e-12,1.5e-12,2e-12,2.5e-12,3e-12,3.5e-12,4e-12,4.5e-12,5e-12,5.4999999999999996e-12,6e-12,6.5e-12,7e-12,7.5e-12,8e-12,8.5e-12,9e-12,9.5e-12,1e-11,1.5e-11,2e-11,2.4999999999999998e-11,3e-11,3.4999999999999995e-11,4e-11,4.5e-11,4.9999999999999995e-11,5.5e-11,6e-11,6.5e-11,6.999999999999999e-11,7.5e-11,8e-11,8.499999999999999e-11,9e-11,9.5e-11,9.999999999999999e-11,1.5e-10,2e-10,2.5e-10,3e-10,3.5000000000000003e-10,4e-10,4.5e-10,5e-10,5.500000000000001e-10,6e-10,6.5e-10,7.000000000000001e-10,7.5e-10,8e-10,8.500000000000001e-10,9e-10,9.5e-10,1e-09,1.5000000000000002e-09,2e-09,2.5e-09,3.0000000000000004e-09,3.5000000000000003e-09,4e-09,4.500000000000001e-09,5e-09,5.5000000000000004e-09,6.000000000000001e-09,6.5e-09,7.000000000000001e-09,7.500000000000001e-09,8e-09,8.5e-09,9.000000000000001e-09,9.5e-09,1e-08,1.5000000000000002e-08,2e-08,2.5e-08,3.0000000000000004e-08,3.5e-08,4e-08,4.5e-08,5e-08,5.5e-08,6.000000000000001e-08,6.5e-08,7e-08,7.5e-08,8e-08,8.500000000000001e-08,9e-08,9.5e-08,1e-07,1.5e-07,2e-07,2.5e-07,3e-07,3.5e-07,4e-07,4.5e-07,5e-07,5.5e-07,6e-07,6.499999999999999e-07,7e-07,7.5e-07,8e-07,8.499999999999999e-07,9e-07,9.5e-07,1e-06,1.5e-06,2e-06,2.4999999999999998e-06,3e-06,3.5e-06,4e-06,4.5e-06,4.9999999999999996e-06,5.5e-06,6e-06,6.5e-06,7e-06,7.499999999999999e-06,8e-06,8.5e-06,9e-06,9.499999999999999e-06,9.999999999999999e-06,1.5000000000000002e-05,2e-05,2.5e-05,3.0000000000000004e-05,3.5000000000000004e-05,4e-05,4.5e-05,5e-05,5.5e-05,6.000000000000001e-05,6.500000000000001e-05,7.000000000000001e-05,7.500000000000001e-05,8e-05,8.5e-05,9e-05,9.5e-05,0.0001],\"y\":[0.9994601644693095,0.9988469864261007,0.9980253995675193,0.9970041628077692,0.9957903148407339,0.9943899250061807,0.9928084683031962,0.9910510370468175,0.9891224700273594,0.9870274355519225,0.9847704867255519,0.9823560990535859,0.9797886962769677,0.9770726680945818,0.9742123821315378,0.9712121917331697,0.9680764406766452,0.9648094655759131,0.9614155965446409,0.9214420895370666,0.8733961837598733,0.8210325666346064,0.7673949536957305,0.7147204773433109,0.6644960074797313,0.6175946124056686,0.5744323528288086,0.5351105746235837,0.4995296084313844,0.4674723207676667,0.4386617600468592,0.41279882562910186,0.3895855592867085,0.3687385933779575,0.349996129657862,0.33312082658840186,0.31790020713824285,0.2245165644295768,0.18357262977315025,0.16241659456767096,0.1501384605707195,0.1423933676785447,0.13719547337206311,0.13353694557451246,0.1308631413076718,0.12884859843635377,0.1272921597157273,0.12606405752336894,0.12507751933398248,0.12427272569526006,0.12360734227522155,0.12305071836960416,0.12258021447079781,0.1221788103780059,0.12183350765241431,0.1200071484267355,0.11933623173553805,0.11901490476457793,0.11883565382739375,0.11872518533464538,0.11865214454858965,0.11860125325331462,0.11856432708242312,0.11853665324302001,0.1185153586989536,0.11849860913102207,0.11848518775110412,0.11847426101324804,0.11846524200808115,0.11845770756650742,0.11845134619741265,0.11844592439875093,0.11844126427849085,0.11841667619691942,0.11840766898622251,0.11840335989142116,0.1184009574277852,0.11839947732140399,0.11839849888925022,0.11839781725951057,0.1183973227249933,0.11839695212931756,0.11839666697794034,0.11839644269706459,0.11839626298752182,0.11839611668471496,0.11839599592805981,0.11839589505029224,0.11839580987998112,0.11839573729023159,0.11839567489891709,0.11839534571588527,0.11839522513268971,0.11839516744594349,0.11839513528390586,0.11839511546964954,0.1183951023713666,0.1183950932463981,0.11839508662607962,0.11839508166493143,0.11839507784762515,0.11839507484519074,0.11839507243943113,0.11839507048088599,0.11839506886432581,0.11839506751388312,0.11839506637371515,0.1183950654019623,0.11839506456673517,0.1183950601599923,0.11839505854575699,0.11839505777351038,0.11839505734296049,0.1183950570777091,0.11839505690236375,0.11839505678020876,0.11839505669158325,0.11839505662516887,0.118395056574067,0.11839505653387372,0.11839505650166808,0.11839505647544923,0.11839505645380852,0.11839505643573028,0.11839505642046698,0.11839505640745822,0.11839505639627712,0.11839505633728452,0.11839505631567493,0.11839505630533695,0.11839505629957321,0.11839505629602233,0.118395056293675,0.11839505629203972,0.1183950562908533,0.11839505628996422,0.11839505628928013,0.11839505628874206,0.11839505628831093,0.11839505628795993,0.11839505628767023,0.11839505628742822,0.1183950562872239,0.11839505628704974,0.11839505628690007],\"type\":\"scatter\"},{\"hoverinfo\":\"all\",\"legendgroup\":\"DS8\",\"line\":{\"color\":\"rgb(52, 175, 137)\",\"dash\":\"solid\",\"shape\":\"spline\",\"width\":3},\"mode\":\"lines\",\"name\":\"DS8\",\"showlegend\":true,\"visible\":true,\"x\":[1e-12,1.5e-12,2e-12,2.5e-12,3e-12,3.5e-12,4e-12,4.5e-12,5e-12,5.4999999999999996e-12,6e-12,6.5e-12,7e-12,7.5e-12,8e-12,8.5e-12,9e-12,9.5e-12,1e-11,1.5e-11,2e-11,2.4999999999999998e-11,3e-11,3.4999999999999995e-11,4e-11,4.5e-11,4.9999999999999995e-11,5.5e-11,6e-11,6.5e-11,6.999999999999999e-11,7.5e-11,8e-11,8.499999999999999e-11,9e-11,9.5e-11,9.999999999999999e-11,1.5e-10,2e-10,2.5e-10,3e-10,3.5000000000000003e-10,4e-10,4.5e-10,5e-10,5.500000000000001e-10,6e-10,6.5e-10,7.000000000000001e-10,7.5e-10,8e-10,8.500000000000001e-10,9e-10,9.5e-10,1e-09,1.5000000000000002e-09,2e-09,2.5e-09,3.0000000000000004e-09,3.5000000000000003e-09,4e-09,4.500000000000001e-09,5e-09,5.5000000000000004e-09,6.000000000000001e-09,6.5e-09,7.000000000000001e-09,7.500000000000001e-09,8e-09,8.5e-09,9.000000000000001e-09,9.5e-09,1e-08,1.5000000000000002e-08,2e-08,2.5e-08,3.0000000000000004e-08,3.5e-08,4e-08,4.5e-08,5e-08,5.5e-08,6.000000000000001e-08,6.5e-08,7e-08,7.5e-08,8e-08,8.500000000000001e-08,9e-08,9.5e-08,1e-07,1.5e-07,2e-07,2.5e-07,3e-07,3.5e-07,4e-07,4.5e-07,5e-07,5.5e-07,6e-07,6.499999999999999e-07,7e-07,7.5e-07,8e-07,8.499999999999999e-07,9e-07,9.5e-07,1e-06,1.5e-06,2e-06,2.4999999999999998e-06,3e-06,3.5e-06,4e-06,4.5e-06,4.9999999999999996e-06,5.5e-06,6e-06,6.5e-06,7e-06,7.499999999999999e-06,8e-06,8.5e-06,9e-06,9.499999999999999e-06,9.999999999999999e-06,1.5000000000000002e-05,2e-05,2.5e-05,3.0000000000000004e-05,3.5000000000000004e-05,4e-05,4.5e-05,5e-05,5.5e-05,6.000000000000001e-05,6.500000000000001e-05,7.000000000000001e-05,7.500000000000001e-05,8e-05,8.5e-05,9e-05,9.5e-05,0.0001],\"y\":[0.9998699305290142,0.9997060235165045,0.9994757741959468,0.9991790663935277,0.9988158666045717,0.998386204920127,0.9978901649693588,0.9973278778833919,0.9966995183228632,0.9960053016673878,0.9952454819030694,0.9944203499493346,0.9935302322715669,0.9925754896839062,0.9915565162802655,0.9904737384521696,0.9893276139650592,0.988118631073249,0.9868473076595009,0.970838778206122,0.9493532390889591,0.9232627758374944,0.8935436460837813,0.8611930874913739,0.8271604621923347,0.7922979499401965,0.7573316186688058,0.7228503955512032,0.6893087062688744,0.6570381601362929,0.6262641705379166,0.5971243381259166,0.5696864346371814,0.5439647050623085,0.5199338748820844,0.49754070437328723,0.47671320874287126,0.3353711077035856,0.26629795095143494,0.22933819556190033,0.20770960942720412,0.1940987097350041,0.18502702789368433,0.17869792115021954,0.17411608543903964,0.1706970079946376,0.16808028515415188,0.16603439421254523,0.16440532865830632,0.163087531780415,0.1620067527650976,0.1611095637893255,0.160356744401753,0.15971898850177357,0.15917404868295484,0.15636710526667796,0.15538435204539836,0.15493007710383447,0.15468369265614418,0.15453535316496575,0.15443920864533278,0.15437337600576187,0.15432634107313528,0.1542915777208943,0.15426516340033572,0.15424462562488891,0.15422834338518196,0.1542152181449825,0.15420448410809204,0.15419559424690835,0.15418814939696773,0.15418185277836843,0.15417648003453735,0.15414891432309155,0.1541393060332662,0.15413487210696636,0.1541324692585962,0.15413102325614603,0.15413008631478348,0.1541294448884862,0.15412898667420935,0.15412864804209617,0.15412839075688398,0.15412819072238323,0.15412803214292617,0.1541279043151925,0.15412779977849383,0.15412771320385305,0.1541276407029591,0.15412757938498267,0.1541275270646343,0.1541272586371688,0.15412716507830507,0.15412712190451508,0.15412709850781575,0.15412708442805417,0.15412707530505843,0.15412706905950369,0.15412706459788642,0.15412706130063977,0.15412705879546623,0.1541270568477411,0.15412705530366216,0.15412705405901136,0.15412705304114424,0.1541270521981727,0.15412705149223643,0.15412705089518755,0.15412705038574803,0.15412704777208983,0.15412704686111453,0.1541270464407348,0.15412704621292303,0.15412704607582953,0.15412704598699967,0.1541270459261872,0.1541270458827448,0.1541270458506398,0.15412704582624712,0.1541270458072823,0.1541270457922477,0.15412704578012865,0.15412704577021777,0.1541270457620098,0.15412704575513617,0.15412704574932276,0.1541270457443624,0.15412704571891342,0.15412704571004332,0.15412704570595012,0.15412704570373192,0.15412704570239708,0.15412704570153213,0.15412704570094002,0.15412704570051702,0.1541270457002044,0.1541270456999669,0.15412704569978225,0.15412704569963587,0.15412704569951785,0.15412704569942134,0.15412704569934144,0.1541270456992745,0.1541270456992179,0.1541270456991696],\"type\":\"scatter\"},{\"hoverinfo\":\"all\",\"legendgroup\":\"DS9\",\"line\":{\"color\":\"rgb(130, 168, 49)\",\"dash\":\"solid\",\"shape\":\"spline\",\"width\":3},\"mode\":\"lines\",\"name\":\"DS9\",\"showlegend\":true,\"visible\":true,\"x\":[1e-12,1.5e-12,2e-12,2.5e-12,3e-12,3.5e-12,4e-12,4.5e-12,5e-12,5.4999999999999996e-12,6e-12,6.5e-12,7e-12,7.5e-12,8e-12,8.5e-12,9e-12,9.5e-12,1e-11,1.5e-11,2e-11,2.4999999999999998e-11,3e-11,3.4999999999999995e-11,4e-11,4.5e-11,4.9999999999999995e-11,5.5e-11,6e-11,6.5e-11,6.999999999999999e-11,7.5e-11,8e-11,8.499999999999999e-11,9e-11,9.5e-11,9.999999999999999e-11,1.5e-10,2e-10,2.5e-10,3e-10,3.5000000000000003e-10,4e-10,4.5e-10,5e-10,5.500000000000001e-10,6e-10,6.5e-10,7.000000000000001e-10,7.5e-10,8e-10,8.500000000000001e-10,9e-10,9.5e-10,1e-09,1.5000000000000002e-09,2e-09,2.5e-09,3.0000000000000004e-09,3.5000000000000003e-09,4e-09,4.500000000000001e-09,5e-09,5.5000000000000004e-09,6.000000000000001e-09,6.5e-09,7.000000000000001e-09,7.500000000000001e-09,8e-09,8.5e-09,9.000000000000001e-09,9.5e-09,1e-08,1.5000000000000002e-08,2e-08,2.5e-08,3.0000000000000004e-08,3.5e-08,4e-08,4.5e-08,5e-08,5.5e-08,6.000000000000001e-08,6.5e-08,7e-08,7.5e-08,8e-08,8.500000000000001e-08,9e-08,9.5e-08,1e-07,1.5e-07,2e-07,2.5e-07,3e-07,3.5e-07,4e-07,4.5e-07,5e-07,5.5e-07,6e-07,6.499999999999999e-07,7e-07,7.5e-07,8e-07,8.499999999999999e-07,9e-07,9.5e-07,1e-06,1.5e-06,2e-06,2.4999999999999998e-06,3e-06,3.5e-06,4e-06,4.5e-06,4.9999999999999996e-06,5.5e-06,6e-06,6.5e-06,7e-06,7.499999999999999e-06,8e-06,8.5e-06,9e-06,9.499999999999999e-06,9.999999999999999e-06,1.5000000000000002e-05,2e-05,2.5e-05,3.0000000000000004e-05,3.5000000000000004e-05,4e-05,4.5e-05,5e-05,5.5e-05,6.000000000000001e-05,6.500000000000001e-05,7.000000000000001e-05,7.500000000000001e-05,8e-05,8.5e-05,9e-05,9.5e-05,0.0001],\"y\":[0.9966338324816364,0.9938853683173114,0.9906723036550353,0.9870708765469829,0.9831342941697705,0.9789030330206152,0.9744096044414579,0.9696811100140106,0.96474075302116,0.959608797944794,0.9543032132374203,0.9488401206512933,0.9432341204538255,0.9374985337631796,0.9316455876746434,0.9256865597781528,0.9196318931520246,0.913491289441211,0.90727378536768,0.8424856175548159,0.7766480819604906,0.7130740862795671,0.6534419436516518,0.598471892910067,0.5483291955284474,0.5028709525650061,0.46179601087015815,0.42473412989130566,0.39129742597783335,0.3611087281361393,0.3338160438610259,0.30909884448800895,0.2866696707979425,0.26627317859510435,0.2476838891751254,0.23070338509051558,0.21515737252668737,0.11252067190553562,0.06069847256707611,0.030694792634102103,0.01160888035989735,-0.0013793673214589422,-0.010674780330004227,-0.017591421629669354,-0.022899731986071738,-0.02707743042484287,-0.030434514334918655,-0.03317986306126315,-0.03545874991673431,-0.03737497554025081,-0.03900445444836023,-0.04040384409924111,-0.0416161901515758,-0.04267471695718862,-0.04360543189574729,-0.04896398654006189,-0.051241203554507404,-0.05245236677603037,-0.05318590023640346,-0.05366965081417537,-0.054008491931673744,-0.054256742233801926,-0.05444506770049716,-0.054591959703824335,-0.0547091643128049,-0.05480446472265179,-0.05488320179544947,-0.054949149985022074,-0.05500504467226706,-0.05505291175695855,-0.05509428040643109,-0.05513032428937026,-0.05516195767253202,-0.05534303014308669,-0.05541943995027023,-0.05545994914396722,-0.05548443949093233,-0.055500572344752655,-0.05551186401060248,-0.05552013234114618,-0.055526402278892294,-0.05553129126555805,-0.055535191226391764,-0.05553836171158445,-0.05554098074446594,-0.055543174089604824,-0.055545032861668814,-0.055546624525289155,-0.055547999992188325,-0.055549198330834756,-0.05555024996988995,-0.055556268478125226,-0.05555880759734207,-0.05556015358498952,-0.05556096727045042,-0.055561503260413155,-0.055561878399715804,-0.05556215309082211,-0.055562361388397166,-0.05556252380686125,-0.05556265336756428,-0.05556275869365548,-0.05556284569959198,-0.05556291856359002,-0.055562980312677736,-0.05556303318815817,-0.05556307888140299,-0.05556311869032321,-0.05556315362579751,-0.05556335355948882,-0.05556343790788196,-0.05556348262082435,-0.055563509650938064,-0.05556352745616187,-0.0555635399180252,-0.05556354904306479,-0.055563555962556306,-0.05556356135797583,-0.05556356566188402,-0.055563569160736064,-0.05556357205100609,-0.05556357447149149,-0.055563576522747946,-0.05556357827922992,-0.05556357979712353,-0.055563581119544396,-0.055563582280073166,-0.055563588921710524,-0.05556359172369597,-0.0555635932090236,-0.05556359410694196,-0.05556359469841697,-0.055563595112389896,-0.055563595415516254,-0.0555635956453761,-0.05556359582460752,-0.05556359596757983,-0.05556359608380883,-0.055563596179821234,-0.05556359626022778,-0.05556359632836884,-0.05556359638671773,-0.05556359643714091,-0.05556359648107065,-0.05556359651962246],\"type\":\"scatter\"},{\"hoverinfo\":\"all\",\"legendgroup\":\"MGH\",\"line\":{\"color\":\"rgb(197, 147, 49)\",\"dash\":\"solid\",\"shape\":\"spline\",\"width\":3},\"mode\":\"lines\",\"name\":\"MGH\",\"showlegend\":true,\"visible\":true,\"x\":[1e-12,1.5e-12,2e-12,2.5e-12,3e-12,3.5e-12,4e-12,4.5e-12,5e-12,5.4999999999999996e-12,6e-12,6.5e-12,7e-12,7.5e-12,8e-12,8.5e-12,9e-12,9.5e-12,1e-11,1.5e-11,2e-11,2.4999999999999998e-11,3e-11,3.4999999999999995e-11,4e-11,4.5e-11,4.9999999999999995e-11,5.5e-11,6e-11,6.5e-11,6.999999999999999e-11,7.5e-11,8e-11,8.499999999999999e-11,9e-11,9.5e-11,9.999999999999999e-11,1.5e-10,2e-10,2.5e-10,3e-10,3.5000000000000003e-10,4e-10,4.5e-10,5e-10,5.500000000000001e-10,6e-10,6.5e-10,7.000000000000001e-10,7.5e-10,8e-10,8.500000000000001e-10,9e-10,9.5e-10,1e-09,1.5000000000000002e-09,2e-09,2.5e-09,3.0000000000000004e-09,3.5000000000000003e-09,4e-09,4.500000000000001e-09,5e-09,5.5000000000000004e-09,6.000000000000001e-09,6.5e-09,7.000000000000001e-09,7.500000000000001e-09,8e-09,8.5e-09,9.000000000000001e-09,9.5e-09,1e-08,1.5000000000000002e-08,2e-08,2.5e-08,3.0000000000000004e-08,3.5e-08,4e-08,4.5e-08,5e-08,5.5e-08,6.000000000000001e-08,6.5e-08,7e-08,7.5e-08,8e-08,8.500000000000001e-08,9e-08,9.5e-08,1e-07,1.5e-07,2e-07,2.5e-07,3e-07,3.5e-07,4e-07,4.5e-07,5e-07,5.5e-07,6e-07,6.499999999999999e-07,7e-07,7.5e-07,8e-07,8.499999999999999e-07,9e-07,9.5e-07,1e-06,1.5e-06,2e-06,2.4999999999999998e-06,3e-06,3.5e-06,4e-06,4.5e-06,4.9999999999999996e-06,5.5e-06,6e-06,6.5e-06,7e-06,7.499999999999999e-06,8e-06,8.5e-06,9e-06,9.499999999999999e-06,9.999999999999999e-06,1.5000000000000002e-05,2e-05,2.5e-05,3.0000000000000004e-05,3.5000000000000004e-05,4e-05,4.5e-05,5e-05,5.5e-05,6.000000000000001e-05,6.500000000000001e-05,7.000000000000001e-05,7.500000000000001e-05,8e-05,8.5e-05,9e-05,9.5e-05,0.0001],\"y\":[0.9999746059444939,0.9999312115949975,0.9998605061351056,0.9997586292483573,0.9996222384436902,0.9994483585116525,0.999234295285454,0.9989775811757039,0.9986759384828577,0.9983272535353176,0.9979295578388451,0.997481013984305,0.9969799049045207,0.9964246255572923,0.9958136764067355,0.9951456582619821,0.9944192681549605,0.993633296021999,0.9927866220117086,0.9807959075772883,0.9621173404814228,0.9369257898871832,0.9060351781237055,0.8707158912643523,0.8324696032941253,0.79280996306298,0.7530920463227078,0.7144110038720459,0.677567143022292,0.6430803768110429,0.6112330995050188,0.5821237106786811,0.5557189030492851,0.5318984662646045,0.510490453603438,0.49129698268722344,0.47411207933508476,0.3749766954317363,0.3379583019431309,0.3214556824996026,0.3129896960972735,0.30817478997629283,0.3052173045797029,0.3032901616495563,0.3019745357129006,0.30104198882518796,0.30036022075567037,0.2998487323032309,0.2994564792743348,0.29914994219597235,0.2989064386785383,0.2987102147270834,0.2985500761324894,0.29841790703887316,0.2983077172160082,0.2977898960897037,0.29763615429759716,0.29757300342296805,0.2975417797136048,0.29752436137773935,0.2975137816860331,0.2975069359595547,0.29750228413980184,0.29749899738812713,0.2974966000286549,0.29749480449258114,0.2974934292923366,0.297492355671507,0.2974915034872899,0.2974908171954802,0.2974902573954878,0.29748979556091987,0.2974894106603933,0.2974876034880899,0.2974870674474254,0.2974868473314749,0.29748673851403784,0.2974866778137586,0.29748664094658944,0.2974866170918,0.2974866008822171,0.29748658942943595,0.2974865810758349,0.2974865748193253,0.29748657002748896,0.2974865662865084,0.29748656331712126,0.2974865609257819,0.2974865589751986,0.2974865573659711,0.29748655602481616,0.2974865497278888,0.29748654786011014,0.2974865470931395,0.2974865467139769,0.29748654650247336,0.2974865463740138,0.2974865462908944,0.29748654623441384,0.2974865461945079,0.2974865461654007,0.2974865461436006,0.29748654612690395,0.29748654611386893,0.29748654610352243,0.29748654609519004,0.2974865460883935,0.2974865460827863,0.29748654607811315,0.29748654605617225,0.2974865460496642,0.2974865460469917,0.2974865460456706,0.29748654604493363,0.29748654604448604,0.2974865460441964,0.2974865460439996,0.29748654604386054,0.2974865460437591,0.2974865460436832,0.297486546043625,0.29748654604357955,0.2974865460435435,0.2974865460435145,0.2974865460434908,0.29748654604347124,0.297486546043455,0.29748654604337854,0.29748654604335584,0.29748654604334657,0.29748654604334196,0.29748654604333935,0.2974865460433378,0.2974865460433368,0.29748654604333613,0.29748654604333563,0.2974865460433353,0.297486546043335,0.2974865460433348,0.29748654604333463,0.2974865460433345,0.2974865460433344,0.29748654604333435,0.2974865460433343,0.29748654604333424],\"type\":\"scatter\"},{\"hoverinfo\":\"none\",\"legendgroup\":\"PC9\",\"line\":{\"color\":\"rgb(246, 112, 136)\",\"dash\":\"solid\",\"shape\":\"spline\",\"width\":3},\"mode\":\"none\",\"name\":\"<i>PC9</i>\",\"showlegend\":true,\"visible\":\"legendonly\",\"type\":\"scatter\"}],                        {\"hovermode\":\"x\",\"template\":{\"data\":{\"scatter\":[{\"type\":\"scatter\"}]}},\"title\":{\"text\":\"Dose response for afatinib<br> <span style=\\\"color:#999;font-size:0.9em\\\">13</span>\"},\"xaxis\":{\"range\":[-12,-5],\"title\":{\"text\":\"Dose (M)\"},\"type\":\"log\"},\"yaxis\":{\"range\":[-0.2,1.2],\"rangemode\":\"normal\",\"title\":{\"text\":\"Relative DIP rate\"}}},                        {\"responsive\": true}                    ).then(function(){\n",
       "                            \n",
       "var gd = document.getElementById('68f14b55-38d6-416d-b9c8-e2852e7816ea');\n",
       "var x = new MutationObserver(function (mutations, observer) {{\n",
       "        var display = window.getComputedStyle(gd).display;\n",
       "        if (!display || display === 'none') {{\n",
       "            console.log([gd, 'removed!']);\n",
       "            Plotly.purge(gd);\n",
       "            observer.disconnect();\n",
       "        }}\n",
       "}});\n",
       "\n",
       "// Listen for the removal of the full notebook cells\n",
       "var notebookContainer = gd.closest('#notebook-container');\n",
       "if (notebookContainer) {{\n",
       "    x.observe(notebookContainer, {childList: true});\n",
       "}}\n",
       "\n",
       "// Listen for the clearing of the current output cell\n",
       "var outputEl = gd.closest('.output');\n",
       "if (outputEl) {{\n",
       "    x.observe(outputEl, {childList: true});\n",
       "}}\n",
       "\n",
       "                        })                };                            </script>        </div>\n",
       "</body>\n",
       "</html>"
      ]
     },
     "metadata": {},
     "output_type": "display_data"
    }
   ],
   "source": [
    "fit_p_afat = fp[fp.index.isin(['afatinib'], level='drug')]\n",
    "plot_drc(fit_p_afat)"
   ]
  },
  {
   "cell_type": "code",
   "execution_count": 29,
   "metadata": {
    "colab": {
     "base_uri": "https://localhost:8080/",
     "height": 300
    },
    "id": "exubzfztuLpd",
    "outputId": "dd684bc3-4021-416a-a827-f640ee471c04"
   },
   "outputs": [
    {
     "ename": "AttributeError",
     "evalue": "ignored",
     "output_type": "error",
     "traceback": [
      "\u001b[0;31m---------------------------------------------------------------------------\u001b[0m",
      "\u001b[0;31mAttributeError\u001b[0m                            Traceback (most recent call last)",
      "\u001b[0;32m<ipython-input-29-dcc94eaa14de>\u001b[0m in \u001b[0;36m<module>\u001b[0;34m\u001b[0m\n\u001b[0;32m----> 1\u001b[0;31m plot_drc(fit_p[fit_p.index.isin(['BR1'], level='cell_line') & \\\n\u001b[0m\u001b[1;32m      2\u001b[0m                fit_p.index.isin(['paclitaxel'], level='drug')])\n",
      "\u001b[0;32m/usr/local/lib/python3.9/dist-packages/thunor/plots.py\u001b[0m in \u001b[0;36mplot_drc\u001b[0;34m(fit_params, is_absolute, color_by, color_groups, title, subtitle, template)\u001b[0m\n\u001b[1;32m    446\u001b[0m                 annotation_label += 'E<sub>max{}</sub>{}: {:.5g}'.format(\n\u001b[1;32m    447\u001b[0m                     \u001b[0;34m' rel'\u001b[0m \u001b[0;32mif\u001b[0m \u001b[0;32mnot\u001b[0m \u001b[0mis_absolute\u001b[0m \u001b[0;32melse\u001b[0m \u001b[0;34m''\u001b[0m\u001b[0;34m,\u001b[0m\u001b[0;34m\u001b[0m\u001b[0;34m\u001b[0m\u001b[0m\n\u001b[0;32m--> 448\u001b[0;31m                     \u001b[0;34m'*'\u001b[0m \u001b[0;32mif\u001b[0m \u001b[0mfp\u001b[0m\u001b[0;34m.\u001b[0m\u001b[0mfit_obj\u001b[0m\u001b[0;34m.\u001b[0m\u001b[0memax\u001b[0m \u001b[0;34m<\u001b[0m \u001b[0mfp\u001b[0m\u001b[0;34m.\u001b[0m\u001b[0memax\u001b[0m \u001b[0;32melse\u001b[0m \u001b[0;34m''\u001b[0m\u001b[0;34m,\u001b[0m\u001b[0;34m\u001b[0m\u001b[0;34m\u001b[0m\u001b[0m\n\u001b[0m\u001b[1;32m    449\u001b[0m                     fp.emax if is_absolute else fp.emax_rel)\n\u001b[1;32m    450\u001b[0m             \u001b[0;32mif\u001b[0m \u001b[0mannotation_label\u001b[0m\u001b[0;34m:\u001b[0m\u001b[0;34m\u001b[0m\u001b[0;34m\u001b[0m\u001b[0m\n",
      "\u001b[0;31mAttributeError\u001b[0m: 'NoneType' object has no attribute 'emax'"
     ]
    }
   ],
   "source": [
    "plot_drc(fit_p[fit_p.index.isin(['BR1'], level='cell_line') & \\\n",
    "               fit_p.index.isin(['paclitaxel'], level='drug')])"
   ]
  },
  {
   "cell_type": "code",
   "execution_count": 15,
   "metadata": {
    "id": "pPWd7RcSqi-U"
   },
   "outputs": [],
   "source": [
    "br1_afat = afat.filter(cell_lines=['BR1'])"
   ]
  },
  {
   "cell_type": "code",
   "execution_count": 14,
   "metadata": {
    "colab": {
     "base_uri": "https://localhost:8080/",
     "height": 542
    },
    "id": "r8cpivoutCVg",
    "outputId": "0ddab83e-7608-4ef2-e044-81579c2bab9a"
   },
   "outputs": [
    {
     "data": {
      "text/html": [
       "<html>\n",
       "<head><meta charset=\"utf-8\" /></head>\n",
       "<body>\n",
       "    <div>            <script src=\"https://cdnjs.cloudflare.com/ajax/libs/mathjax/2.7.5/MathJax.js?config=TeX-AMS-MML_SVG\"></script><script type=\"text/javascript\">if (window.MathJax) {MathJax.Hub.Config({SVG: {font: \"STIX-Web\"}});}</script>                <script type=\"text/javascript\">window.PlotlyConfig = {MathJaxConfig: 'local'};</script>\n",
       "        <script src=\"https://cdn.plot.ly/plotly-2.8.3.min.js\"></script>                <div id=\"644e4d1a-9e0e-4219-b834-ded98307804b\" class=\"plotly-graph-div\" style=\"height:525px; width:100%;\"></div>            <script type=\"text/javascript\">                                    window.PLOTLYENV=window.PLOTLYENV || {};                                    if (document.getElementById(\"644e4d1a-9e0e-4219-b834-ded98307804b\")) {                    Plotly.newPlot(                        \"644e4d1a-9e0e-4219-b834-ded98307804b\",                        [{\"legendgroup\":\"__Control\",\"line\":{\"color\":\"black\",\"shape\":\"spline\"},\"marker\":{\"size\":5},\"mode\":\"lines+markers\",\"name\":\"Control\",\"showlegend\":true,\"x\":[5.7,9.0,21.1,24.4,27.8,31.1,48.5,51.8,55.1,58.4,61.6,73.7,77.0,83.6,95.2,98.4,101.7,105.0,108.3,111.6,114.9,118.1],\"y\":[39.0,41.0,62.0,58.0,64.0,74.0,127.0,140.0,165.0,180.0,207.0,283.0,283.0,327.0,367.0,388.0,429.0,488.0,469.0,530.0,561.0,616.0],\"type\":\"scatter\"},{\"legendgroup\":\"__Control\",\"line\":{\"color\":\"black\",\"shape\":\"spline\"},\"marker\":{\"size\":5},\"mode\":\"lines+markers\",\"name\":\"Control\",\"showlegend\":false,\"x\":[5.7,9.0,21.1,24.4,27.8,31.1,48.5,51.8,55.1,58.4,61.6,73.7,77.0,83.6,95.2,98.4,101.7,105.0,108.3,111.6,114.9,118.1],\"y\":[35.0,46.0,63.0,74.0,79.0,89.0,149.0,172.0,185.0,207.0,218.0,300.0,332.0,366.0,383.0,415.0,442.0,480.0,517.0,543.0,574.0,609.0],\"type\":\"scatter\"},{\"legendgroup\":\"__Control\",\"line\":{\"color\":\"black\",\"shape\":\"spline\"},\"marker\":{\"size\":5},\"mode\":\"lines+markers\",\"name\":\"Control\",\"showlegend\":false,\"x\":[5.7,9.0,21.1,24.4,27.8,31.1,48.5,51.8,55.1,58.4,61.6,73.7,77.0,83.6,95.2,98.4,101.7,105.0,108.3,111.6,114.9,118.1],\"y\":[48.0,51.0,82.0,87.0,93.0,114.0,193.0,205.0,238.0,274.0,284.0,369.0,407.0,495.0,521.0,546.0,607.0,657.0,719.0,783.0,823.0,859.0],\"type\":\"scatter\"},{\"legendgroup\":\"__Control\",\"line\":{\"color\":\"black\",\"shape\":\"spline\"},\"marker\":{\"size\":5},\"mode\":\"lines+markers\",\"name\":\"Control\",\"showlegend\":false,\"x\":[5.7,9.0,21.1,24.4,27.8,31.1,48.5,51.8,55.1,58.4,61.6,73.7,77.0,83.6,95.2,98.4,101.7,105.0,108.3,111.6,114.9,118.1],\"y\":[55.0,64.0,82.0,85.0,103.0,114.0,179.0,205.0,215.0,244.0,257.0,337.0,362.0,410.0,402.0,461.0,517.0,582.0,625.0,639.0,699.0,750.0],\"type\":\"scatter\"},{\"legendgroup\":\"__Control\",\"line\":{\"color\":\"black\",\"shape\":\"spline\"},\"marker\":{\"size\":5},\"mode\":\"lines+markers\",\"name\":\"Control\",\"showlegend\":false,\"x\":[5.7,9.0,21.1,24.4,27.8,31.1,48.5,51.8,55.1,58.4,61.6,73.7,77.0,83.6,95.2,98.4,101.7,105.0,108.3,111.6,114.9,118.1],\"y\":[41.0,47.0,63.0,73.0,87.0,95.0,149.0,160.0,177.0,194.0,207.0,267.0,284.0,341.0,361.0,367.0,399.0,451.0,498.0,530.0,539.0,575.0],\"type\":\"scatter\"},{\"legendgroup\":\"__Control\",\"line\":{\"color\":\"black\",\"shape\":\"spline\"},\"marker\":{\"size\":5},\"mode\":\"lines+markers\",\"name\":\"Control\",\"showlegend\":false,\"x\":[5.7,9.0,21.1,24.4,27.8,31.1,48.5,51.8,55.1,58.4,61.6,73.7,77.0,83.6,95.2,98.4,101.7,105.0,108.3,111.6,114.9,118.1],\"y\":[51.0,58.0,73.0,91.0,104.0,119.0,214.0,221.0,237.0,262.0,292.0,351.0,388.0,452.0,485.0,499.0,551.0,614.0,677.0,725.0,771.0,825.0],\"type\":\"scatter\"},{\"legendgroup\":\"__Control\",\"line\":{\"color\":\"black\",\"shape\":\"spline\"},\"marker\":{\"size\":5},\"mode\":\"lines+markers\",\"name\":\"Control\",\"showlegend\":false,\"x\":[5.7,9.0,21.1,24.4,27.8,31.1,48.5,51.8,55.1,58.4,61.6,73.7,77.0,83.6,95.2,98.4,101.7,105.0,108.3,111.6,114.9,118.1],\"y\":[38.0,41.0,63.0,62.0,67.0,74.0,117.0,137.0,132.0,162.0,187.0,225.0,240.0,321.0,326.0,344.0,372.0,399.0,455.0,486.0,522.0,552.0],\"type\":\"scatter\"},{\"legendgroup\":\"__Control\",\"line\":{\"color\":\"black\",\"shape\":\"spline\"},\"marker\":{\"size\":5},\"mode\":\"lines+markers\",\"name\":\"Control\",\"showlegend\":false,\"x\":[5.7,9.0,21.1,24.4,27.8,31.1,48.5,51.8,55.1,58.4,61.6,73.7,77.0,83.6,95.2,98.4,101.7,105.0,108.3,111.6,114.9,118.1],\"y\":[57.0,64.0,86.0,87.0,102.0,114.0,155.0,179.0,184.0,196.0,234.0,242.0,268.0,326.0,337.0,349.0,364.0,394.0,452.0,478.0,526.0,576.0],\"type\":\"scatter\"},{\"legendgroup\":\"__Control\",\"line\":{\"color\":\"black\",\"shape\":\"spline\"},\"marker\":{\"size\":5},\"mode\":\"lines+markers\",\"name\":\"Control\",\"showlegend\":false,\"x\":[5.7,9.0,21.1,24.4,27.8,31.1,48.5,51.8,55.1,58.4,61.6,73.7,77.0,83.6,95.2,98.4,101.7,105.0,108.3,111.6,114.9,118.1],\"y\":[39.0,44.0,72.0,77.0,84.0,90.0,153.0,180.0,184.0,202.0,223.0,291.0,312.0,377.0,388.0,424.0,485.0,547.0,589.0,609.0,643.0,685.0],\"type\":\"scatter\"},{\"legendgroup\":\"__Control\",\"line\":{\"color\":\"black\",\"shape\":\"spline\"},\"marker\":{\"size\":5},\"mode\":\"lines+markers\",\"name\":\"Control\",\"showlegend\":false,\"x\":[5.7,9.0,21.1,24.4,27.8,31.1,48.5,51.8,55.1,58.4,61.6,73.7,77.0,83.6,95.2,98.4,101.7,105.0,108.3,111.6,114.9,118.1],\"y\":[31.0,40.0,55.0,61.0,71.0,72.0,124.0,135.0,136.0,159.0,177.0,216.0,226.0,274.0,286.0,284.0,313.0,337.0,367.0,370.0,413.0,432.0],\"type\":\"scatter\"},{\"legendgroup\":\"__Control\",\"line\":{\"color\":\"black\",\"shape\":\"spline\"},\"marker\":{\"size\":5},\"mode\":\"lines+markers\",\"name\":\"Control\",\"showlegend\":false,\"x\":[5.7,9.0,21.1,24.4,27.8,31.1,48.5,51.8,55.1,58.4,61.6,73.7,77.0,83.6,95.2,98.4,101.7,105.0,108.3,111.6,114.9,118.1],\"y\":[39.0,47.0,71.0,80.0,85.0,91.0,162.0,181.0,202.0,218.0,235.0,305.0,327.0,382.0,400.0,430.0,491.0,555.0,601.0,626.0,658.0,703.0],\"type\":\"scatter\"},{\"legendgroup\":\"__Control\",\"line\":{\"color\":\"black\",\"shape\":\"spline\"},\"marker\":{\"size\":5},\"mode\":\"lines+markers\",\"name\":\"Control\",\"showlegend\":false,\"x\":[5.7,9.0,21.1,24.4,27.8,31.1,48.5,51.8,55.1,58.4,61.6,73.7,77.0,83.6,95.2,98.4,101.7,105.0,108.3,111.6,114.9,118.1],\"y\":[45.0,45.0,67.0,67.0,76.0,90.0,129.0,148.0,157.0,178.0,191.0,216.0,242.0,291.0,294.0,301.0,338.0,391.0,435.0,475.0,482.0,511.0],\"type\":\"scatter\"},{\"legendgroup\":\"__Control\",\"line\":{\"color\":\"black\",\"shape\":\"spline\"},\"marker\":{\"size\":5},\"mode\":\"lines+markers\",\"name\":\"Control\",\"showlegend\":false,\"x\":[5.7,9.0,21.1,24.4,27.8,31.1,48.5,51.8,55.1,58.4,61.6,73.7,77.0,83.6,95.2,98.4,101.7,105.0,108.3,111.6,114.9,118.1],\"y\":[31.0,30.0,45.0,59.0,57.0,70.0,114.0,115.0,131.0,137.0,151.0,208.0,225.0,258.0,266.0,281.0,318.0,324.0,353.0,374.0,391.0,426.0],\"type\":\"scatter\"},{\"legendgroup\":\"__Control\",\"line\":{\"color\":\"black\",\"shape\":\"spline\"},\"marker\":{\"size\":5},\"mode\":\"lines+markers\",\"name\":\"Control\",\"showlegend\":false,\"x\":[5.7,9.0,21.1,24.4,27.8,31.1,48.5,51.8,55.1,58.4,61.6,73.7,77.0,83.6,95.2,98.4,101.7,105.0,108.3,111.6,114.9,118.1],\"y\":[36.0,48.0,59.0,61.0,66.0,80.0,136.0,147.0,163.0,170.0,184.0,234.0,264.0,327.0,333.0,368.0,399.0,435.0,499.0,527.0,526.0,589.0],\"type\":\"scatter\"},{\"legendgroup\":\"__Control\",\"line\":{\"color\":\"black\",\"shape\":\"spline\"},\"marker\":{\"size\":5},\"mode\":\"lines+markers\",\"name\":\"Control\",\"showlegend\":false,\"x\":[5.7,9.0,21.1,24.4,27.8,31.1,48.5,51.8,55.1,58.4,61.6,73.7,77.0,83.6,95.2,98.4,101.7,105.0,108.3,111.6,114.9,118.1],\"y\":[46.0,57.0,90.0,90.0,92.0,116.0,208.0,227.0,256.0,275.0,299.0,378.0,422.0,485.0,511.0,551.0,585.0,656.0,700.0,739.0,783.0,842.0],\"type\":\"scatter\"},{\"legendgroup\":\"__Control\",\"line\":{\"color\":\"black\",\"shape\":\"spline\"},\"marker\":{\"size\":5},\"mode\":\"lines+markers\",\"name\":\"Control\",\"showlegend\":false,\"x\":[5.7,9.0,21.1,24.4,27.8,31.1,48.5,51.8,55.1,58.4,61.6,73.7,77.0,83.6,95.2,98.4,101.7,105.0,108.3,111.6,114.9,118.1],\"y\":[54.0,61.0,89.0,96.0,103.0,122.0,205.0,225.0,244.0,258.0,266.0,355.0,374.0,413.0,426.0,471.0,506.0,567.0,595.0,641.0,645.0,666.0],\"type\":\"scatter\"},{\"legendgroup\":\"__Control\",\"line\":{\"color\":\"black\",\"shape\":\"spline\"},\"marker\":{\"size\":5},\"mode\":\"lines+markers\",\"name\":\"Control\",\"showlegend\":false,\"x\":[5.7,9.0,21.1,24.4,27.8,31.1,48.5,51.8,55.1,58.4,61.6,73.7,77.0,83.6,95.2,98.4,101.7,105.0,108.3,111.6,114.9,118.1],\"y\":[41.0,46.0,70.0,76.0,84.0,91.0,161.0,182.0,184.0,210.0,226.0,297.0,314.0,372.0,384.0,431.0,459.0,524.0,569.0,611.0,660.0,710.0],\"type\":\"scatter\"},{\"legendgroup\":\"__Control\",\"line\":{\"color\":\"black\",\"shape\":\"spline\"},\"marker\":{\"size\":5},\"mode\":\"lines+markers\",\"name\":\"Control\",\"showlegend\":false,\"x\":[5.7,9.0,21.1,24.4,27.8,31.1,48.5,51.8,55.1,58.4,61.6,73.7,77.0,83.6,95.2,98.4,101.7,105.0,108.3,111.6,114.9,118.1],\"y\":[52.0,58.0,84.0,92.0,110.0,103.0,177.0,195.0,212.0,220.0,243.0,303.0,319.0,378.0,382.0,405.0,444.0,505.0,542.0,562.0,590.0,622.0],\"type\":\"scatter\"},{\"legendgroup\":\"__Control\",\"line\":{\"color\":\"black\",\"shape\":\"spline\"},\"marker\":{\"size\":5},\"mode\":\"lines+markers\",\"name\":\"Control\",\"showlegend\":false,\"x\":[5.7,9.0,21.1,24.4,27.8,31.1,48.5,51.8,55.1,58.4,61.6,73.7,77.0,83.6,95.2,98.4,101.7,105.0,108.3,111.6,114.9,118.1],\"y\":[46.0,50.0,83.0,90.0,104.0,117.0,185.0,211.0,208.0,229.0,251.0,325.0,356.0,409.0,425.0,453.0,504.0,507.0,541.0,554.0,617.0,668.0],\"type\":\"scatter\"},{\"legendgroup\":\"__Control\",\"line\":{\"color\":\"black\",\"shape\":\"spline\"},\"marker\":{\"size\":5},\"mode\":\"lines+markers\",\"name\":\"Control\",\"showlegend\":false,\"x\":[5.7,9.0,21.1,24.4,27.8,31.1,48.5,51.8,55.1,58.4,61.6,73.7,77.0,83.6,95.2,98.4,101.7,105.0,108.3,111.6,114.9,118.1],\"y\":[23.0,29.0,41.0,48.0,47.0,50.0,94.0,90.0,105.0,122.0,135.0,175.0,186.0,225.0,231.0,247.0,277.0,293.0,379.0,371.0,357.0,393.0],\"type\":\"scatter\"},{\"legendgroup\":\"__Control\",\"line\":{\"color\":\"black\",\"shape\":\"spline\"},\"marker\":{\"size\":5},\"mode\":\"lines+markers\",\"name\":\"Control\",\"showlegend\":false,\"x\":[5.7,9.0,21.1,24.4,27.8,31.1,48.5,51.8,55.1,58.4,61.6,73.7,77.0,83.6,95.2,98.4,101.7,105.0,108.3,111.6,114.9,118.1],\"y\":[65.0,66.0,98.0,100.0,98.0,114.0,180.0,198.0,204.0,239.0,257.0,285.0,296.0,379.0,390.0,407.0,463.0,500.0,550.0,573.0,593.0,654.0],\"type\":\"scatter\"},{\"legendgroup\":\"__Control\",\"line\":{\"color\":\"black\",\"shape\":\"spline\"},\"marker\":{\"size\":5},\"mode\":\"lines+markers\",\"name\":\"Control\",\"showlegend\":false,\"x\":[5.7,9.0,21.1,24.4,27.8,31.1,48.5,51.8,55.1,58.4,61.6,73.7,77.0,83.6,95.2,98.4,101.7,105.0,108.3,111.6,114.9,118.1],\"y\":[30.0,30.0,47.0,44.0,50.0,59.0,96.0,107.0,116.0,125.0,127.0,161.0,172.0,201.0,200.0,205.0,236.0,258.0,266.0,288.0,300.0,320.0],\"type\":\"scatter\"},{\"legendgroup\":\"__Control\",\"line\":{\"color\":\"black\",\"shape\":\"spline\"},\"marker\":{\"size\":5},\"mode\":\"lines+markers\",\"name\":\"Control\",\"showlegend\":false,\"x\":[5.7,9.0,21.1,24.4,27.8,31.1,48.5,51.8,55.1,58.4,61.6,73.7,77.0,83.6,95.2,98.4,101.7,105.0,108.3,111.6,114.9,118.1],\"y\":[51.0,64.0,84.0,101.0,110.0,115.0,183.0,202.0,221.0,243.0,254.0,323.0,341.0,390.0,405.0,422.0,464.0,515.0,558.0,566.0,600.0,629.0],\"type\":\"scatter\"},{\"legendgroup\":\"__Control\",\"line\":{\"color\":\"black\",\"shape\":\"spline\"},\"marker\":{\"size\":5},\"mode\":\"lines+markers\",\"name\":\"Control\",\"showlegend\":false,\"x\":[5.7,9.0,21.1,24.4,27.8,31.1,48.5,51.8,55.1,58.4,61.6,73.7,77.0,83.6,95.2,98.4,101.7,105.0,108.3,111.6,114.9,118.1],\"y\":[70.0,79.0,101.0,123.0,143.0,147.0,244.0,273.0,280.0,311.0,327.0,421.0,463.0,523.0,574.0,598.0,674.0,734.0,816.0,886.0,922.0,1019.0],\"type\":\"scatter\"},{\"legendgroup\":\"__Control\",\"line\":{\"color\":\"black\",\"shape\":\"spline\"},\"marker\":{\"size\":5},\"mode\":\"lines+markers\",\"name\":\"Control\",\"showlegend\":false,\"x\":[5.7,9.0,21.1,24.4,27.8,31.1,48.5,51.8,55.1,58.4,61.6,73.7,77.0,83.6,95.2,98.4,101.7,105.0,108.3,111.6,114.9,118.1],\"y\":[48.0,56.0,84.0,81.0,96.0,95.0,157.0,169.0,186.0,198.0,219.0,302.0,318.0,388.0,417.0,438.0,492.0,532.0,568.0,630.0,645.0,699.0],\"type\":\"scatter\"},{\"legendgroup\":\"__Control\",\"line\":{\"color\":\"black\",\"shape\":\"spline\"},\"marker\":{\"size\":5},\"mode\":\"lines+markers\",\"name\":\"Control\",\"showlegend\":false,\"x\":[5.7,9.0,21.1,24.4,27.8,31.1,48.5,51.8,55.1,58.4,61.6,73.7,77.0,83.6,95.2,98.4,101.7,105.0,108.3,111.6,114.9,118.1],\"y\":[46.0,47.0,69.0,76.0,86.0,96.0,165.0,201.0,218.0,239.0,255.0,340.0,353.0,431.0,444.0,461.0,531.0,568.0,611.0,664.0,710.0,749.0],\"type\":\"scatter\"},{\"legendgroup\":\"__Control\",\"line\":{\"color\":\"black\",\"shape\":\"spline\"},\"marker\":{\"size\":5},\"mode\":\"lines+markers\",\"name\":\"Control\",\"showlegend\":false,\"x\":[5.7,9.0,21.1,24.4,27.8,31.1,48.5,51.8,55.1,58.4,61.6,73.7,77.0,83.6,95.2,98.4,101.7,105.0,108.3,111.6,114.9,118.1],\"y\":[37.0,42.0,66.0,76.0,74.0,90.0,136.0,149.0,157.0,178.0,191.0,250.0,264.0,317.0,338.0,341.0,369.0,390.0,424.0,442.0,487.0,524.0],\"type\":\"scatter\"},{\"legendgroup\":\"__Control\",\"line\":{\"color\":\"black\",\"shape\":\"spline\"},\"marker\":{\"size\":5},\"mode\":\"lines+markers\",\"name\":\"Control\",\"showlegend\":false,\"x\":[5.7,9.0,21.1,24.4,27.8,31.1,48.5,51.8,55.1,58.4,61.6,73.7,77.0,83.6,95.2,98.4,101.7,105.0,108.3,111.6,114.9,118.1],\"y\":[91.0,88.0,119.0,133.0,136.0,143.0,234.0,228.0,259.0,283.0,315.0,349.0,386.0,471.0,474.0,487.0,543.0,595.0,623.0,683.0,765.0,766.0],\"type\":\"scatter\"},{\"customdata\":[{\"csvname\":[1.86875e-11]}],\"legendgroup\":\"18.6875 pM\",\"line\":{\"color\":\"rgb(245, 101, 204)\",\"shape\":\"spline\"},\"marker\":{\"size\":5},\"mode\":\"lines+markers\",\"name\":\"18.6875 pM\",\"showlegend\":true,\"x\":[5.7,9.0,21.1,24.4,27.8,31.1,48.5,51.8,55.1,58.4,61.6,73.7,77.0,83.6,95.2,98.4,101.7,105.0,108.3,111.6,114.9,118.1],\"y\":[49.0,59.0,93.0,100.0,115.0,131.0,202.0,228.0,238.0,264.0,300.0,352.0,401.0,475.0,484.0,518.0,593.0,674.0,738.0,783.0,813.0,838.0],\"type\":\"scatter\"},{\"customdata\":[{\"csvname\":[1.86875e-11]}],\"legendgroup\":\"18.6875 pM\",\"line\":{\"color\":\"rgb(245, 101, 204)\",\"shape\":\"spline\"},\"marker\":{\"size\":5},\"mode\":\"lines+markers\",\"name\":\"18.6875 pM\",\"showlegend\":false,\"x\":[5.7,9.0,21.1,24.4,27.8,31.1,48.5,51.8,55.1,58.4,61.6,73.7,77.0,83.6,95.2,98.4,101.7,105.0,108.3,111.6,114.9,118.1],\"y\":[36.0,37.0,48.0,52.0,59.0,74.0,128.0,145.0,156.0,162.0,170.0,234.0,245.0,291.0,300.0,331.0,372.0,411.0,445.0,475.0,501.0,510.0],\"type\":\"scatter\"},{\"customdata\":[{\"csvname\":[7.47625e-11]}],\"legendgroup\":\"74.7625 pM\",\"line\":{\"color\":\"rgb(204, 121, 244)\",\"shape\":\"spline\"},\"marker\":{\"size\":5},\"mode\":\"lines+markers\",\"name\":\"74.7625 pM\",\"showlegend\":true,\"x\":[5.7,9.0,21.1,24.4,27.8,31.1,48.5,51.8,55.1,58.4,61.6,73.7,77.0,83.6,95.2,98.4,101.7,105.0,108.3,111.6,114.9,118.1],\"y\":[58.0,60.0,98.0,109.0,114.0,126.0,216.0,248.0,271.0,285.0,299.0,424.0,447.0,536.0,569.0,590.0,659.0,713.0,762.0,795.0,870.0,909.0],\"type\":\"scatter\"},{\"customdata\":[{\"csvname\":[7.47625e-11]}],\"legendgroup\":\"74.7625 pM\",\"line\":{\"color\":\"rgb(204, 121, 244)\",\"shape\":\"spline\"},\"marker\":{\"size\":5},\"mode\":\"lines+markers\",\"name\":\"74.7625 pM\",\"showlegend\":false,\"x\":[5.7,9.0,21.1,24.4,27.8,31.1,48.5,51.8,55.1,58.4,61.6,73.7,77.0,83.6,95.2,98.4,101.7,105.0,108.3,111.6,114.9,118.1],\"y\":[44.0,51.0,74.0,74.0,81.0,89.0,152.0,166.0,193.0,219.0,225.0,273.0,323.0,376.0,399.0,420.0,484.0,535.0,580.0,613.0,654.0,691.0],\"type\":\"scatter\"},{\"customdata\":[{\"csvname\":[3.0525e-10]}],\"legendgroup\":\"305.25 pM\",\"line\":{\"color\":\"rgb(110, 154, 244)\",\"shape\":\"spline\"},\"marker\":{\"size\":5},\"mode\":\"lines+markers\",\"name\":\"305.25 pM\",\"showlegend\":true,\"x\":[5.7,9.0,21.1,24.4,27.8,31.1,48.5,51.8,55.1,58.4,61.6,73.7,77.0,83.6,95.2,98.4,101.7,105.0,108.3,111.6,114.9,118.1],\"y\":[40.0,40.0,71.0,72.0,88.0,103.0,177.0,188.0,190.0,210.0,215.0,282.0,316.0,369.0,406.0,424.0,469.0,515.0,551.0,577.0,615.0,706.0],\"type\":\"scatter\"},{\"customdata\":[{\"csvname\":[3.0525e-10]}],\"legendgroup\":\"305.25 pM\",\"line\":{\"color\":\"rgb(110, 154, 244)\",\"shape\":\"spline\"},\"marker\":{\"size\":5},\"mode\":\"lines+markers\",\"name\":\"305.25 pM\",\"showlegend\":false,\"x\":[5.7,9.0,21.1,24.4,27.8,31.1,48.5,51.8,55.1,58.4,61.6,73.7,77.0,83.6,95.2,98.4,101.7,105.0,108.3,111.6,114.9,118.1],\"y\":[53.0,69.0,98.0,108.0,118.0,128.0,211.0,248.0,258.0,296.0,331.0,460.0,483.0,579.0,613.0,671.0,736.0,810.0,850.0,878.0,948.0,1023.0],\"type\":\"scatter\"},{\"customdata\":[{\"csvname\":[1.246e-09]}],\"legendgroup\":\"1.246 nM\",\"line\":{\"color\":\"rgb(56, 168, 197)\",\"shape\":\"spline\"},\"marker\":{\"size\":5},\"mode\":\"lines+markers\",\"name\":\"1.246 nM\",\"showlegend\":true,\"x\":[5.7,9.0,21.1,24.4,27.8,31.1,48.5,51.8,55.1,58.4,61.6,73.7,77.0,83.6,95.2,98.4,101.7,105.0,108.3,111.6,114.9,118.1],\"y\":[53.0,57.0,98.0,102.0,111.0,123.0,212.0,230.0,259.0,284.0,303.0,367.0,391.0,472.0,497.0,531.0,604.0,654.0,688.0,710.0,739.0,809.0],\"type\":\"scatter\"},{\"customdata\":[{\"csvname\":[1.246e-09]}],\"legendgroup\":\"1.246 nM\",\"line\":{\"color\":\"rgb(56, 168, 197)\",\"shape\":\"spline\"},\"marker\":{\"size\":5},\"mode\":\"lines+markers\",\"name\":\"1.246 nM\",\"showlegend\":false,\"x\":[5.7,9.0,21.1,24.4,27.8,31.1,48.5,51.8,55.1,58.4,61.6,73.7,77.0,83.6,95.2,98.4,101.7,105.0,108.3,111.6,114.9,118.1],\"y\":[39.0,53.0,69.0,85.0,92.0,102.0,163.0,175.0,192.0,206.0,229.0,279.0,296.0,374.0,382.0,409.0,444.0,494.0,571.0,578.0,622.0,639.0],\"type\":\"scatter\"},{\"customdata\":[{\"csvname\":[3.72e-09]}],\"legendgroup\":\"3.72 nM\",\"line\":{\"color\":\"rgb(53, 172, 164)\",\"shape\":\"spline\"},\"marker\":{\"size\":5},\"mode\":\"lines+markers\",\"name\":\"3.72 nM\",\"showlegend\":true,\"x\":[5.7,9.0,21.1,24.4,27.8,31.1,48.5,51.8,55.1,58.4,61.6,73.7,77.0,83.6,95.2,98.4,101.7,105.0,108.3,111.6,114.9,118.1],\"y\":[55.0,62.0,97.0,99.0,111.0,133.0,223.0,239.0,273.0,306.0,312.0,408.0,446.0,532.0,570.0,584.0,624.0,701.0,785.0,813.0,823.0,881.0],\"type\":\"scatter\"},{\"customdata\":[{\"csvname\":[3.72e-09]}],\"legendgroup\":\"3.72 nM\",\"line\":{\"color\":\"rgb(53, 172, 164)\",\"shape\":\"spline\"},\"marker\":{\"size\":5},\"mode\":\"lines+markers\",\"name\":\"3.72 nM\",\"showlegend\":false,\"x\":[5.7,9.0,21.1,24.4,27.8,31.1,48.5,51.8,55.1,58.4,61.6,73.7,77.0,83.6,95.2,98.4,101.7,105.0,108.3,111.6,114.9,118.1],\"y\":[50.0,67.0,82.0,94.0,119.0,123.0,205.0,241.0,231.0,248.0,288.0,366.0,376.0,481.0,508.0,555.0,565.0,630.0,683.0,719.0,780.0,854.0],\"type\":\"scatter\"},{\"customdata\":[{\"csvname\":[1.55e-08]}],\"legendgroup\":\"15.5 nM\",\"line\":{\"color\":\"rgb(51, 176, 122)\",\"shape\":\"spline\"},\"marker\":{\"size\":5},\"mode\":\"lines+markers\",\"name\":\"15.5 nM\",\"showlegend\":true,\"x\":[5.7,9.0,21.1,24.4,27.8,31.1,48.5,51.8,55.1,58.4,61.6,73.7,77.0,83.6,95.2,98.4,101.7,105.0,108.3,111.6,114.9,118.1],\"y\":[50.0,57.0,86.0,96.0,102.0,122.0,199.0,222.0,239.0,261.0,274.0,374.0,402.0,490.0,528.0,552.0,601.0,673.0,712.0,742.0,790.0,855.0],\"type\":\"scatter\"},{\"customdata\":[{\"csvname\":[1.55e-08]}],\"legendgroup\":\"15.5 nM\",\"line\":{\"color\":\"rgb(51, 176, 122)\",\"shape\":\"spline\"},\"marker\":{\"size\":5},\"mode\":\"lines+markers\",\"name\":\"15.5 nM\",\"showlegend\":false,\"x\":[5.7,9.0,21.1,24.4,27.8,31.1,48.5,51.8,55.1,58.4,61.6,73.7,77.0,83.6,95.2,98.4,101.7,105.0,108.3,111.6,114.9,118.1],\"y\":[51.0,56.0,87.0,90.0,94.0,109.0,183.0,190.0,215.0,244.0,275.0,365.0,394.0,461.0,512.0,536.0,594.0,639.0,684.0,741.0,752.0,837.0],\"type\":\"scatter\"},{\"customdata\":[{\"csvname\":[6.20125e-08]}],\"legendgroup\":\"62.0125 nM\",\"line\":{\"color\":\"rgb(119, 170, 49)\",\"shape\":\"spline\"},\"marker\":{\"size\":5},\"mode\":\"lines+markers\",\"name\":\"62.0125 nM\",\"showlegend\":true,\"x\":[5.7,9.0,21.1,24.4,27.8,31.1,48.5,51.8,55.1,58.4,61.6,73.7,77.0,83.6,95.2,98.4,101.7,105.0,108.3,111.6,114.9,118.1],\"y\":[43.0,45.0,68.0,75.0,82.0,87.0,143.0,153.0,167.0,193.0,210.0,254.0,289.0,358.0,360.0,369.0,412.0,431.0,501.0,499.0,520.0,566.0],\"type\":\"scatter\"},{\"customdata\":[{\"csvname\":[6.20125e-08]}],\"legendgroup\":\"62.0125 nM\",\"line\":{\"color\":\"rgb(119, 170, 49)\",\"shape\":\"spline\"},\"marker\":{\"size\":5},\"mode\":\"lines+markers\",\"name\":\"62.0125 nM\",\"showlegend\":false,\"x\":[5.7,9.0,21.1,24.4,27.8,31.1,48.5,51.8,55.1,58.4,61.6,73.7,77.0,83.6,95.2,98.4,101.7,105.0,108.3,111.6,114.9,118.1],\"y\":[58.0,62.0,95.0,98.0,108.0,121.0,194.0,222.0,241.0,256.0,287.0,369.0,397.0,498.0,499.0,544.0,568.0,636.0,696.0,758.0,779.0,866.0],\"type\":\"scatter\"},{\"customdata\":[{\"csvname\":[2.48e-07]}],\"legendgroup\":\"248 nM\",\"line\":{\"color\":\"rgb(173, 156, 49)\",\"shape\":\"spline\"},\"marker\":{\"size\":5},\"mode\":\"lines+markers\",\"name\":\"248 nM\",\"showlegend\":true,\"x\":[5.7,9.0,21.1,24.4,27.8,31.1,48.5,51.8,55.1,58.4,61.6,73.7,77.0,83.6,95.2,98.4,101.7,105.0,108.3,111.6,114.9,118.1],\"y\":[70.0,73.0,105.0,114.0,132.0,135.0,194.0,210.0,227.0,250.0,274.0,332.0,350.0,374.0,394.0,396.0,398.0,430.0,428.0,464.0,460.0,473.0],\"type\":\"scatter\"},{\"customdata\":[{\"csvname\":[2.48e-07]}],\"legendgroup\":\"248 nM\",\"line\":{\"color\":\"rgb(173, 156, 49)\",\"shape\":\"spline\"},\"marker\":{\"size\":5},\"mode\":\"lines+markers\",\"name\":\"248 nM\",\"showlegend\":false,\"x\":[5.7,9.0,21.1,24.4,27.8,31.1,48.5,51.8,55.1,58.4,61.6,73.7,77.0,83.6,95.2,98.4,101.7,105.0,108.3,111.6,114.9,118.1],\"y\":[56.0,59.0,84.0,92.0,99.0,102.0,154.0,163.0,192.0,200.0,202.0,257.0,269.0,317.0,314.0,308.0,325.0,331.0,355.0,359.0,357.0,371.0],\"type\":\"scatter\"},{\"customdata\":[{\"csvname\":[9.92125e-07]}],\"legendgroup\":\"992.125 nM\",\"line\":{\"color\":\"rgb(219, 136, 49)\",\"shape\":\"spline\"},\"marker\":{\"size\":5},\"mode\":\"lines+markers\",\"name\":\"992.125 nM\",\"showlegend\":true,\"x\":[5.7,9.0,21.1,24.4,27.8,31.1,48.5,51.8,55.1,58.4,61.6,73.7,77.0,83.6,95.2,98.4,101.7,105.0,108.3,111.6,114.9,118.1],\"y\":[60.0,75.0,96.0,109.0,116.0,117.0,160.0,177.0,175.0,175.0,182.0,198.0,214.0,239.0,233.0,214.0,229.0,229.0,208.0,216.0,227.0,227.0],\"type\":\"scatter\"},{\"customdata\":[{\"csvname\":[9.92125e-07]}],\"legendgroup\":\"992.125 nM\",\"line\":{\"color\":\"rgb(219, 136, 49)\",\"shape\":\"spline\"},\"marker\":{\"size\":5},\"mode\":\"lines+markers\",\"name\":\"992.125 nM\",\"showlegend\":false,\"x\":[5.7,9.0,21.1,24.4,27.8,31.1,48.5,51.8,55.1,58.4,61.6,73.7,77.0,83.6,95.2,98.4,101.7,105.0,108.3,111.6,114.9,118.1],\"y\":[73.0,82.0,120.0,127.0,133.0,148.0,195.0,198.0,207.0,223.0,225.0,262.0,280.0,305.0,291.0,275.0,290.0,295.0,276.0,286.0,284.0,274.0],\"type\":\"scatter\"},{\"customdata\":[{\"csvname\":[3.96875e-06]}],\"legendgroup\":\"3.96875 \\u03bcM\",\"line\":{\"color\":\"rgb(246, 112, 136)\",\"shape\":\"spline\"},\"marker\":{\"size\":5},\"mode\":\"lines+markers\",\"name\":\"3.96875 \\u03bcM\",\"showlegend\":true,\"x\":[5.7,9.0,21.1,24.4,27.8,31.1,48.5,51.8,55.1,58.4,61.6,73.7,77.0,83.6,95.2,98.4,101.7,105.0,108.3,111.6,114.9,118.1],\"y\":[62.0,64.0,68.0,67.0,73.0,69.0,73.0,69.0,72.0,74.0,76.0,38.0,36.0,39.0,47.0,44.0,42.0,42.0,39.0,38.0,38.0,35.0],\"type\":\"scatter\"},{\"customdata\":[{\"csvname\":[3.96875e-06]}],\"legendgroup\":\"3.96875 \\u03bcM\",\"line\":{\"color\":\"rgb(246, 112, 136)\",\"shape\":\"spline\"},\"marker\":{\"size\":5},\"mode\":\"lines+markers\",\"name\":\"3.96875 \\u03bcM\",\"showlegend\":false,\"x\":[5.7,9.0,21.1,24.4,27.8,31.1,48.5,51.8,55.1,58.4,61.6,73.7,77.0,83.6,95.2,98.4,101.7,105.0,108.3,111.6,114.9,118.1],\"y\":[39.0,43.0,51.0,52.0,51.0,56.0,52.0,51.0,55.0,57.0,52.0,49.0,47.0,45.0,46.0,45.0,47.0,44.0,44.0,38.0,43.0,41.0],\"type\":\"scatter\"}],                        {\"template\":{\"data\":{\"scatter\":[{\"type\":\"scatter\"}]}},\"title\":{\"text\":\"Time course for afatinib on BR1\"},\"xaxis\":{\"dtick\":12,\"range\":[0,120],\"title\":{\"text\":\"Time (hours)\"}},\"yaxis\":{\"title\":{\"text\":\"Assay\"}}},                        {\"responsive\": true}                    ).then(function(){\n",
       "                            \n",
       "var gd = document.getElementById('644e4d1a-9e0e-4219-b834-ded98307804b');\n",
       "var x = new MutationObserver(function (mutations, observer) {{\n",
       "        var display = window.getComputedStyle(gd).display;\n",
       "        if (!display || display === 'none') {{\n",
       "            console.log([gd, 'removed!']);\n",
       "            Plotly.purge(gd);\n",
       "            observer.disconnect();\n",
       "        }}\n",
       "}});\n",
       "\n",
       "// Listen for the removal of the full notebook cells\n",
       "var notebookContainer = gd.closest('#notebook-container');\n",
       "if (notebookContainer) {{\n",
       "    x.observe(notebookContainer, {childList: true});\n",
       "}}\n",
       "\n",
       "// Listen for the clearing of the current output cell\n",
       "var outputEl = gd.closest('.output');\n",
       "if (outputEl) {{\n",
       "    x.observe(outputEl, {childList: true});\n",
       "}}\n",
       "\n",
       "                        })                };                            </script>        </div>\n",
       "</body>\n",
       "</html>"
      ]
     },
     "metadata": {},
     "output_type": "display_data"
    }
   ],
   "source": [
    "from thunor.plots import plot_drc, plot_drc_params, plot_time_course, plot_ctrl_dip_by_plate, plot_plate_map\n",
    "\n",
    "plot_time_course(br1_afat)"
   ]
  },
  {
   "cell_type": "code",
   "execution_count": null,
   "metadata": {
    "colab": {
     "base_uri": "https://localhost:8080/",
     "height": 204
    },
    "id": "GOasPqwO6j5y",
    "outputId": "b601519c-5a2e-41c8-c92e-dbc7a5f68d8c"
   },
   "outputs": [
    {
     "data": {
      "text/html": [
       "\n",
       "  <div id=\"df-191dd194-f3fe-47af-bba1-64de9d7b3309\">\n",
       "    <div class=\"colab-df-container\">\n",
       "      <div>\n",
       "<style scoped>\n",
       "    .dataframe tbody tr th:only-of-type {\n",
       "        vertical-align: middle;\n",
       "    }\n",
       "\n",
       "    .dataframe tbody tr th {\n",
       "        vertical-align: top;\n",
       "    }\n",
       "\n",
       "    .dataframe thead th {\n",
       "        text-align: right;\n",
       "    }\n",
       "</style>\n",
       "<table border=\"1\" class=\"dataframe\">\n",
       "  <thead>\n",
       "    <tr style=\"text-align: right;\">\n",
       "      <th></th>\n",
       "      <th>drug1</th>\n",
       "      <th>cell_line</th>\n",
       "      <th>drug1_conc</th>\n",
       "      <th>well</th>\n",
       "      <th>upid</th>\n",
       "      <th>time</th>\n",
       "      <th>cell_count</th>\n",
       "      <th>drug1.units</th>\n",
       "    </tr>\n",
       "  </thead>\n",
       "  <tbody>\n",
       "    <tr>\n",
       "      <th>0</th>\n",
       "      <td>afatinib</td>\n",
       "      <td>BR1</td>\n",
       "      <td>1.868750e-11</td>\n",
       "      <td>D22</td>\n",
       "      <td>HTS001_BR1-2</td>\n",
       "      <td>5.7</td>\n",
       "      <td>49.0</td>\n",
       "      <td>M</td>\n",
       "    </tr>\n",
       "    <tr>\n",
       "      <th>1</th>\n",
       "      <td>afatinib</td>\n",
       "      <td>BR1</td>\n",
       "      <td>1.868750e-11</td>\n",
       "      <td>D22</td>\n",
       "      <td>HTS001_BR1-2</td>\n",
       "      <td>9.0</td>\n",
       "      <td>59.0</td>\n",
       "      <td>M</td>\n",
       "    </tr>\n",
       "    <tr>\n",
       "      <th>2</th>\n",
       "      <td>afatinib</td>\n",
       "      <td>BR1</td>\n",
       "      <td>1.868750e-11</td>\n",
       "      <td>D22</td>\n",
       "      <td>HTS001_BR1-2</td>\n",
       "      <td>21.1</td>\n",
       "      <td>93.0</td>\n",
       "      <td>M</td>\n",
       "    </tr>\n",
       "    <tr>\n",
       "      <th>3</th>\n",
       "      <td>afatinib</td>\n",
       "      <td>BR1</td>\n",
       "      <td>1.868750e-11</td>\n",
       "      <td>D22</td>\n",
       "      <td>HTS001_BR1-2</td>\n",
       "      <td>24.4</td>\n",
       "      <td>100.0</td>\n",
       "      <td>M</td>\n",
       "    </tr>\n",
       "    <tr>\n",
       "      <th>4</th>\n",
       "      <td>afatinib</td>\n",
       "      <td>BR1</td>\n",
       "      <td>1.868750e-11</td>\n",
       "      <td>D22</td>\n",
       "      <td>HTS001_BR1-2</td>\n",
       "      <td>27.8</td>\n",
       "      <td>115.0</td>\n",
       "      <td>M</td>\n",
       "    </tr>\n",
       "  </tbody>\n",
       "</table>\n",
       "</div>\n",
       "      <button class=\"colab-df-convert\" onclick=\"convertToInteractive('df-191dd194-f3fe-47af-bba1-64de9d7b3309')\"\n",
       "              title=\"Convert this dataframe to an interactive table.\"\n",
       "              style=\"display:none;\">\n",
       "        \n",
       "  <svg xmlns=\"http://www.w3.org/2000/svg\" height=\"24px\"viewBox=\"0 0 24 24\"\n",
       "       width=\"24px\">\n",
       "    <path d=\"M0 0h24v24H0V0z\" fill=\"none\"/>\n",
       "    <path d=\"M18.56 5.44l.94 2.06.94-2.06 2.06-.94-2.06-.94-.94-2.06-.94 2.06-2.06.94zm-11 1L8.5 8.5l.94-2.06 2.06-.94-2.06-.94L8.5 2.5l-.94 2.06-2.06.94zm10 10l.94 2.06.94-2.06 2.06-.94-2.06-.94-.94-2.06-.94 2.06-2.06.94z\"/><path d=\"M17.41 7.96l-1.37-1.37c-.4-.4-.92-.59-1.43-.59-.52 0-1.04.2-1.43.59L10.3 9.45l-7.72 7.72c-.78.78-.78 2.05 0 2.83L4 21.41c.39.39.9.59 1.41.59.51 0 1.02-.2 1.41-.59l7.78-7.78 2.81-2.81c.8-.78.8-2.07 0-2.86zM5.41 20L4 18.59l7.72-7.72 1.47 1.35L5.41 20z\"/>\n",
       "  </svg>\n",
       "      </button>\n",
       "      \n",
       "  <style>\n",
       "    .colab-df-container {\n",
       "      display:flex;\n",
       "      flex-wrap:wrap;\n",
       "      gap: 12px;\n",
       "    }\n",
       "\n",
       "    .colab-df-convert {\n",
       "      background-color: #E8F0FE;\n",
       "      border: none;\n",
       "      border-radius: 50%;\n",
       "      cursor: pointer;\n",
       "      display: none;\n",
       "      fill: #1967D2;\n",
       "      height: 32px;\n",
       "      padding: 0 0 0 0;\n",
       "      width: 32px;\n",
       "    }\n",
       "\n",
       "    .colab-df-convert:hover {\n",
       "      background-color: #E2EBFA;\n",
       "      box-shadow: 0px 1px 2px rgba(60, 64, 67, 0.3), 0px 1px 3px 1px rgba(60, 64, 67, 0.15);\n",
       "      fill: #174EA6;\n",
       "    }\n",
       "\n",
       "    [theme=dark] .colab-df-convert {\n",
       "      background-color: #3B4455;\n",
       "      fill: #D2E3FC;\n",
       "    }\n",
       "\n",
       "    [theme=dark] .colab-df-convert:hover {\n",
       "      background-color: #434B5C;\n",
       "      box-shadow: 0px 1px 3px 1px rgba(0, 0, 0, 0.15);\n",
       "      filter: drop-shadow(0px 1px 2px rgba(0, 0, 0, 0.3));\n",
       "      fill: #FFFFFF;\n",
       "    }\n",
       "  </style>\n",
       "\n",
       "      <script>\n",
       "        const buttonEl =\n",
       "          document.querySelector('#df-191dd194-f3fe-47af-bba1-64de9d7b3309 button.colab-df-convert');\n",
       "        buttonEl.style.display =\n",
       "          google.colab.kernel.accessAllowed ? 'block' : 'none';\n",
       "\n",
       "        async function convertToInteractive(key) {\n",
       "          const element = document.querySelector('#df-191dd194-f3fe-47af-bba1-64de9d7b3309');\n",
       "          const dataTable =\n",
       "            await google.colab.kernel.invokeFunction('convertToInteractive',\n",
       "                                                     [key], {});\n",
       "          if (!dataTable) return;\n",
       "\n",
       "          const docLinkHtml = 'Like what you see? Visit the ' +\n",
       "            '<a target=\"_blank\" href=https://colab.research.google.com/notebooks/data_table.ipynb>data table notebook</a>'\n",
       "            + ' to learn more about interactive tables.';\n",
       "          element.innerHTML = '';\n",
       "          dataTable['output_type'] = 'display_data';\n",
       "          await google.colab.output.renderOutput(dataTable, element);\n",
       "          const docLink = document.createElement('div');\n",
       "          docLink.innerHTML = docLinkHtml;\n",
       "          element.appendChild(docLink);\n",
       "        }\n",
       "      </script>\n",
       "    </div>\n",
       "  </div>\n",
       "  "
      ],
      "text/plain": [
       "      drug1 cell_line    drug1_conc well          upid  time  cell_count  \\\n",
       "0  afatinib       BR1  1.868750e-11  D22  HTS001_BR1-2   5.7        49.0   \n",
       "1  afatinib       BR1  1.868750e-11  D22  HTS001_BR1-2   9.0        59.0   \n",
       "2  afatinib       BR1  1.868750e-11  D22  HTS001_BR1-2  21.1        93.0   \n",
       "3  afatinib       BR1  1.868750e-11  D22  HTS001_BR1-2  24.4       100.0   \n",
       "4  afatinib       BR1  1.868750e-11  D22  HTS001_BR1-2  27.8       115.0   \n",
       "\n",
       "  drug1.units  \n",
       "0           M  \n",
       "1           M  \n",
       "2           M  \n",
       "3           M  \n",
       "4           M  "
      ]
     },
     "execution_count": 29,
     "metadata": {},
     "output_type": "execute_result"
    }
   ],
   "source": [
    "from pandas.io.parsers.readers import read_csv\n",
    "if not os.path.exists(\"./data/afatinib.csv\"):\n",
    "    thunor.io.write_vanderbilt_hts(afat, filename=\"./data/afatinib.csv\")\n",
    "a = read_csv(\"./data/afatinib.csv\")\n",
    "a.rename(columns={'cell.line': 'cell_line', 'cell.count': 'cell_count', 'drug1.conc': 'drug1_conc'}, inplace=True)\n",
    "a.head()\n"
   ]
  },
  {
   "cell_type": "code",
   "execution_count": null,
   "metadata": {
    "id": "hff1tpp6Mcw6"
   },
   "outputs": [],
   "source": [
    "grouped = a.groupby(['cell_line'])"
   ]
  },
  {
   "cell_type": "markdown",
   "metadata": {
    "id": "w1RHibjn6j5y"
   },
   "source": [
    "#### Perform nonlinear regression on data using the `ll4` model  \n",
    "Let's first look at each of the dates independently to assess consistency.  \n",
    "#### Use `scipy.optimize.curve_fit` to perform nonlinear regression (fit model parameters)  \n",
    "Fit data from each date independently.  "
   ]
  },
  {
   "cell_type": "code",
   "execution_count": null,
   "metadata": {
    "colab": {
     "base_uri": "https://localhost:8080/",
     "height": 419
    },
    "id": "naE8HrEw6j5y",
    "outputId": "ee12bfaf-026b-4dd0-dca1-2a949cf43c9e"
   },
   "outputs": [
    {
     "name": "stderr",
     "output_type": "stream",
     "text": [
      "/usr/local/lib/python3.9/dist-packages/pandas/core/arraylike.py:397: RuntimeWarning: divide by zero encountered in log\n",
      "  result = getattr(ufunc, method)(*inputs, **kwargs)\n",
      "/usr/local/lib/python3.9/dist-packages/pandas/core/arraylike.py:397: RuntimeWarning: invalid value encountered in log\n",
      "  result = getattr(ufunc, method)(*inputs, **kwargs)\n"
     ]
    },
    {
     "ename": "RuntimeError",
     "evalue": "ignored",
     "output_type": "error",
     "traceback": [
      "\u001b[0;31m---------------------------------------------------------------------------\u001b[0m",
      "\u001b[0;31mRuntimeError\u001b[0m                              Traceback (most recent call last)",
      "\u001b[0;32m<ipython-input-34-1f2c571c6e25>\u001b[0m in \u001b[0;36m<module>\u001b[0;34m\u001b[0m\n\u001b[1;32m      1\u001b[0m \u001b[0mfitRawData\u001b[0m \u001b[0;34m=\u001b[0m \u001b[0;34m[\u001b[0m\u001b[0;34m]\u001b[0m\u001b[0;34m\u001b[0m\u001b[0;34m\u001b[0m\u001b[0m\n\u001b[1;32m      2\u001b[0m \u001b[0;32mfor\u001b[0m \u001b[0mname\u001b[0m\u001b[0;34m,\u001b[0m \u001b[0mgroup\u001b[0m \u001b[0;32min\u001b[0m \u001b[0mgrouped\u001b[0m\u001b[0;34m:\u001b[0m\u001b[0;34m\u001b[0m\u001b[0;34m\u001b[0m\u001b[0m\n\u001b[0;32m----> 3\u001b[0;31m     \u001b[0mfitCoefs\u001b[0m\u001b[0;34m,\u001b[0m \u001b[0mcovMatrix\u001b[0m \u001b[0;34m=\u001b[0m \u001b[0mopt\u001b[0m\u001b[0;34m.\u001b[0m\u001b[0mcurve_fit\u001b[0m\u001b[0;34m(\u001b[0m\u001b[0mll4\u001b[0m\u001b[0;34m,\u001b[0m \u001b[0mgroup\u001b[0m\u001b[0;34m.\u001b[0m\u001b[0mdrug1_conc\u001b[0m\u001b[0;34m,\u001b[0m \u001b[0mnp\u001b[0m\u001b[0;34m.\u001b[0m\u001b[0mlog2\u001b[0m\u001b[0;34m(\u001b[0m\u001b[0mgroup\u001b[0m\u001b[0;34m.\u001b[0m\u001b[0mcell_count\u001b[0m\u001b[0;34m)\u001b[0m\u001b[0;34m)\u001b[0m\u001b[0;34m\u001b[0m\u001b[0;34m\u001b[0m\u001b[0m\n\u001b[0m\u001b[1;32m      4\u001b[0m     \u001b[0mresids\u001b[0m \u001b[0;34m=\u001b[0m \u001b[0mgroup\u001b[0m\u001b[0;34m.\u001b[0m\u001b[0mcell_count\u001b[0m\u001b[0;34m-\u001b[0m\u001b[0mgroup\u001b[0m\u001b[0;34m.\u001b[0m\u001b[0mdrug1_conc\u001b[0m\u001b[0;34m.\u001b[0m\u001b[0mapply\u001b[0m\u001b[0;34m(\u001b[0m\u001b[0;32mlambda\u001b[0m \u001b[0mx\u001b[0m\u001b[0;34m:\u001b[0m \u001b[0mll4\u001b[0m\u001b[0;34m(\u001b[0m\u001b[0mx\u001b[0m\u001b[0;34m,\u001b[0m\u001b[0;34m*\u001b[0m\u001b[0mfitCoefs\u001b[0m\u001b[0;34m)\u001b[0m\u001b[0;34m)\u001b[0m\u001b[0;34m\u001b[0m\u001b[0;34m\u001b[0m\u001b[0m\n\u001b[1;32m      5\u001b[0m     \u001b[0mcurFit\u001b[0m \u001b[0;34m=\u001b[0m \u001b[0mdict\u001b[0m\u001b[0;34m(\u001b[0m\u001b[0mzip\u001b[0m\u001b[0;34m(\u001b[0m\u001b[0;34m[\u001b[0m\u001b[0;34m'h'\u001b[0m\u001b[0;34m,\u001b[0m\u001b[0;34m'E0'\u001b[0m\u001b[0;34m,\u001b[0m\u001b[0;34m'Emax'\u001b[0m\u001b[0;34m,\u001b[0m\u001b[0;34m'EC50'\u001b[0m\u001b[0;34m]\u001b[0m\u001b[0;34m,\u001b[0m\u001b[0mfitCoefs\u001b[0m\u001b[0;34m)\u001b[0m\u001b[0;34m)\u001b[0m\u001b[0;34m\u001b[0m\u001b[0;34m\u001b[0m\u001b[0m\n",
      "\u001b[0;32m/usr/local/lib/python3.9/dist-packages/scipy/optimize/_minpack_py.py\u001b[0m in \u001b[0;36mcurve_fit\u001b[0;34m(f, xdata, ydata, p0, sigma, absolute_sigma, check_finite, bounds, method, jac, full_output, **kwargs)\u001b[0m\n\u001b[1;32m    862\u001b[0m         \u001b[0mcost\u001b[0m \u001b[0;34m=\u001b[0m \u001b[0mnp\u001b[0m\u001b[0;34m.\u001b[0m\u001b[0msum\u001b[0m\u001b[0;34m(\u001b[0m\u001b[0minfodict\u001b[0m\u001b[0;34m[\u001b[0m\u001b[0;34m'fvec'\u001b[0m\u001b[0;34m]\u001b[0m \u001b[0;34m**\u001b[0m \u001b[0;36m2\u001b[0m\u001b[0;34m)\u001b[0m\u001b[0;34m\u001b[0m\u001b[0;34m\u001b[0m\u001b[0m\n\u001b[1;32m    863\u001b[0m         \u001b[0;32mif\u001b[0m \u001b[0mier\u001b[0m \u001b[0;32mnot\u001b[0m \u001b[0;32min\u001b[0m \u001b[0;34m[\u001b[0m\u001b[0;36m1\u001b[0m\u001b[0;34m,\u001b[0m \u001b[0;36m2\u001b[0m\u001b[0;34m,\u001b[0m \u001b[0;36m3\u001b[0m\u001b[0;34m,\u001b[0m \u001b[0;36m4\u001b[0m\u001b[0;34m]\u001b[0m\u001b[0;34m:\u001b[0m\u001b[0;34m\u001b[0m\u001b[0;34m\u001b[0m\u001b[0m\n\u001b[0;32m--> 864\u001b[0;31m             \u001b[0;32mraise\u001b[0m \u001b[0mRuntimeError\u001b[0m\u001b[0;34m(\u001b[0m\u001b[0;34m\"Optimal parameters not found: \"\u001b[0m \u001b[0;34m+\u001b[0m \u001b[0merrmsg\u001b[0m\u001b[0;34m)\u001b[0m\u001b[0;34m\u001b[0m\u001b[0;34m\u001b[0m\u001b[0m\n\u001b[0m\u001b[1;32m    865\u001b[0m     \u001b[0;32melse\u001b[0m\u001b[0;34m:\u001b[0m\u001b[0;34m\u001b[0m\u001b[0;34m\u001b[0m\u001b[0m\n\u001b[1;32m    866\u001b[0m         \u001b[0;31m# Rename maxfev (leastsq) to max_nfev (least_squares), if specified.\u001b[0m\u001b[0;34m\u001b[0m\u001b[0;34m\u001b[0m\u001b[0m\n",
      "\u001b[0;31mRuntimeError\u001b[0m: Optimal parameters not found: Number of calls to function has reached maxfev = 1000."
     ]
    }
   ],
   "source": [
    "fitRawData = []\n",
    "for name, group in grouped:\n",
    "    fitCoefs, covMatrix = opt.curve_fit(ll4, group.drug1_conc, np.log2(group.cell_count))\n",
    "    resids = group.cell_count-group.drug1_conc.apply(lambda x: ll4(x,*fitCoefs))\n",
    "    curFit = dict(zip(['h','E0','Emax','EC50'],fitCoefs))\n",
    "    curFit['exptDate']=name\n",
    "    curFit['residuals']=sum(resids**2)\n",
    "    fitRawData.append(curFit)\n",
    "    \n",
    "fitRawData"
   ]
  },
  {
   "cell_type": "markdown",
   "metadata": {
    "id": "jxhb_Ly96j5y"
   },
   "source": [
    "#### Plot the data and predicted model fits using Seaborn"
   ]
  },
  {
   "cell_type": "code",
   "execution_count": null,
   "metadata": {
    "id": "KqmcuhV_6j5y",
    "outputId": "d1da4aa7-13e6-4114-f2c7-8d0ddf6976fe"
   },
   "outputs": [
    {
     "data": {
      "image/png": "[encoded data removed]",
      "text/plain": [
       "<Figure size 454.25x360 with 1 Axes>"
      ]
     },
     "metadata": {
      "needs_background": "light"
     },
     "output_type": "display_data"
    }
   ],
   "source": [
    "b = sns.lmplot(x='l10_conc', y='lum', data=p, hue='exptDate',fit_reg=False)\n",
    "b.set(ylim=(0, None))\n",
    "for fit in fitRawData:\n",
    "    l = sns.lineplot(x=[i for i in myconc], y=[ll4(10**i,*[fit[i] for i in ['h','E0','Emax','EC50']]) for i in myconc], legend=False)"
   ]
  },
  {
   "cell_type": "markdown",
   "metadata": {
    "id": "MfIG6Kno6j5z"
   },
   "source": [
    "#### Perform nonlinear regression on data using `viability` model  \n",
    "Use `resp_ratio` values. "
   ]
  },
  {
   "cell_type": "code",
   "execution_count": null,
   "metadata": {
    "id": "3Ue2Rwp56j5z",
    "outputId": "cddf5bcd-0b6c-4cce-ac26-56d98751ae0d"
   },
   "outputs": [
    {
     "name": "stderr",
     "output_type": "stream",
     "text": [
      "/Users/darren/opt/anaconda3/lib/python3.8/site-packages/pandas/core/series.py:726: RuntimeWarning: invalid value encountered in log\n",
      "  result = getattr(ufunc, method)(*inputs, **kwargs)\n"
     ]
    },
    {
     "data": {
      "text/plain": [
       "[{'b': 10.352896185165806,\n",
       "  'd': 0.5027940960627816,\n",
       "  'e': 1.617765596079996e-07,\n",
       "  'exptDate': '2012-03-20',\n",
       "  'residuals': 0.6157521512932839},\n",
       " {'b': 8.705902672064543,\n",
       "  'd': 0.37510324802784983,\n",
       "  'e': 2.0499371978441175e-08,\n",
       "  'exptDate': '2012-03-24',\n",
       "  'residuals': 0.9761750322879311},\n",
       " {'b': 12.019204784622994,\n",
       "  'd': 0.37413802405342866,\n",
       "  'e': 3.159539337736448e-08,\n",
       "  'exptDate': '2012-03-26',\n",
       "  'residuals': 0.7381374312834317}]"
      ]
     },
     "execution_count": 9,
     "metadata": {},
     "output_type": "execute_result"
    }
   ],
   "source": [
    "fitRatioData = []\n",
    "for name, group in grouped:\n",
    "    fitCoefs, covMatrix = opt.curve_fit(viability, group.conc, group.resp_ratio, p0=[1,0,1e-7])\n",
    "    resids = group.resp_ratio-group.conc.apply(lambda x: viability(x,*fitCoefs))\n",
    "    curFit = dict(zip(['b','d','e'],fitCoefs))\n",
    "    curFit['exptDate']=name\n",
    "    curFit['residuals']=sum(resids**2)\n",
    "    fitRatioData.append(curFit)\n",
    "    \n",
    "fitRatioData"
   ]
  },
  {
   "cell_type": "code",
   "execution_count": null,
   "metadata": {
    "id": "UipvVNqf6j5z"
   },
   "outputs": [],
   "source": [
    "#### Plot the data and predicted model fits using Seaborn"
   ]
  },
  {
   "cell_type": "code",
   "execution_count": null,
   "metadata": {
    "id": "v5Xn-Q566j5z",
    "outputId": "e133dcba-ddd7-45cf-be59-c03867c35860"
   },
   "outputs": [
    {
     "data": {
      "image/png": "[encoded data removed]",
      "text/plain": [
       "<Figure size 454.25x360 with 1 Axes>"
      ]
     },
     "metadata": {
      "needs_background": "light"
     },
     "output_type": "display_data"
    }
   ],
   "source": [
    "a = sns.lmplot(x='l10_conc', y='resp_ratio', data=p, hue='exptDate',fit_reg=False)\n",
    "a.set(ylim=(0, 1.4))\n",
    "for fit in fitRatioData:\n",
    "    l = sns.lineplot(x=[i for i in myconc], y=[viability(10**i,*[fit[i] for i in ['b','d','e']]) for i in myconc], legend=False)"
   ]
  },
  {
   "cell_type": "code",
   "execution_count": null,
   "metadata": {
    "id": "QlIALn1p6j5z",
    "outputId": "a2e8f675-3519-4048-998f-10a34838f54f"
   },
   "outputs": [
    {
     "data": {
      "text/html": [
       "<div>\n",
       "<style scoped>\n",
       "    .dataframe tbody tr th:only-of-type {\n",
       "        vertical-align: middle;\n",
       "    }\n",
       "\n",
       "    .dataframe tbody tr th {\n",
       "        vertical-align: top;\n",
       "    }\n",
       "\n",
       "    .dataframe thead th {\n",
       "        text-align: right;\n",
       "    }\n",
       "</style>\n",
       "<table border=\"1\" class=\"dataframe\">\n",
       "  <thead>\n",
       "    <tr style=\"text-align: right;\">\n",
       "      <th></th>\n",
       "      <th>l10_conc</th>\n",
       "      <th>mean</th>\n",
       "      <th>std</th>\n",
       "      <th>conc</th>\n",
       "    </tr>\n",
       "  </thead>\n",
       "  <tbody>\n",
       "    <tr>\n",
       "      <th>0</th>\n",
       "      <td>-13.699</td>\n",
       "      <td>1.000000</td>\n",
       "      <td>0.180392</td>\n",
       "      <td>1.999862e-14</td>\n",
       "    </tr>\n",
       "    <tr>\n",
       "      <th>1</th>\n",
       "      <td>-12.699</td>\n",
       "      <td>1.036115</td>\n",
       "      <td>0.134687</td>\n",
       "      <td>1.999862e-13</td>\n",
       "    </tr>\n",
       "    <tr>\n",
       "      <th>2</th>\n",
       "      <td>-11.699</td>\n",
       "      <td>1.039790</td>\n",
       "      <td>0.199748</td>\n",
       "      <td>1.999862e-12</td>\n",
       "    </tr>\n",
       "    <tr>\n",
       "      <th>3</th>\n",
       "      <td>-10.699</td>\n",
       "      <td>1.010883</td>\n",
       "      <td>0.142711</td>\n",
       "      <td>1.999862e-11</td>\n",
       "    </tr>\n",
       "    <tr>\n",
       "      <th>4</th>\n",
       "      <td>-10.291</td>\n",
       "      <td>1.054499</td>\n",
       "      <td>0.210896</td>\n",
       "      <td>5.116818e-11</td>\n",
       "    </tr>\n",
       "    <tr>\n",
       "      <th>5</th>\n",
       "      <td>-9.699</td>\n",
       "      <td>1.034374</td>\n",
       "      <td>0.152811</td>\n",
       "      <td>1.999862e-10</td>\n",
       "    </tr>\n",
       "    <tr>\n",
       "      <th>6</th>\n",
       "      <td>-9.592</td>\n",
       "      <td>1.055267</td>\n",
       "      <td>0.182893</td>\n",
       "      <td>2.558586e-10</td>\n",
       "    </tr>\n",
       "    <tr>\n",
       "      <th>7</th>\n",
       "      <td>-8.893</td>\n",
       "      <td>1.034929</td>\n",
       "      <td>0.171832</td>\n",
       "      <td>1.279381e-09</td>\n",
       "    </tr>\n",
       "    <tr>\n",
       "      <th>8</th>\n",
       "      <td>-8.699</td>\n",
       "      <td>1.046473</td>\n",
       "      <td>0.177480</td>\n",
       "      <td>1.999862e-09</td>\n",
       "    </tr>\n",
       "    <tr>\n",
       "      <th>9</th>\n",
       "      <td>-8.194</td>\n",
       "      <td>1.046552</td>\n",
       "      <td>0.247222</td>\n",
       "      <td>6.397348e-09</td>\n",
       "    </tr>\n",
       "    <tr>\n",
       "      <th>10</th>\n",
       "      <td>-7.699</td>\n",
       "      <td>0.878108</td>\n",
       "      <td>0.245007</td>\n",
       "      <td>1.999862e-08</td>\n",
       "    </tr>\n",
       "    <tr>\n",
       "      <th>11</th>\n",
       "      <td>-7.495</td>\n",
       "      <td>0.663184</td>\n",
       "      <td>0.148731</td>\n",
       "      <td>3.198895e-08</td>\n",
       "    </tr>\n",
       "    <tr>\n",
       "      <th>12</th>\n",
       "      <td>-6.796</td>\n",
       "      <td>0.382310</td>\n",
       "      <td>0.079525</td>\n",
       "      <td>1.599558e-07</td>\n",
       "    </tr>\n",
       "    <tr>\n",
       "      <th>13</th>\n",
       "      <td>-6.699</td>\n",
       "      <td>0.465101</td>\n",
       "      <td>0.122453</td>\n",
       "      <td>1.999862e-07</td>\n",
       "    </tr>\n",
       "    <tr>\n",
       "      <th>14</th>\n",
       "      <td>-6.097</td>\n",
       "      <td>0.384171</td>\n",
       "      <td>0.066726</td>\n",
       "      <td>7.998343e-07</td>\n",
       "    </tr>\n",
       "    <tr>\n",
       "      <th>15</th>\n",
       "      <td>-5.699</td>\n",
       "      <td>0.437686</td>\n",
       "      <td>0.111417</td>\n",
       "      <td>1.999862e-06</td>\n",
       "    </tr>\n",
       "    <tr>\n",
       "      <th>16</th>\n",
       "      <td>-5.398</td>\n",
       "      <td>0.355933</td>\n",
       "      <td>0.081800</td>\n",
       "      <td>3.999447e-06</td>\n",
       "    </tr>\n",
       "  </tbody>\n",
       "</table>\n",
       "</div>"
      ],
      "text/plain": [
       "    l10_conc      mean       std          conc\n",
       "0    -13.699  1.000000  0.180392  1.999862e-14\n",
       "1    -12.699  1.036115  0.134687  1.999862e-13\n",
       "2    -11.699  1.039790  0.199748  1.999862e-12\n",
       "3    -10.699  1.010883  0.142711  1.999862e-11\n",
       "4    -10.291  1.054499  0.210896  5.116818e-11\n",
       "5     -9.699  1.034374  0.152811  1.999862e-10\n",
       "6     -9.592  1.055267  0.182893  2.558586e-10\n",
       "7     -8.893  1.034929  0.171832  1.279381e-09\n",
       "8     -8.699  1.046473  0.177480  1.999862e-09\n",
       "9     -8.194  1.046552  0.247222  6.397348e-09\n",
       "10    -7.699  0.878108  0.245007  1.999862e-08\n",
       "11    -7.495  0.663184  0.148731  3.198895e-08\n",
       "12    -6.796  0.382310  0.079525  1.599558e-07\n",
       "13    -6.699  0.465101  0.122453  1.999862e-07\n",
       "14    -6.097  0.384171  0.066726  7.998343e-07\n",
       "15    -5.699  0.437686  0.111417  1.999862e-06\n",
       "16    -5.398  0.355933  0.081800  3.999447e-06"
      ]
     },
     "execution_count": 12,
     "metadata": {},
     "output_type": "execute_result"
    }
   ],
   "source": [
    "m = p[[\"l10_conc\",\"resp_ratio\"]].groupby(['l10_conc']).agg(['mean', 'std'])\n",
    "m = m.xs('resp_ratio', axis=1, drop_level=True)\n",
    "m.reset_index(inplace=True)\n",
    "m['conc'] = 10**m['l10_conc']\n",
    "m"
   ]
  },
  {
   "cell_type": "markdown",
   "metadata": {
    "id": "8IUI4END6j50"
   },
   "source": [
    "#### Fit ll4 model to resp_ratio means\n"
   ]
  },
  {
   "cell_type": "code",
   "execution_count": null,
   "metadata": {
    "id": "Le5tH2X46j50"
   },
   "outputs": [],
   "source": [
    "fitCoefs, covMatrix = opt.curve_fit(viability, m['conc'], m['mean'], p0=[1,0,1e-7])"
   ]
  },
  {
   "cell_type": "markdown",
   "metadata": {
    "id": "vQnF5iij6j50"
   },
   "source": [
    "#### Plot the data and predicted curve"
   ]
  },
  {
   "cell_type": "code",
   "execution_count": null,
   "metadata": {
    "id": "OyA1rg-e6j50",
    "outputId": "7070d98c-c182-4bdd-9909-aa9732e41fa1"
   },
   "outputs": [
    {
     "data": {
      "text/plain": [
       "<AxesSubplot:xlabel='l10_conc', ylabel='mean'>"
      ]
     },
     "execution_count": 14,
     "metadata": {},
     "output_type": "execute_result"
    },
    {
     "data": {
      "image/png": "[encoded data removed]",
      "text/plain": [
       "<Figure size 360x360 with 1 Axes>"
      ]
     },
     "metadata": {
      "needs_background": "light"
     },
     "output_type": "display_data"
    }
   ],
   "source": [
    "a = sns.lmplot(x='l10_conc', y='mean', data=m, fit_reg=False)\n",
    "a.set(ylim=(0, 1.1))\n",
    "sns.lineplot(x=[i for i in myconc], y=[viability(10**i,*fitCoefs) for i in myconc], legend=False)"
   ]
  },
  {
   "cell_type": "code",
   "execution_count": null,
   "metadata": {
    "id": "KNMmsSAT6j50",
    "outputId": "d131a027-771c-4e5c-ddae-86d1e4c498d0"
   },
   "outputs": [
    {
     "data": {
      "text/plain": [
       "array([3.57228474e+00, 4.04706658e-01, 2.95996689e-08])"
      ]
     },
     "execution_count": 15,
     "metadata": {},
     "output_type": "execute_result"
    }
   ],
   "source": [
    "fitCoefs"
   ]
  },
  {
   "cell_type": "code",
   "execution_count": null,
   "metadata": {
    "id": "wmH1I7qp6j50"
   },
   "outputs": [],
   "source": []
  }
 ],
 "metadata": {
  "colab": {
   "provenance": []
  },
  "kernelspec": {
   "display_name": "thunor",
   "language": "python",
   "name": "thunor"
  },
  "language_info": {
   "codemirror_mode": {
    "name": "ipython",
    "version": 3
   },
   "file_extension": ".py",
   "mimetype": "text/x-python",
   "name": "python",
   "nbconvert_exporter": "python",
   "pygments_lexer": "ipython3",
   "version": "3.11.0"
  }
 },
 "nbformat": 4,
 "nbformat_minor": 1
}
