{
  "cells": [
    {
      "cell_type": "markdown",
      "metadata": {
        "id": "Sm4bXUfPKNDX"
      },
      "source": [
        "# Dose–Response Relationships  \n",
        "\n",
        "## Objectives  \n",
        "This notebook has sections designed to:  \n",
        "\n",
        "1) Provide background on how to analyze concentration-dependent effects of drugs or other perturbagens  \n",
        "2) Describe basic mathematical models of dose–response relationships  \n",
        "3) Extract quantitative metrics from dose–response curves  \n",
        "4) Analyze (end point) cell viability and cell death data  \n",
        "5) Examine potential time-dependent effects  \n",
        "6) Perform nonlinear regression of models fit to response data  \n",
        "\n"
      ]
    },
    {
      "cell_type": "markdown",
      "metadata": {
        "id": "6yi5eveBKNDZ"
      },
      "source": [
        "## Dose–response relationships  \n",
        "\n",
        "Experiments are frequently performed to assess the quantiutative relationship between the amounts of an input signal (e.g., a perturbagen; something that perturbs a system) and the amount of some induced effect. We can analyze these data using dose–response models.  \n",
        "\n",
        "### _Dose-response models_  \n",
        "Regression models (i.e., models with adjustable parameters allowing fit to data) where the independent variable is usually referred to as **dose** or **concentration** and the dependent variable is usually referred to as **response** or **effect**.  \n",
        "\n",
        "#### Doses  \n",
        "\n",
        "**Dose** commonly refers to any biological or chemical perturbagen or to any other stimulus that can be administered in a graduated manner.  \n",
        "**Dose** values are usually (but not always) assumed to be measured without error.  \n",
        "\n",
        "#### Response value classes and examples  \n",
        "Most common response values are continuous variables, but discrete, nominal, binary/binomial values are also possible.  \n",
        "\n",
        "**_Example response data:_**  \n",
        "\n",
        "* **Continuous**: optical density, biomass  \n",
        "* **Discrete**: number of events within a defined time span\n",
        "* **Binary, binomial**: live/dead, motile/nonmotile\n",
        "\n",
        "### Log-logistic model\n",
        "\n",
        "#### The 4-parameter log-logistic function (ll4):  \n",
        "**_NOTE: the names for the variables in this equation are specific for drug-induced effects that decrease in response to drug_**  \n",
        "\n",
        "<table>\n",
        "    <td> \n",
        "        <tr>\n",
        "        <font size=12>Direct effect (no normalization)</font>\n",
        "        </tr>\n",
        "    </td>\n",
        "    <td>\n",
        "        <tr>\n",
        "        <img src=\"https://github.com/VU-CSP/quantbio-assignments/blob/main/img/directEffectDRCequation.png?raw=1\" style=\"width: 400px;\" />\n",
        "        </tr>\n",
        "    </td>\n",
        "    <td>\n",
        "        <tr>\n",
        "        <img src=\"https://github.com/VU-CSP/quantbio-assignments/blob/main/img/directEffectDRC.png?raw=1\" style=\"width: 600px;\" />\n",
        "        </tr>\n",
        "    </td>\n",
        "    </hr>\n",
        "    <td>\n",
        "        <tr> <font size=12>Response ratio (scaled to control value)</font></tr>\n",
        "    </td>\n",
        "    <td>\n",
        "        <tr>\n",
        "        <img src=\"https://github.com/VU-CSP/quantbio-assignments/blob/main/img/responseRatioDRCequation.png?raw=1\" style=\"width: 400px;\" />\n",
        "        </tr>\n",
        "    </td>\n",
        "    <td>\n",
        "        <tr>\n",
        "        <img src=\"https://github.com/VU-CSP/quantbio-assignments/blob/main/img/responseRatioDRC.png?raw=1\" style=\"width: 600px;\" />\n",
        "        </tr>\n",
        "    </td>\n",
        "</table>\n",
        "\n",
        "\n",
        "\n",
        "\n",
        "#### _**Another formulation of the ll4 equation**_  \n",
        "![](https://github.com/VU-CSP/quantbio-assignments/blob/main/img/hill-equation-ll4.png?raw=1)\n",
        "\n",
        "* $X$ = vector of concentrations (linear scale; e.g. molar units)  \n",
        "* $b$ = Hill coefficient  \n",
        "* $c$ = $E_{max}$; maximum effect; lower limit (of downward sloping curve)  \n",
        "* $d$ = $E_0$; no effect; upper limit (of downward sloping curve)  \n",
        "* $e$ = $EC_{50}$, value of X at midpoint between $E_{max}$ and $E_0$ (linear scale)  \n",
        "\n",
        "**Note: the larger $e$ in the denominator represents Euler's number, not the $e$ model parameter.**  \n",
        "\n",
        "#### References \n",
        "[Harris et al., 2016 (diprate paper)](https://github.com/VU-CSP/QuantBio/blob/2c2d913ca73add8df3b7ececab6405a7be5c28b1/static_files/literature/diprate.pdf)  \n",
        "[Thunor paper](https://github.com/VU-CSP/QuantBio/blob/2c2d913ca73add8df3b7ececab6405a7be5c28b1/static_files/literature/thunor.pdf)  \n",
        "[Thunor docs: curve fits](https://docs.thunor.net/curve-fits)  \n",
        "[Thunor docs: extracted parameters](https://docs.thunor.net/dose-response-parameters)  \n",
        "[Dose-Response Analysis Using R](https://doi.org/10.1371/journal.pone.0146021)  \n",
        "\n",
        "\n",
        "\n"
      ]
    },
    {
      "cell_type": "markdown",
      "metadata": {
        "id": "yusJqVdaKNDa"
      },
      "source": [
        "<img src=\"https://github.com/VU-CSP/quantbio-assignments/blob/main/img/CellTiter-Glo_assay.png?raw=1\" style=\"width: 400px;\" align=\"right\"/>  \n",
        "\n",
        "### _The rest of this lecture will primarily be considering how anticancer drugs affect cells in culture._  \n",
        "\n",
        "### Analyses of cellular responses  \n",
        "\n",
        "The anticancer drug literature is replete with data from indirect measurements of cell number (DNA content, protein content, ATP production, etc.) taken after a defined amount of time (typically 72 hours) of exposure to drugs or other perturbagens.  \n",
        "\n",
        "A commonly used reagent is CellTiter-Glo, a reagent that produces luminescence directly proprotionally to the amount of ATP in a sample, which is highly correlated to the number of cells in a sample. See [more details on the CellTiter-Glo assay](https://www.promega.com/-/media/files/resources/protocols/technical-bulletins/0/celltiter-glo-luminescent-cell-viability-assay-protocol.pdf?rev=30e8ec640fdd4866b207e28c0cbc497c&sc_lang=en).   \n",
        "\n",
        "#### Example CellTiter-Glo data fit with the ll4 model  \n",
        "\n",
        "<img src=\"https://github.com/VU-CSP/quantbio-assignments/blob/main/img/PC9_subline_72h_DRC.png?raw=1\" style=\"width: 500px;\">  \n"
      ]
    },
    {
      "cell_type": "markdown",
      "metadata": {
        "id": "JW5d-hl4KNDb"
      },
      "source": [
        "## Interpreting data with dose–response models  \n"
      ]
    },
    {
      "cell_type": "markdown",
      "metadata": {
        "id": "dTo7XUXFKNDb"
      },
      "source": [
        "### Fitting data using `scipy.optimization.curve_fit` nonlinear regression  \n",
        "\n",
        "_**Python code based partially on [this notebook](https://gist.github.com/yannabraham/5f210fed773785d8b638)**_  \n",
        "\n",
        "#### Load necessary packages"
      ]
    },
    {
      "cell_type": "code",
      "execution_count": 1,
      "metadata": {
        "id": "4LiLOTDdKNDc"
      },
      "outputs": [],
      "source": [
        "import os\n",
        "import pandas as pd\n",
        "import numpy as np\n",
        "import scipy.optimize as opt\n",
        "import matplotlib.pyplot as plt\n",
        "import seaborn as sns\n",
        "%matplotlib inline"
      ]
    },
    {
      "cell_type": "markdown",
      "metadata": {
        "id": "TmsMddzDKNDc"
      },
      "source": [
        "#### Define model functions"
      ]
    },
    {
      "cell_type": "code",
      "execution_count": 2,
      "metadata": {
        "id": "veMmGbQ8KNDd"
      },
      "outputs": [],
      "source": [
        "def ll4(x,h,E0,Emax,EC50):\n",
        "    '''\n",
        "    Reformulation of the LL4 function\n",
        "     - h: Hill coefficient\n",
        "     - E0: no-drug effect\n",
        "     - Emax: max effect\n",
        "     - EC50: Concentration at midpoint between E0 and Emax\n",
        "     '''\n",
        "    return(Emax + (E0-Emax) / (1+np.exp(h*(np.log(x/EC50)))) )\n",
        "\n",
        "def viability(x,b,d,e):\n",
        "    '''\n",
        "    3-parameter log-logistic function with no effect set to a value of 1\n",
        "     - b: Hill coefficient\n",
        "     - d: Emax\n",
        "     - e: EC50\n",
        "     '''\n",
        "    return(d + (1-d) / ( 1+np.exp( b*np.log(x/e)) ) )"
      ]
    },
    {
      "cell_type": "code",
      "source": [
        "if not os.path.exists(\"./data\"):\n",
        "    !mkdir data\n",
        "if not os.path.exists(\"./data/PC9_72hCellCountDoseResp.csv\"):\n",
        "    !wget -O ./data/PC9_72hCellCountDoseResp.csv https://github.com/VU-CSP/quantbio-assignments/raw/main/data/PC9_72hCellCountDoseResp.csv\n"
      ],
      "metadata": {
        "id": "n22Zn681LCe3"
      },
      "execution_count": 3,
      "outputs": []
    },
    {
      "cell_type": "markdown",
      "metadata": {
        "id": "0oIzqdF6KNDe"
      },
      "source": [
        "#### Load all PC9 data"
      ]
    },
    {
      "cell_type": "code",
      "execution_count": 4,
      "metadata": {
        "id": "DcnBQn-WKNDe"
      },
      "outputs": [],
      "source": [
        "d = pd.read_csv(\"./data/PC9_72hCellCountDoseResp.csv\")"
      ]
    },
    {
      "cell_type": "markdown",
      "metadata": {
        "id": "RB7_oKekKNDe"
      },
      "source": [
        "#### Pull out only PC9 parental data  \n",
        "\n",
        "Also make column of log10 drug concentration, including a \"stand in\" value for 0 since `log(0) == -Inf`. Set to 1/10 of lowest nonzero value.  \n"
      ]
    },
    {
      "cell_type": "code",
      "execution_count": 5,
      "metadata": {
        "id": "iEYJ9t32KNDf",
        "outputId": "adc523df-b332-4a89-a577-c3c4b9bce380",
        "colab": {
          "base_uri": "https://localhost:8080/",
          "height": 419
        }
      },
      "outputs": [
        {
          "output_type": "execute_result",
          "data": {
            "text/plain": [
              "       exptDate cellLine Well    lum          conc  resp_ratio  l10_conc\n",
              "0    2012-03-20      par  E03  15279  2.000000e-06    0.583809    -5.699\n",
              "1    2012-03-20      par  E04  17045  2.000000e-07    0.651287    -6.699\n",
              "2    2012-03-20      par  E05  32248  2.000000e-08    1.232192    -7.699\n",
              "3    2012-03-20      par  E06  29711  2.000000e-09    1.135253    -8.699\n",
              "4    2012-03-20      par  E07  29660  2.000000e-10    1.133305    -9.699\n",
              "..          ...      ...  ...    ...           ...         ...       ...\n",
              "103  2012-03-26      par  H07  14782  6.400000e-09    0.687967    -8.194\n",
              "104  2012-03-26      par  H08  17189  1.280000e-09    0.799991    -8.893\n",
              "105  2012-03-26      par  H09  17051  2.560000e-10    0.793568    -9.592\n",
              "106  2012-03-26      par  H10  15955  5.120000e-11    0.742559   -10.291\n",
              "107  2012-03-26      par  H11  17681  2.000000e-14    0.822889   -13.699\n",
              "\n",
              "[108 rows x 7 columns]"
            ],
            "text/html": [
              "\n",
              "  <div id=\"df-54238421-8180-4934-a089-71b2b789796a\">\n",
              "    <div class=\"colab-df-container\">\n",
              "      <div>\n",
              "<style scoped>\n",
              "    .dataframe tbody tr th:only-of-type {\n",
              "        vertical-align: middle;\n",
              "    }\n",
              "\n",
              "    .dataframe tbody tr th {\n",
              "        vertical-align: top;\n",
              "    }\n",
              "\n",
              "    .dataframe thead th {\n",
              "        text-align: right;\n",
              "    }\n",
              "</style>\n",
              "<table border=\"1\" class=\"dataframe\">\n",
              "  <thead>\n",
              "    <tr style=\"text-align: right;\">\n",
              "      <th></th>\n",
              "      <th>exptDate</th>\n",
              "      <th>cellLine</th>\n",
              "      <th>Well</th>\n",
              "      <th>lum</th>\n",
              "      <th>conc</th>\n",
              "      <th>resp_ratio</th>\n",
              "      <th>l10_conc</th>\n",
              "    </tr>\n",
              "  </thead>\n",
              "  <tbody>\n",
              "    <tr>\n",
              "      <th>0</th>\n",
              "      <td>2012-03-20</td>\n",
              "      <td>par</td>\n",
              "      <td>E03</td>\n",
              "      <td>15279</td>\n",
              "      <td>2.000000e-06</td>\n",
              "      <td>0.583809</td>\n",
              "      <td>-5.699</td>\n",
              "    </tr>\n",
              "    <tr>\n",
              "      <th>1</th>\n",
              "      <td>2012-03-20</td>\n",
              "      <td>par</td>\n",
              "      <td>E04</td>\n",
              "      <td>17045</td>\n",
              "      <td>2.000000e-07</td>\n",
              "      <td>0.651287</td>\n",
              "      <td>-6.699</td>\n",
              "    </tr>\n",
              "    <tr>\n",
              "      <th>2</th>\n",
              "      <td>2012-03-20</td>\n",
              "      <td>par</td>\n",
              "      <td>E05</td>\n",
              "      <td>32248</td>\n",
              "      <td>2.000000e-08</td>\n",
              "      <td>1.232192</td>\n",
              "      <td>-7.699</td>\n",
              "    </tr>\n",
              "    <tr>\n",
              "      <th>3</th>\n",
              "      <td>2012-03-20</td>\n",
              "      <td>par</td>\n",
              "      <td>E06</td>\n",
              "      <td>29711</td>\n",
              "      <td>2.000000e-09</td>\n",
              "      <td>1.135253</td>\n",
              "      <td>-8.699</td>\n",
              "    </tr>\n",
              "    <tr>\n",
              "      <th>4</th>\n",
              "      <td>2012-03-20</td>\n",
              "      <td>par</td>\n",
              "      <td>E07</td>\n",
              "      <td>29660</td>\n",
              "      <td>2.000000e-10</td>\n",
              "      <td>1.133305</td>\n",
              "      <td>-9.699</td>\n",
              "    </tr>\n",
              "    <tr>\n",
              "      <th>...</th>\n",
              "      <td>...</td>\n",
              "      <td>...</td>\n",
              "      <td>...</td>\n",
              "      <td>...</td>\n",
              "      <td>...</td>\n",
              "      <td>...</td>\n",
              "      <td>...</td>\n",
              "    </tr>\n",
              "    <tr>\n",
              "      <th>103</th>\n",
              "      <td>2012-03-26</td>\n",
              "      <td>par</td>\n",
              "      <td>H07</td>\n",
              "      <td>14782</td>\n",
              "      <td>6.400000e-09</td>\n",
              "      <td>0.687967</td>\n",
              "      <td>-8.194</td>\n",
              "    </tr>\n",
              "    <tr>\n",
              "      <th>104</th>\n",
              "      <td>2012-03-26</td>\n",
              "      <td>par</td>\n",
              "      <td>H08</td>\n",
              "      <td>17189</td>\n",
              "      <td>1.280000e-09</td>\n",
              "      <td>0.799991</td>\n",
              "      <td>-8.893</td>\n",
              "    </tr>\n",
              "    <tr>\n",
              "      <th>105</th>\n",
              "      <td>2012-03-26</td>\n",
              "      <td>par</td>\n",
              "      <td>H09</td>\n",
              "      <td>17051</td>\n",
              "      <td>2.560000e-10</td>\n",
              "      <td>0.793568</td>\n",
              "      <td>-9.592</td>\n",
              "    </tr>\n",
              "    <tr>\n",
              "      <th>106</th>\n",
              "      <td>2012-03-26</td>\n",
              "      <td>par</td>\n",
              "      <td>H10</td>\n",
              "      <td>15955</td>\n",
              "      <td>5.120000e-11</td>\n",
              "      <td>0.742559</td>\n",
              "      <td>-10.291</td>\n",
              "    </tr>\n",
              "    <tr>\n",
              "      <th>107</th>\n",
              "      <td>2012-03-26</td>\n",
              "      <td>par</td>\n",
              "      <td>H11</td>\n",
              "      <td>17681</td>\n",
              "      <td>2.000000e-14</td>\n",
              "      <td>0.822889</td>\n",
              "      <td>-13.699</td>\n",
              "    </tr>\n",
              "  </tbody>\n",
              "</table>\n",
              "<p>108 rows × 7 columns</p>\n",
              "</div>\n",
              "      <button class=\"colab-df-convert\" onclick=\"convertToInteractive('df-54238421-8180-4934-a089-71b2b789796a')\"\n",
              "              title=\"Convert this dataframe to an interactive table.\"\n",
              "              style=\"display:none;\">\n",
              "        \n",
              "  <svg xmlns=\"http://www.w3.org/2000/svg\" height=\"24px\"viewBox=\"0 0 24 24\"\n",
              "       width=\"24px\">\n",
              "    <path d=\"M0 0h24v24H0V0z\" fill=\"none\"/>\n",
              "    <path d=\"M18.56 5.44l.94 2.06.94-2.06 2.06-.94-2.06-.94-.94-2.06-.94 2.06-2.06.94zm-11 1L8.5 8.5l.94-2.06 2.06-.94-2.06-.94L8.5 2.5l-.94 2.06-2.06.94zm10 10l.94 2.06.94-2.06 2.06-.94-2.06-.94-.94-2.06-.94 2.06-2.06.94z\"/><path d=\"M17.41 7.96l-1.37-1.37c-.4-.4-.92-.59-1.43-.59-.52 0-1.04.2-1.43.59L10.3 9.45l-7.72 7.72c-.78.78-.78 2.05 0 2.83L4 21.41c.39.39.9.59 1.41.59.51 0 1.02-.2 1.41-.59l7.78-7.78 2.81-2.81c.8-.78.8-2.07 0-2.86zM5.41 20L4 18.59l7.72-7.72 1.47 1.35L5.41 20z\"/>\n",
              "  </svg>\n",
              "      </button>\n",
              "      \n",
              "  <style>\n",
              "    .colab-df-container {\n",
              "      display:flex;\n",
              "      flex-wrap:wrap;\n",
              "      gap: 12px;\n",
              "    }\n",
              "\n",
              "    .colab-df-convert {\n",
              "      background-color: #E8F0FE;\n",
              "      border: none;\n",
              "      border-radius: 50%;\n",
              "      cursor: pointer;\n",
              "      display: none;\n",
              "      fill: #1967D2;\n",
              "      height: 32px;\n",
              "      padding: 0 0 0 0;\n",
              "      width: 32px;\n",
              "    }\n",
              "\n",
              "    .colab-df-convert:hover {\n",
              "      background-color: #E2EBFA;\n",
              "      box-shadow: 0px 1px 2px rgba(60, 64, 67, 0.3), 0px 1px 3px 1px rgba(60, 64, 67, 0.15);\n",
              "      fill: #174EA6;\n",
              "    }\n",
              "\n",
              "    [theme=dark] .colab-df-convert {\n",
              "      background-color: #3B4455;\n",
              "      fill: #D2E3FC;\n",
              "    }\n",
              "\n",
              "    [theme=dark] .colab-df-convert:hover {\n",
              "      background-color: #434B5C;\n",
              "      box-shadow: 0px 1px 3px 1px rgba(0, 0, 0, 0.15);\n",
              "      filter: drop-shadow(0px 1px 2px rgba(0, 0, 0, 0.3));\n",
              "      fill: #FFFFFF;\n",
              "    }\n",
              "  </style>\n",
              "\n",
              "      <script>\n",
              "        const buttonEl =\n",
              "          document.querySelector('#df-54238421-8180-4934-a089-71b2b789796a button.colab-df-convert');\n",
              "        buttonEl.style.display =\n",
              "          google.colab.kernel.accessAllowed ? 'block' : 'none';\n",
              "\n",
              "        async function convertToInteractive(key) {\n",
              "          const element = document.querySelector('#df-54238421-8180-4934-a089-71b2b789796a');\n",
              "          const dataTable =\n",
              "            await google.colab.kernel.invokeFunction('convertToInteractive',\n",
              "                                                     [key], {});\n",
              "          if (!dataTable) return;\n",
              "\n",
              "          const docLinkHtml = 'Like what you see? Visit the ' +\n",
              "            '<a target=\"_blank\" href=https://colab.research.google.com/notebooks/data_table.ipynb>data table notebook</a>'\n",
              "            + ' to learn more about interactive tables.';\n",
              "          element.innerHTML = '';\n",
              "          dataTable['output_type'] = 'display_data';\n",
              "          await google.colab.output.renderOutput(dataTable, element);\n",
              "          const docLink = document.createElement('div');\n",
              "          docLink.innerHTML = docLinkHtml;\n",
              "          element.appendChild(docLink);\n",
              "        }\n",
              "      </script>\n",
              "    </div>\n",
              "  </div>\n",
              "  "
            ]
          },
          "metadata": {},
          "execution_count": 5
        }
      ],
      "source": [
        "p = d[d[\"cellLine\"]==\"par\"].copy()\n",
        "p.rename(columns={'Cell.Nucleus': 'lum', 'resp.ratio': 'resp_ratio'}, inplace=True)\n",
        "\n",
        "minconc = p[p[\"conc\"]!= 0][\"conc\"].min()/10\n",
        "p.replace(0, minconc, inplace=True)\n",
        "p[\"l10_conc\"] = np.round(np.log10(p[\"conc\"]),3)\n",
        "\n",
        "p.reset_index(drop=True)"
      ]
    },
    {
      "cell_type": "markdown",
      "metadata": {
        "id": "BiO4cRNNKNDg"
      },
      "source": [
        "#### Description of data  \n",
        "\n",
        "* `cellLine`: cell line name (in this case we are only using `par` which is PC9 parental cells (rather than discrete sublines); PC9 cells have an EGFR ex19 deletion making them more sensitive to EGFRi.  \n",
        "* `Well`: well name in the (96-well) plate  \n",
        "* `lum`: CellTiter-Glo luminescence value from plate reader (@ 72 h of drug exposure)  \n",
        "* `conc`: molar concentration of the EGFRi erlotinib  \n",
        "* `resp_ratio`: previously been calculated by normalizing to the values in the absence of drug (`conc==0`); for each `cellLine` and `exptDate`, dividing each `lum` value by the mean value of the no-drug controls.  \n",
        "* `l10_conc`: log10([erlotinib])  \n"
      ]
    },
    {
      "cell_type": "markdown",
      "metadata": {
        "id": "jmSr4FbdKNDg"
      },
      "source": [
        "#### Define a set of drug concentration values to get model-predicted output values for plotting"
      ]
    },
    {
      "cell_type": "code",
      "execution_count": 6,
      "metadata": {
        "id": "iFVb1eE2KNDg"
      },
      "outputs": [],
      "source": [
        "myconc = np.linspace(min(p.l10_conc)-1,max(p.l10_conc)+1.1,256)"
      ]
    },
    {
      "cell_type": "markdown",
      "metadata": {
        "id": "Y-yyvsesKNDh"
      },
      "source": [
        "#### Define groups using `exptDate`"
      ]
    },
    {
      "cell_type": "code",
      "execution_count": 7,
      "metadata": {
        "id": "ClG__DqOKNDh"
      },
      "outputs": [],
      "source": [
        "grouped = p.groupby(['exptDate'])"
      ]
    },
    {
      "cell_type": "markdown",
      "metadata": {
        "id": "8S-hfh9HKNDh"
      },
      "source": [
        "#### Perform nonlinear regression on data using the `ll4` model  \n",
        "Let's first look at each of the dates independently to assess consistency.  \n",
        "#### Use `scipy.optimize.curve_fit` to perform nonlinear regression (fit model parameters)  \n",
        "Fit data from each date independently.  "
      ]
    },
    {
      "cell_type": "code",
      "execution_count": 8,
      "metadata": {
        "id": "akwfqH5FKNDh",
        "outputId": "ba01f1cc-1bfc-47db-971c-75efb094bef0",
        "colab": {
          "base_uri": "https://localhost:8080/"
        }
      },
      "outputs": [
        {
          "output_type": "stream",
          "name": "stderr",
          "text": [
            "/usr/local/lib/python3.9/dist-packages/pandas/core/arraylike.py:397: RuntimeWarning: invalid value encountered in log\n",
            "  result = getattr(ufunc, method)(*inputs, **kwargs)\n"
          ]
        },
        {
          "output_type": "execute_result",
          "data": {
            "text/plain": [
              "[{'h': 6.423579978013302,\n",
              "  'E0': 27093.257247213438,\n",
              "  'Emax': 13158.749481116045,\n",
              "  'EC50': 1.404247338494078e-07,\n",
              "  'exptDate': '2012-03-20',\n",
              "  'residuals': 397947433.2360533},\n",
              " {'h': 8.042923106402922,\n",
              "  'E0': 18535.04166795928,\n",
              "  'Emax': 6811.874969042593,\n",
              "  'EC50': 2.0358760816689193e-08,\n",
              "  'exptDate': '2012-03-24',\n",
              "  'residuals': 318552722.17717135},\n",
              " {'h': 10.915005248456152,\n",
              "  'E0': 22308.350082554414,\n",
              "  'Emax': 8038.916575048717,\n",
              "  'EC50': 3.124530137388786e-08,\n",
              "  'exptDate': '2012-03-26',\n",
              "  'residuals': 327266924.728254}]"
            ]
          },
          "metadata": {},
          "execution_count": 8
        }
      ],
      "source": [
        "fitRawData = []\n",
        "for name, group in grouped:\n",
        "    fitCoefs, covMatrix = opt.curve_fit(ll4, group.conc, group.lum, p0=[5,20000,5000,1e-7])\n",
        "    resids = group.lum-group.conc.apply(lambda x: ll4(x,*fitCoefs))\n",
        "    curFit = dict(zip(['h','E0','Emax','EC50'],fitCoefs))\n",
        "    curFit['exptDate']=name\n",
        "    curFit['residuals']=sum(resids**2)\n",
        "    fitRawData.append(curFit)\n",
        "    \n",
        "fitRawData"
      ]
    },
    {
      "cell_type": "markdown",
      "metadata": {
        "id": "2CyBQMRXKNDi"
      },
      "source": [
        "#### Plot the data and predicted model fits using Seaborn"
      ]
    },
    {
      "cell_type": "code",
      "execution_count": 9,
      "metadata": {
        "id": "hDhL-AYxKNDi",
        "outputId": "c9585192-dd85-41e2-ded1-ce3249b1d48b",
        "colab": {
          "base_uri": "https://localhost:8080/",
          "height": 369
        }
      },
      "outputs": [
        {
          "output_type": "display_data",
          "data": {
            "text/plain": [
              "<Figure size 453.875x360 with 1 Axes>"
            ],
            "image/png": "[encoded data removed]"
          },
          "metadata": {
            "needs_background": "light"
          }
        }
      ],
      "source": [
        "b = sns.lmplot(x='l10_conc', y='lum', data=p, hue='exptDate',fit_reg=False)\n",
        "b.set(ylim=(0, None))\n",
        "for fit in fitRawData:\n",
        "    l = sns.lineplot(x=[i for i in myconc], y=[ll4(10**i,*[fit[i] for i in ['h','E0','Emax','EC50']]) for i in myconc], legend=False)"
      ]
    },
    {
      "cell_type": "markdown",
      "metadata": {
        "id": "-NNsBs2IKNDi"
      },
      "source": [
        "#### Perform nonlinear regression on data using `viability` model  \n",
        "Use `resp_ratio` values. "
      ]
    },
    {
      "cell_type": "code",
      "execution_count": 10,
      "metadata": {
        "id": "4dOxEBAQKNDj",
        "outputId": "c13883fa-d80f-4703-9f81-abc252808723",
        "colab": {
          "base_uri": "https://localhost:8080/"
        }
      },
      "outputs": [
        {
          "output_type": "stream",
          "name": "stderr",
          "text": [
            "/usr/local/lib/python3.9/dist-packages/scipy/optimize/_minpack_py.py:906: OptimizeWarning: Covariance of the parameters could not be estimated\n",
            "  warnings.warn('Covariance of the parameters could not be estimated',\n",
            "/usr/local/lib/python3.9/dist-packages/pandas/core/arraylike.py:397: RuntimeWarning: invalid value encountered in log\n",
            "  result = getattr(ufunc, method)(*inputs, **kwargs)\n"
          ]
        },
        {
          "output_type": "execute_result",
          "data": {
            "text/plain": [
              "[{'b': 10.352894269514579,\n",
              "  'd': 0.5027940965729858,\n",
              "  'e': 1.6177526816241253e-07,\n",
              "  'exptDate': '2012-03-20',\n",
              "  'residuals': 0.6157521512390112},\n",
              " {'b': 8.705902708143602,\n",
              "  'd': 0.3751032481346804,\n",
              "  'e': 2.049937196826632e-08,\n",
              "  'exptDate': '2012-03-24',\n",
              "  'residuals': 0.9761750322879349},\n",
              " {'b': 12.019215163800842,\n",
              "  'd': 0.3741380237587055,\n",
              "  'e': 3.1595393728812104e-08,\n",
              "  'exptDate': '2012-03-26',\n",
              "  'residuals': 0.7381374312834175}]"
            ]
          },
          "metadata": {},
          "execution_count": 10
        }
      ],
      "source": [
        "fitRatioData = []\n",
        "for name, group in grouped:\n",
        "    fitCoefs, covMatrix = opt.curve_fit(viability, group.conc, group.resp_ratio, p0=[1,0,1e-7])\n",
        "    resids = group.resp_ratio-group.conc.apply(lambda x: viability(x,*fitCoefs))\n",
        "    curFit = dict(zip(['b','d','e'],fitCoefs))\n",
        "    curFit['exptDate']=name\n",
        "    curFit['residuals']=sum(resids**2)\n",
        "    fitRatioData.append(curFit)\n",
        "    \n",
        "fitRatioData"
      ]
    },
    {
      "cell_type": "code",
      "execution_count": 11,
      "metadata": {
        "id": "EUa7y47pKNDj"
      },
      "outputs": [],
      "source": [
        "#### Plot the data and predicted model fits using Seaborn"
      ]
    },
    {
      "cell_type": "code",
      "execution_count": 12,
      "metadata": {
        "id": "jJBx8eydKNDj",
        "outputId": "b44efc02-962e-48b8-e194-18fad61547bf",
        "colab": {
          "base_uri": "https://localhost:8080/",
          "height": 373
        }
      },
      "outputs": [
        {
          "output_type": "display_data",
          "data": {
            "text/plain": [
              "<Figure size 453.875x360 with 1 Axes>"
            ],
            "image/png": "[encoded data removed]"
          },
          "metadata": {
            "needs_background": "light"
          }
        }
      ],
      "source": [
        "a = sns.lmplot(x='l10_conc', y='resp_ratio', data=p, hue='exptDate',fit_reg=False)\n",
        "a.set(ylim=(0, 1.4))\n",
        "for fit in fitRatioData:\n",
        "    l = sns.lineplot(x=[i for i in myconc], y=[viability(10**i,*[fit[i] for i in ['b','d','e']]) for i in myconc], legend=False)"
      ]
    },
    {
      "cell_type": "code",
      "execution_count": 13,
      "metadata": {
        "id": "ZqjQFVBRKNDk",
        "outputId": "76d87a83-bab4-453f-8dad-af7c6fe5a372",
        "colab": {
          "base_uri": "https://localhost:8080/",
          "height": 576
        }
      },
      "outputs": [
        {
          "output_type": "execute_result",
          "data": {
            "text/plain": [
              "    l10_conc      mean       std          conc\n",
              "0    -13.699  1.000000  0.180392  1.999862e-14\n",
              "1    -12.699  1.036115  0.134687  1.999862e-13\n",
              "2    -11.699  1.039790  0.199748  1.999862e-12\n",
              "3    -10.699  1.010883  0.142711  1.999862e-11\n",
              "4    -10.291  1.054499  0.210896  5.116818e-11\n",
              "5     -9.699  1.034374  0.152811  1.999862e-10\n",
              "6     -9.592  1.055267  0.182893  2.558586e-10\n",
              "7     -8.893  1.034929  0.171832  1.279381e-09\n",
              "8     -8.699  1.046473  0.177480  1.999862e-09\n",
              "9     -8.194  1.046552  0.247222  6.397348e-09\n",
              "10    -7.699  0.878108  0.245007  1.999862e-08\n",
              "11    -7.495  0.663184  0.148731  3.198895e-08\n",
              "12    -6.796  0.382310  0.079525  1.599558e-07\n",
              "13    -6.699  0.465101  0.122453  1.999862e-07\n",
              "14    -6.097  0.384171  0.066726  7.998343e-07\n",
              "15    -5.699  0.437686  0.111417  1.999862e-06\n",
              "16    -5.398  0.355933  0.081800  3.999447e-06"
            ],
            "text/html": [
              "\n",
              "  <div id=\"df-ebb375ff-1f39-43f0-9fa1-b7ac47a2ca9e\">\n",
              "    <div class=\"colab-df-container\">\n",
              "      <div>\n",
              "<style scoped>\n",
              "    .dataframe tbody tr th:only-of-type {\n",
              "        vertical-align: middle;\n",
              "    }\n",
              "\n",
              "    .dataframe tbody tr th {\n",
              "        vertical-align: top;\n",
              "    }\n",
              "\n",
              "    .dataframe thead th {\n",
              "        text-align: right;\n",
              "    }\n",
              "</style>\n",
              "<table border=\"1\" class=\"dataframe\">\n",
              "  <thead>\n",
              "    <tr style=\"text-align: right;\">\n",
              "      <th></th>\n",
              "      <th>l10_conc</th>\n",
              "      <th>mean</th>\n",
              "      <th>std</th>\n",
              "      <th>conc</th>\n",
              "    </tr>\n",
              "  </thead>\n",
              "  <tbody>\n",
              "    <tr>\n",
              "      <th>0</th>\n",
              "      <td>-13.699</td>\n",
              "      <td>1.000000</td>\n",
              "      <td>0.180392</td>\n",
              "      <td>1.999862e-14</td>\n",
              "    </tr>\n",
              "    <tr>\n",
              "      <th>1</th>\n",
              "      <td>-12.699</td>\n",
              "      <td>1.036115</td>\n",
              "      <td>0.134687</td>\n",
              "      <td>1.999862e-13</td>\n",
              "    </tr>\n",
              "    <tr>\n",
              "      <th>2</th>\n",
              "      <td>-11.699</td>\n",
              "      <td>1.039790</td>\n",
              "      <td>0.199748</td>\n",
              "      <td>1.999862e-12</td>\n",
              "    </tr>\n",
              "    <tr>\n",
              "      <th>3</th>\n",
              "      <td>-10.699</td>\n",
              "      <td>1.010883</td>\n",
              "      <td>0.142711</td>\n",
              "      <td>1.999862e-11</td>\n",
              "    </tr>\n",
              "    <tr>\n",
              "      <th>4</th>\n",
              "      <td>-10.291</td>\n",
              "      <td>1.054499</td>\n",
              "      <td>0.210896</td>\n",
              "      <td>5.116818e-11</td>\n",
              "    </tr>\n",
              "    <tr>\n",
              "      <th>5</th>\n",
              "      <td>-9.699</td>\n",
              "      <td>1.034374</td>\n",
              "      <td>0.152811</td>\n",
              "      <td>1.999862e-10</td>\n",
              "    </tr>\n",
              "    <tr>\n",
              "      <th>6</th>\n",
              "      <td>-9.592</td>\n",
              "      <td>1.055267</td>\n",
              "      <td>0.182893</td>\n",
              "      <td>2.558586e-10</td>\n",
              "    </tr>\n",
              "    <tr>\n",
              "      <th>7</th>\n",
              "      <td>-8.893</td>\n",
              "      <td>1.034929</td>\n",
              "      <td>0.171832</td>\n",
              "      <td>1.279381e-09</td>\n",
              "    </tr>\n",
              "    <tr>\n",
              "      <th>8</th>\n",
              "      <td>-8.699</td>\n",
              "      <td>1.046473</td>\n",
              "      <td>0.177480</td>\n",
              "      <td>1.999862e-09</td>\n",
              "    </tr>\n",
              "    <tr>\n",
              "      <th>9</th>\n",
              "      <td>-8.194</td>\n",
              "      <td>1.046552</td>\n",
              "      <td>0.247222</td>\n",
              "      <td>6.397348e-09</td>\n",
              "    </tr>\n",
              "    <tr>\n",
              "      <th>10</th>\n",
              "      <td>-7.699</td>\n",
              "      <td>0.878108</td>\n",
              "      <td>0.245007</td>\n",
              "      <td>1.999862e-08</td>\n",
              "    </tr>\n",
              "    <tr>\n",
              "      <th>11</th>\n",
              "      <td>-7.495</td>\n",
              "      <td>0.663184</td>\n",
              "      <td>0.148731</td>\n",
              "      <td>3.198895e-08</td>\n",
              "    </tr>\n",
              "    <tr>\n",
              "      <th>12</th>\n",
              "      <td>-6.796</td>\n",
              "      <td>0.382310</td>\n",
              "      <td>0.079525</td>\n",
              "      <td>1.599558e-07</td>\n",
              "    </tr>\n",
              "    <tr>\n",
              "      <th>13</th>\n",
              "      <td>-6.699</td>\n",
              "      <td>0.465101</td>\n",
              "      <td>0.122453</td>\n",
              "      <td>1.999862e-07</td>\n",
              "    </tr>\n",
              "    <tr>\n",
              "      <th>14</th>\n",
              "      <td>-6.097</td>\n",
              "      <td>0.384171</td>\n",
              "      <td>0.066726</td>\n",
              "      <td>7.998343e-07</td>\n",
              "    </tr>\n",
              "    <tr>\n",
              "      <th>15</th>\n",
              "      <td>-5.699</td>\n",
              "      <td>0.437686</td>\n",
              "      <td>0.111417</td>\n",
              "      <td>1.999862e-06</td>\n",
              "    </tr>\n",
              "    <tr>\n",
              "      <th>16</th>\n",
              "      <td>-5.398</td>\n",
              "      <td>0.355933</td>\n",
              "      <td>0.081800</td>\n",
              "      <td>3.999447e-06</td>\n",
              "    </tr>\n",
              "  </tbody>\n",
              "</table>\n",
              "</div>\n",
              "      <button class=\"colab-df-convert\" onclick=\"convertToInteractive('df-ebb375ff-1f39-43f0-9fa1-b7ac47a2ca9e')\"\n",
              "              title=\"Convert this dataframe to an interactive table.\"\n",
              "              style=\"display:none;\">\n",
              "        \n",
              "  <svg xmlns=\"http://www.w3.org/2000/svg\" height=\"24px\"viewBox=\"0 0 24 24\"\n",
              "       width=\"24px\">\n",
              "    <path d=\"M0 0h24v24H0V0z\" fill=\"none\"/>\n",
              "    <path d=\"M18.56 5.44l.94 2.06.94-2.06 2.06-.94-2.06-.94-.94-2.06-.94 2.06-2.06.94zm-11 1L8.5 8.5l.94-2.06 2.06-.94-2.06-.94L8.5 2.5l-.94 2.06-2.06.94zm10 10l.94 2.06.94-2.06 2.06-.94-2.06-.94-.94-2.06-.94 2.06-2.06.94z\"/><path d=\"M17.41 7.96l-1.37-1.37c-.4-.4-.92-.59-1.43-.59-.52 0-1.04.2-1.43.59L10.3 9.45l-7.72 7.72c-.78.78-.78 2.05 0 2.83L4 21.41c.39.39.9.59 1.41.59.51 0 1.02-.2 1.41-.59l7.78-7.78 2.81-2.81c.8-.78.8-2.07 0-2.86zM5.41 20L4 18.59l7.72-7.72 1.47 1.35L5.41 20z\"/>\n",
              "  </svg>\n",
              "      </button>\n",
              "      \n",
              "  <style>\n",
              "    .colab-df-container {\n",
              "      display:flex;\n",
              "      flex-wrap:wrap;\n",
              "      gap: 12px;\n",
              "    }\n",
              "\n",
              "    .colab-df-convert {\n",
              "      background-color: #E8F0FE;\n",
              "      border: none;\n",
              "      border-radius: 50%;\n",
              "      cursor: pointer;\n",
              "      display: none;\n",
              "      fill: #1967D2;\n",
              "      height: 32px;\n",
              "      padding: 0 0 0 0;\n",
              "      width: 32px;\n",
              "    }\n",
              "\n",
              "    .colab-df-convert:hover {\n",
              "      background-color: #E2EBFA;\n",
              "      box-shadow: 0px 1px 2px rgba(60, 64, 67, 0.3), 0px 1px 3px 1px rgba(60, 64, 67, 0.15);\n",
              "      fill: #174EA6;\n",
              "    }\n",
              "\n",
              "    [theme=dark] .colab-df-convert {\n",
              "      background-color: #3B4455;\n",
              "      fill: #D2E3FC;\n",
              "    }\n",
              "\n",
              "    [theme=dark] .colab-df-convert:hover {\n",
              "      background-color: #434B5C;\n",
              "      box-shadow: 0px 1px 3px 1px rgba(0, 0, 0, 0.15);\n",
              "      filter: drop-shadow(0px 1px 2px rgba(0, 0, 0, 0.3));\n",
              "      fill: #FFFFFF;\n",
              "    }\n",
              "  </style>\n",
              "\n",
              "      <script>\n",
              "        const buttonEl =\n",
              "          document.querySelector('#df-ebb375ff-1f39-43f0-9fa1-b7ac47a2ca9e button.colab-df-convert');\n",
              "        buttonEl.style.display =\n",
              "          google.colab.kernel.accessAllowed ? 'block' : 'none';\n",
              "\n",
              "        async function convertToInteractive(key) {\n",
              "          const element = document.querySelector('#df-ebb375ff-1f39-43f0-9fa1-b7ac47a2ca9e');\n",
              "          const dataTable =\n",
              "            await google.colab.kernel.invokeFunction('convertToInteractive',\n",
              "                                                     [key], {});\n",
              "          if (!dataTable) return;\n",
              "\n",
              "          const docLinkHtml = 'Like what you see? Visit the ' +\n",
              "            '<a target=\"_blank\" href=https://colab.research.google.com/notebooks/data_table.ipynb>data table notebook</a>'\n",
              "            + ' to learn more about interactive tables.';\n",
              "          element.innerHTML = '';\n",
              "          dataTable['output_type'] = 'display_data';\n",
              "          await google.colab.output.renderOutput(dataTable, element);\n",
              "          const docLink = document.createElement('div');\n",
              "          docLink.innerHTML = docLinkHtml;\n",
              "          element.appendChild(docLink);\n",
              "        }\n",
              "      </script>\n",
              "    </div>\n",
              "  </div>\n",
              "  "
            ]
          },
          "metadata": {},
          "execution_count": 13
        }
      ],
      "source": [
        "m = p[[\"l10_conc\",\"resp_ratio\"]].groupby(['l10_conc']).agg(['mean', 'std'])\n",
        "m = m.xs('resp_ratio', axis=1, drop_level=True)\n",
        "m.reset_index(inplace=True)\n",
        "m['conc'] = 10**m['l10_conc']\n",
        "m"
      ]
    },
    {
      "cell_type": "markdown",
      "metadata": {
        "id": "qtz6mCN0KNDk"
      },
      "source": [
        "#### Fit ll4 model to resp_ratio means\n"
      ]
    },
    {
      "cell_type": "code",
      "execution_count": 14,
      "metadata": {
        "id": "hcjcv5WCKNDk"
      },
      "outputs": [],
      "source": [
        "fitCoefs, covMatrix = opt.curve_fit(viability, m['conc'], m['mean'], p0=[1,0,1e-7])"
      ]
    },
    {
      "cell_type": "markdown",
      "metadata": {
        "id": "cNgHyu_yKNDk"
      },
      "source": [
        "#### Plot the data and predicted curve"
      ]
    },
    {
      "cell_type": "code",
      "execution_count": 15,
      "metadata": {
        "id": "DOKJwOaTKNDk",
        "outputId": "26b13296-aafc-48ee-933f-86db88e72d6e",
        "colab": {
          "base_uri": "https://localhost:8080/",
          "height": 386
        }
      },
      "outputs": [
        {
          "output_type": "execute_result",
          "data": {
            "text/plain": [
              "<AxesSubplot:xlabel='l10_conc', ylabel='mean'>"
            ]
          },
          "metadata": {},
          "execution_count": 15
        },
        {
          "output_type": "display_data",
          "data": {
            "text/plain": [
              "<Figure size 360x360 with 1 Axes>"
            ],
            "image/png": "[encoded data removed]"
          },
          "metadata": {
            "needs_background": "light"
          }
        }
      ],
      "source": [
        "a = sns.lmplot(x='l10_conc', y='mean', data=m, fit_reg=False)\n",
        "a.set(ylim=(0, 1.1))\n",
        "sns.lineplot(x=[i for i in myconc], y=[viability(10**i,*fitCoefs) for i in myconc], legend=False)"
      ]
    },
    {
      "cell_type": "code",
      "execution_count": 16,
      "metadata": {
        "id": "4R6j4uRHKNDl",
        "outputId": "41f6a460-4976-4905-d8b8-112000179041",
        "colab": {
          "base_uri": "https://localhost:8080/"
        }
      },
      "outputs": [
        {
          "output_type": "execute_result",
          "data": {
            "text/plain": [
              "array([3.57228479e+00, 4.04706660e-01, 2.95996688e-08])"
            ]
          },
          "metadata": {},
          "execution_count": 16
        }
      ],
      "source": [
        "fitCoefs"
      ]
    },
    {
      "cell_type": "code",
      "execution_count": 17,
      "metadata": {
        "id": "cvQXwPUVKNDl",
        "outputId": "675bc1ab-6f24-4ef8-ba46-202ebca49c5a",
        "colab": {
          "base_uri": "https://localhost:8080/"
        }
      },
      "outputs": [
        {
          "output_type": "stream",
          "name": "stdout",
          "text": [
            "EC50 of erlotinib on PC9 parental cells is 29.6 nM\n"
          ]
        }
      ],
      "source": [
        "print(f\"EC50 of erlotinib on PC9 parental cells is {np.round(fitCoefs[2] * 10**9,3)} nM\")"
      ]
    },
    {
      "cell_type": "code",
      "execution_count": 17,
      "metadata": {
        "id": "WsBtbKcRKNDl"
      },
      "outputs": [],
      "source": []
    }
  ],
  "metadata": {
    "kernelspec": {
      "display_name": "thunor",
      "language": "python",
      "name": "thunor"
    },
    "language_info": {
      "codemirror_mode": {
        "name": "ipython",
        "version": 3
      },
      "file_extension": ".py",
      "mimetype": "text/x-python",
      "name": "python",
      "nbconvert_exporter": "python",
      "pygments_lexer": "ipython3",
      "version": "3.11.0"
    },
    "colab": {
      "provenance": []
    }
  },
  "nbformat": 4,
  "nbformat_minor": 0
}